{
 "cells": [
  {
   "cell_type": "code",
   "execution_count": 1,
   "metadata": {},
   "outputs": [],
   "source": [
    "import numpy as np\n",
    "import pandas as pd\n",
    "import matplotlib.pyplot as plt\n",
    "%matplotlib inline\n",
    "import seaborn as sns\n",
    "import pickle \n",
    "import nltk\n",
    "from nltk.tokenize import word_tokenize\n",
    "from nltk.corpus import stopwords\n",
    "from collections import Counter\n",
    "from sklearn.model_selection import train_test_split\n",
    "from sklearn.model_selection import cross_val_score\n",
    "from sklearn.model_selection import KFold\n",
    "from sklearn.linear_model import LogisticRegression\n",
    "from sklearn.ensemble import RandomForestClassifier\n",
    "from sklearn.cluster import KMeans\n",
    "from sklearn.svm import SVC\n",
    "from sklearn.tree import DecisionTreeClassifier\n",
    "from sklearn.naive_bayes import GaussianNB\n",
    "from sklearn.model_selection import GridSearchCV\n",
    "from sklearn.metrics import confusion_matrix, accuracy_score, roc_auc_score, f1_score\n",
    "from sklearn.feature_selection import RFE\n",
    "from sklearn.decomposition import PCA"
   ]
  },
  {
   "cell_type": "code",
   "execution_count": 2,
   "metadata": {},
   "outputs": [],
   "source": [
    "pickle_in = open(\"indeed_db_v2.pickle\", 'rb')\n",
    "s_v2 = pickle.load(pickle_in)"
   ]
  },
  {
   "cell_type": "code",
   "execution_count": 3,
   "metadata": {},
   "outputs": [
    {
     "data": {
      "text/plain": [
       "Index(['entreprise', 'keyword_metier', 'description', 'ID', 'Contract',\n",
       "       'Location', 'Salary_type', 'Salary_clean', 'Salary', 'Job_class',\n",
       "       'Job_title', 'Description', 'Description_filtered', 'Data_qualities',\n",
       "       'Num_data_qualities', 'Data_skills', 'Num_data_skills', 'Dev_qualities',\n",
       "       'Num_dev_qualities', 'Dev_skills', 'Num_dev_skills',\n",
       "       'No_technical_skills', 'Num_no_technical_skills', 'Experience'],\n",
       "      dtype='object')"
      ]
     },
     "execution_count": 3,
     "metadata": {},
     "output_type": "execute_result"
    }
   ],
   "source": [
    "s_v2.columns"
   ]
  },
  {
   "cell_type": "code",
   "execution_count": 4,
   "metadata": {},
   "outputs": [
    {
     "name": "stderr",
     "output_type": "stream",
     "text": [
      "/anaconda3/lib/python3.7/site-packages/ipykernel_launcher.py:6: SettingWithCopyWarning: \n",
      "A value is trying to be set on a copy of a slice from a DataFrame.\n",
      "Try using .loc[row_indexer,col_indexer] = value instead\n",
      "\n",
      "See the caveats in the documentation: http://pandas.pydata.org/pandas-docs/stable/indexing.html#indexing-view-versus-copy\n",
      "  \n"
     ]
    }
   ],
   "source": [
    "oas = s_v2[s_v2['Salary_type'] == 'y']  ####Select job announce with annual salaries\n",
    "\n",
    "#How many rows of type data\n",
    "#oas['Job_class'].value_counts()\n",
    "\n",
    "oas['Salary'] = oas['Salary'].astype('int') ##Convert Salary into integer \n",
    "\n",
    "oas = oas[oas['Contract'] != 'contrat pro'] ##Delete contrat pro \n",
    "oas.reset_index(drop=True, inplace=True)    ##reset index after dropping rows "
   ]
  },
  {
   "cell_type": "code",
   "execution_count": 5,
   "metadata": {},
   "outputs": [
    {
     "data": {
      "text/html": [
       "<div>\n",
       "<style scoped>\n",
       "    .dataframe tbody tr th:only-of-type {\n",
       "        vertical-align: middle;\n",
       "    }\n",
       "\n",
       "    .dataframe tbody tr th {\n",
       "        vertical-align: top;\n",
       "    }\n",
       "\n",
       "    .dataframe thead th {\n",
       "        text-align: right;\n",
       "    }\n",
       "</style>\n",
       "<table border=\"1\" class=\"dataframe\">\n",
       "  <thead>\n",
       "    <tr style=\"text-align: right;\">\n",
       "      <th></th>\n",
       "      <th>entreprise</th>\n",
       "      <th>keyword_metier</th>\n",
       "      <th>description</th>\n",
       "      <th>ID</th>\n",
       "      <th>Contract</th>\n",
       "      <th>Location</th>\n",
       "      <th>Salary_type</th>\n",
       "      <th>Salary_clean</th>\n",
       "      <th>Salary</th>\n",
       "      <th>Job_class</th>\n",
       "      <th>...</th>\n",
       "      <th>Num_data_qualities</th>\n",
       "      <th>Data_skills</th>\n",
       "      <th>Num_data_skills</th>\n",
       "      <th>Dev_qualities</th>\n",
       "      <th>Num_dev_qualities</th>\n",
       "      <th>Dev_skills</th>\n",
       "      <th>Num_dev_skills</th>\n",
       "      <th>No_technical_skills</th>\n",
       "      <th>Num_no_technical_skills</th>\n",
       "      <th>Experience</th>\n",
       "    </tr>\n",
       "  </thead>\n",
       "  <tbody>\n",
       "    <tr>\n",
       "      <th>0</th>\n",
       "      <td>badenoch &amp; clark</td>\n",
       "      <td>cyber securité</td>\n",
       "      <td>localité bordeaux\\nbadenoch + clark, cabinet d...</td>\n",
       "      <td>bb1ce865eacc6833</td>\n",
       "      <td>cdi</td>\n",
       "      <td>33</td>\n",
       "      <td>y</td>\n",
       "      <td>65000-75000</td>\n",
       "      <td>70000</td>\n",
       "      <td>0</td>\n",
       "      <td>...</td>\n",
       "      <td>1</td>\n",
       "      <td>[]</td>\n",
       "      <td>0</td>\n",
       "      <td>[]</td>\n",
       "      <td>0</td>\n",
       "      <td>[]</td>\n",
       "      <td>0</td>\n",
       "      <td>[communication, gestion, anglais]</td>\n",
       "      <td>3</td>\n",
       "      <td>3</td>\n",
       "    </tr>\n",
       "    <tr>\n",
       "      <th>1</th>\n",
       "      <td>manpower</td>\n",
       "      <td>cyber securité</td>\n",
       "      <td>l'entreprise\\nmanpower cabinet recrutement bor...</td>\n",
       "      <td>81e0457a745c8d29</td>\n",
       "      <td>cdi</td>\n",
       "      <td>33</td>\n",
       "      <td>y</td>\n",
       "      <td>35000-40000</td>\n",
       "      <td>37500</td>\n",
       "      <td>0</td>\n",
       "      <td>...</td>\n",
       "      <td>1</td>\n",
       "      <td>[]</td>\n",
       "      <td>0</td>\n",
       "      <td>[]</td>\n",
       "      <td>0</td>\n",
       "      <td>[]</td>\n",
       "      <td>0</td>\n",
       "      <td>[communication, gestion]</td>\n",
       "      <td>2</td>\n",
       "      <td>1</td>\n",
       "    </tr>\n",
       "    <tr>\n",
       "      <th>2</th>\n",
       "      <td>randstad search</td>\n",
       "      <td>data consultant</td>\n",
       "      <td>randstad search recrute pour un cabinet de con...</td>\n",
       "      <td>e04ee30b5b586da7</td>\n",
       "      <td>cdi</td>\n",
       "      <td>33</td>\n",
       "      <td>y</td>\n",
       "      <td>40000</td>\n",
       "      <td>40000</td>\n",
       "      <td>1</td>\n",
       "      <td>...</td>\n",
       "      <td>0</td>\n",
       "      <td>[tableau]</td>\n",
       "      <td>1</td>\n",
       "      <td>[]</td>\n",
       "      <td>0</td>\n",
       "      <td>[]</td>\n",
       "      <td>0</td>\n",
       "      <td>[gestion]</td>\n",
       "      <td>1</td>\n",
       "      <td>1</td>\n",
       "    </tr>\n",
       "    <tr>\n",
       "      <th>3</th>\n",
       "      <td>synchrone</td>\n",
       "      <td>data consultant</td>\n",
       "      <td>votre rôle, vos responsabilités\\nnous menons u...</td>\n",
       "      <td>04f8e416e7139d1f</td>\n",
       "      <td>cdi</td>\n",
       "      <td>75</td>\n",
       "      <td>y</td>\n",
       "      <td>25000-50000</td>\n",
       "      <td>37500</td>\n",
       "      <td>1</td>\n",
       "      <td>...</td>\n",
       "      <td>1</td>\n",
       "      <td>[]</td>\n",
       "      <td>0</td>\n",
       "      <td>[cloud, fullstack, mobile]</td>\n",
       "      <td>3</td>\n",
       "      <td>[css, html, api, java]</td>\n",
       "      <td>4</td>\n",
       "      <td>[agile]</td>\n",
       "      <td>1</td>\n",
       "      <td>1</td>\n",
       "    </tr>\n",
       "    <tr>\n",
       "      <th>4</th>\n",
       "      <td>synchrone</td>\n",
       "      <td>data consultant</td>\n",
       "      <td>votre rôle, vos responsabilités\\nnous menons u...</td>\n",
       "      <td>ce29173ff827a5a6</td>\n",
       "      <td>cdi</td>\n",
       "      <td>75</td>\n",
       "      <td>y</td>\n",
       "      <td>30000-55000</td>\n",
       "      <td>42500</td>\n",
       "      <td>1</td>\n",
       "      <td>...</td>\n",
       "      <td>0</td>\n",
       "      <td>[python]</td>\n",
       "      <td>1</td>\n",
       "      <td>[cloud, mobile]</td>\n",
       "      <td>2</td>\n",
       "      <td>[]</td>\n",
       "      <td>0</td>\n",
       "      <td>[]</td>\n",
       "      <td>0</td>\n",
       "      <td>2</td>\n",
       "    </tr>\n",
       "  </tbody>\n",
       "</table>\n",
       "<p>5 rows × 24 columns</p>\n",
       "</div>"
      ],
      "text/plain": [
       "         entreprise   keyword_metier  \\\n",
       "0  badenoch & clark   cyber securité   \n",
       "1          manpower   cyber securité   \n",
       "2   randstad search  data consultant   \n",
       "3         synchrone  data consultant   \n",
       "4         synchrone  data consultant   \n",
       "\n",
       "                                         description                ID  \\\n",
       "0  localité bordeaux\\nbadenoch + clark, cabinet d...  bb1ce865eacc6833   \n",
       "1  l'entreprise\\nmanpower cabinet recrutement bor...  81e0457a745c8d29   \n",
       "2  randstad search recrute pour un cabinet de con...  e04ee30b5b586da7   \n",
       "3  votre rôle, vos responsabilités\\nnous menons u...  04f8e416e7139d1f   \n",
       "4  votre rôle, vos responsabilités\\nnous menons u...  ce29173ff827a5a6   \n",
       "\n",
       "  Contract Location Salary_type Salary_clean  Salary  Job_class  ...  \\\n",
       "0      cdi       33           y  65000-75000   70000          0  ...   \n",
       "1      cdi       33           y  35000-40000   37500          0  ...   \n",
       "2      cdi       33           y        40000   40000          1  ...   \n",
       "3      cdi       75           y  25000-50000   37500          1  ...   \n",
       "4      cdi       75           y  30000-55000   42500          1  ...   \n",
       "\n",
       "  Num_data_qualities Data_skills Num_data_skills               Dev_qualities  \\\n",
       "0                  1          []               0                          []   \n",
       "1                  1          []               0                          []   \n",
       "2                  0   [tableau]               1                          []   \n",
       "3                  1          []               0  [cloud, fullstack, mobile]   \n",
       "4                  0    [python]               1             [cloud, mobile]   \n",
       "\n",
       "   Num_dev_qualities              Dev_skills  Num_dev_skills  \\\n",
       "0                  0                      []               0   \n",
       "1                  0                      []               0   \n",
       "2                  0                      []               0   \n",
       "3                  3  [css, html, api, java]               4   \n",
       "4                  2                      []               0   \n",
       "\n",
       "                 No_technical_skills  Num_no_technical_skills Experience  \n",
       "0  [communication, gestion, anglais]                        3          3  \n",
       "1           [communication, gestion]                        2          1  \n",
       "2                          [gestion]                        1          1  \n",
       "3                            [agile]                        1          1  \n",
       "4                                 []                        0          2  \n",
       "\n",
       "[5 rows x 24 columns]"
      ]
     },
     "execution_count": 5,
     "metadata": {},
     "output_type": "execute_result"
    }
   ],
   "source": [
    "oas.head()"
   ]
  },
  {
   "cell_type": "code",
   "execution_count": 6,
   "metadata": {},
   "outputs": [
    {
     "data": {
      "text/plain": [
       "Index(['entreprise', 'keyword_metier', 'description', 'ID', 'Contract',\n",
       "       'Location', 'Salary_type', 'Salary_clean', 'Salary', 'Job_class',\n",
       "       'Job_title', 'Description', 'Description_filtered', 'Data_qualities',\n",
       "       'Num_data_qualities', 'Data_skills', 'Num_data_skills', 'Dev_qualities',\n",
       "       'Num_dev_qualities', 'Dev_skills', 'Num_dev_skills',\n",
       "       'No_technical_skills', 'Num_no_technical_skills', 'Experience'],\n",
       "      dtype='object')"
      ]
     },
     "execution_count": 6,
     "metadata": {},
     "output_type": "execute_result"
    }
   ],
   "source": [
    "oas.columns"
   ]
  },
  {
   "cell_type": "code",
   "execution_count": 7,
   "metadata": {},
   "outputs": [
    {
     "data": {
      "text/plain": [
       "cdi                        1642\n",
       "cdd                          13\n",
       "intérim                      10\n",
       "freelance / indépendant       4\n",
       "Name: Contract, dtype: int64"
      ]
     },
     "execution_count": 7,
     "metadata": {},
     "output_type": "execute_result"
    }
   ],
   "source": [
    "oas['Contract'].value_counts()"
   ]
  },
  {
   "cell_type": "code",
   "execution_count": 8,
   "metadata": {},
   "outputs": [],
   "source": [
    "dummy = oas[['Salary_clean', 'Salary', 'Job_class', 'Experience', 'Contract', 'Location', \\\n",
    "     'Job_title', 'Description', 'Description_filtered']]"
   ]
  },
  {
   "cell_type": "code",
   "execution_count": 9,
   "metadata": {},
   "outputs": [
    {
     "data": {
      "text/plain": [
       "(1669, 9)"
      ]
     },
     "execution_count": 9,
     "metadata": {},
     "output_type": "execute_result"
    }
   ],
   "source": [
    "dummy.shape"
   ]
  },
  {
   "cell_type": "markdown",
   "metadata": {},
   "source": [
    "# Create columns of y: max, min, mean; cut3, cut4, qcut3, qcut4 "
   ]
  },
  {
   "cell_type": "code",
   "execution_count": 10,
   "metadata": {},
   "outputs": [
    {
     "name": "stderr",
     "output_type": "stream",
     "text": [
      "/anaconda3/lib/python3.7/site-packages/ipykernel_launcher.py:1: SettingWithCopyWarning: \n",
      "A value is trying to be set on a copy of a slice from a DataFrame.\n",
      "Try using .loc[row_indexer,col_indexer] = value instead\n",
      "\n",
      "See the caveats in the documentation: http://pandas.pydata.org/pandas-docs/stable/indexing.html#indexing-view-versus-copy\n",
      "  \"\"\"Entry point for launching an IPython kernel.\n",
      "/anaconda3/lib/python3.7/site-packages/ipykernel_launcher.py:2: SettingWithCopyWarning: \n",
      "A value is trying to be set on a copy of a slice from a DataFrame.\n",
      "Try using .loc[row_indexer,col_indexer] = value instead\n",
      "\n",
      "See the caveats in the documentation: http://pandas.pydata.org/pandas-docs/stable/indexing.html#indexing-view-versus-copy\n",
      "  \n"
     ]
    }
   ],
   "source": [
    "dummy['Salary_max'] = '0'  #Create Salary Maximum column\n",
    "dummy['Salary_min'] = '0'  #Create Salary Minimum column "
   ]
  },
  {
   "cell_type": "code",
   "execution_count": 11,
   "metadata": {
    "scrolled": true
   },
   "outputs": [
    {
     "data": {
      "text/plain": [
       "0    65000-75000\n",
       "1    35000-40000\n",
       "2          40000\n",
       "3    25000-50000\n",
       "4    30000-55000\n",
       "Name: Salary_clean, dtype: object"
      ]
     },
     "execution_count": 11,
     "metadata": {},
     "output_type": "execute_result"
    }
   ],
   "source": [
    "dummy['Salary_clean'].head()"
   ]
  },
  {
   "cell_type": "code",
   "execution_count": 12,
   "metadata": {},
   "outputs": [
    {
     "name": "stderr",
     "output_type": "stream",
     "text": [
      "/anaconda3/lib/python3.7/site-packages/ipykernel_launcher.py:1: SettingWithCopyWarning: \n",
      "A value is trying to be set on a copy of a slice from a DataFrame.\n",
      "Try using .loc[row_indexer,col_indexer] = value instead\n",
      "\n",
      "See the caveats in the documentation: http://pandas.pydata.org/pandas-docs/stable/indexing.html#indexing-view-versus-copy\n",
      "  \"\"\"Entry point for launching an IPython kernel.\n"
     ]
    }
   ],
   "source": [
    "dummy['Salary_clean'] = dummy['Salary_clean'].str.split('-')"
   ]
  },
  {
   "cell_type": "code",
   "execution_count": 13,
   "metadata": {},
   "outputs": [
    {
     "data": {
      "text/plain": [
       "0    [65000, 75000]\n",
       "1    [35000, 40000]\n",
       "2           [40000]\n",
       "3    [25000, 50000]\n",
       "4    [30000, 55000]\n",
       "Name: Salary_clean, dtype: object"
      ]
     },
     "execution_count": 13,
     "metadata": {},
     "output_type": "execute_result"
    }
   ],
   "source": [
    "dummy['Salary_clean'].head()"
   ]
  },
  {
   "cell_type": "code",
   "execution_count": 14,
   "metadata": {},
   "outputs": [
    {
     "name": "stderr",
     "output_type": "stream",
     "text": [
      "/anaconda3/lib/python3.7/site-packages/ipykernel_launcher.py:1: SettingWithCopyWarning: \n",
      "A value is trying to be set on a copy of a slice from a DataFrame.\n",
      "Try using .loc[row_indexer,col_indexer] = value instead\n",
      "\n",
      "See the caveats in the documentation: http://pandas.pydata.org/pandas-docs/stable/indexing.html#indexing-view-versus-copy\n",
      "  \"\"\"Entry point for launching an IPython kernel.\n"
     ]
    }
   ],
   "source": [
    "dummy['Salary_clean'] = dummy['Salary_clean'].apply(lambda x: x*2 if len(x) == 1 else x)"
   ]
  },
  {
   "cell_type": "code",
   "execution_count": 15,
   "metadata": {},
   "outputs": [
    {
     "data": {
      "text/plain": [
       "0    [65000, 75000]\n",
       "1    [35000, 40000]\n",
       "2    [40000, 40000]\n",
       "3    [25000, 50000]\n",
       "4    [30000, 55000]\n",
       "Name: Salary_clean, dtype: object"
      ]
     },
     "execution_count": 15,
     "metadata": {},
     "output_type": "execute_result"
    }
   ],
   "source": [
    "dummy['Salary_clean'].head()"
   ]
  },
  {
   "cell_type": "code",
   "execution_count": 16,
   "metadata": {},
   "outputs": [
    {
     "name": "stderr",
     "output_type": "stream",
     "text": [
      "/anaconda3/lib/python3.7/site-packages/ipykernel_launcher.py:1: SettingWithCopyWarning: \n",
      "A value is trying to be set on a copy of a slice from a DataFrame.\n",
      "Try using .loc[row_indexer,col_indexer] = value instead\n",
      "\n",
      "See the caveats in the documentation: http://pandas.pydata.org/pandas-docs/stable/indexing.html#indexing-view-versus-copy\n",
      "  \"\"\"Entry point for launching an IPython kernel.\n",
      "/anaconda3/lib/python3.7/site-packages/ipykernel_launcher.py:2: SettingWithCopyWarning: \n",
      "A value is trying to be set on a copy of a slice from a DataFrame.\n",
      "Try using .loc[row_indexer,col_indexer] = value instead\n",
      "\n",
      "See the caveats in the documentation: http://pandas.pydata.org/pandas-docs/stable/indexing.html#indexing-view-versus-copy\n",
      "  \n"
     ]
    }
   ],
   "source": [
    "dummy['Salary_min'] = dummy['Salary_clean'].str[0]\n",
    "dummy['Salary_max'] = dummy['Salary_clean'].str[1]"
   ]
  },
  {
   "cell_type": "code",
   "execution_count": 17,
   "metadata": {},
   "outputs": [
    {
     "name": "stderr",
     "output_type": "stream",
     "text": [
      "/anaconda3/lib/python3.7/site-packages/ipykernel_launcher.py:1: SettingWithCopyWarning: \n",
      "A value is trying to be set on a copy of a slice from a DataFrame.\n",
      "Try using .loc[row_indexer,col_indexer] = value instead\n",
      "\n",
      "See the caveats in the documentation: http://pandas.pydata.org/pandas-docs/stable/indexing.html#indexing-view-versus-copy\n",
      "  \"\"\"Entry point for launching an IPython kernel.\n",
      "/anaconda3/lib/python3.7/site-packages/ipykernel_launcher.py:2: SettingWithCopyWarning: \n",
      "A value is trying to be set on a copy of a slice from a DataFrame.\n",
      "Try using .loc[row_indexer,col_indexer] = value instead\n",
      "\n",
      "See the caveats in the documentation: http://pandas.pydata.org/pandas-docs/stable/indexing.html#indexing-view-versus-copy\n",
      "  \n"
     ]
    }
   ],
   "source": [
    "dummy['Salary_min'] = dummy['Salary_min'].astype(int)\n",
    "dummy['Salary_max'] = dummy['Salary_max'].astype(int)"
   ]
  },
  {
   "cell_type": "code",
   "execution_count": 18,
   "metadata": {},
   "outputs": [
    {
     "data": {
      "text/html": [
       "<div>\n",
       "<style scoped>\n",
       "    .dataframe tbody tr th:only-of-type {\n",
       "        vertical-align: middle;\n",
       "    }\n",
       "\n",
       "    .dataframe tbody tr th {\n",
       "        vertical-align: top;\n",
       "    }\n",
       "\n",
       "    .dataframe thead th {\n",
       "        text-align: right;\n",
       "    }\n",
       "</style>\n",
       "<table border=\"1\" class=\"dataframe\">\n",
       "  <thead>\n",
       "    <tr style=\"text-align: right;\">\n",
       "      <th></th>\n",
       "      <th>Salary_clean</th>\n",
       "      <th>Salary</th>\n",
       "      <th>Job_class</th>\n",
       "      <th>Experience</th>\n",
       "      <th>Contract</th>\n",
       "      <th>Location</th>\n",
       "      <th>Job_title</th>\n",
       "      <th>Description</th>\n",
       "      <th>Description_filtered</th>\n",
       "      <th>Salary_max</th>\n",
       "      <th>Salary_min</th>\n",
       "    </tr>\n",
       "  </thead>\n",
       "  <tbody>\n",
       "    <tr>\n",
       "      <th>387</th>\n",
       "      <td>[45000, 45000]</td>\n",
       "      <td>45000</td>\n",
       "      <td>1</td>\n",
       "      <td>2</td>\n",
       "      <td>freelance / indépendant</td>\n",
       "      <td>75</td>\n",
       "      <td>data engineer  habilitable salarié ou freelance</td>\n",
       "      <td>[intitulé, data, engineer, confirmé, expérienc...</td>\n",
       "      <td>[intitulé, data, engineer, confirmé, expérienc...</td>\n",
       "      <td>45000</td>\n",
       "      <td>45000</td>\n",
       "    </tr>\n",
       "    <tr>\n",
       "      <th>394</th>\n",
       "      <td>[35000, 55000]</td>\n",
       "      <td>45000</td>\n",
       "      <td>1</td>\n",
       "      <td>1</td>\n",
       "      <td>freelance / indépendant</td>\n",
       "      <td>75</td>\n",
       "      <td>data engineer   freelance</td>\n",
       "      <td>[gentis, is, a, belgian, recruitment, company,...</td>\n",
       "      <td>[gentis, belgian, recruitment, company, headqu...</td>\n",
       "      <td>55000</td>\n",
       "      <td>35000</td>\n",
       "    </tr>\n",
       "    <tr>\n",
       "      <th>446</th>\n",
       "      <td>[45000, 45000]</td>\n",
       "      <td>45000</td>\n",
       "      <td>0</td>\n",
       "      <td>2</td>\n",
       "      <td>freelance / indépendant</td>\n",
       "      <td>75</td>\n",
       "      <td>développeur cc++  habilitable salarié ou freel...</td>\n",
       "      <td>[intitulé, développeur, c, c, d, applications,...</td>\n",
       "      <td>[intitulé, développeur, applications, embarqué...</td>\n",
       "      <td>45000</td>\n",
       "      <td>45000</td>\n",
       "    </tr>\n",
       "    <tr>\n",
       "      <th>1075</th>\n",
       "      <td>[50000, 60000]</td>\n",
       "      <td>55000</td>\n",
       "      <td>0</td>\n",
       "      <td>3</td>\n",
       "      <td>freelance / indépendant</td>\n",
       "      <td>75</td>\n",
       "      <td>architecte sécurité cloud  freelance</td>\n",
       "      <td>[la, mission, a, pour, objectif, de, conseille...</td>\n",
       "      <td>[mission, objectif, conseiller, accompagner, s...</td>\n",
       "      <td>60000</td>\n",
       "      <td>50000</td>\n",
       "    </tr>\n",
       "  </tbody>\n",
       "</table>\n",
       "</div>"
      ],
      "text/plain": [
       "        Salary_clean  Salary  Job_class  Experience                 Contract  \\\n",
       "387   [45000, 45000]   45000          1           2  freelance / indépendant   \n",
       "394   [35000, 55000]   45000          1           1  freelance / indépendant   \n",
       "446   [45000, 45000]   45000          0           2  freelance / indépendant   \n",
       "1075  [50000, 60000]   55000          0           3  freelance / indépendant   \n",
       "\n",
       "     Location                                          Job_title  \\\n",
       "387        75    data engineer  habilitable salarié ou freelance   \n",
       "394        75                          data engineer   freelance   \n",
       "446        75  développeur cc++  habilitable salarié ou freel...   \n",
       "1075       75               architecte sécurité cloud  freelance   \n",
       "\n",
       "                                            Description  \\\n",
       "387   [intitulé, data, engineer, confirmé, expérienc...   \n",
       "394   [gentis, is, a, belgian, recruitment, company,...   \n",
       "446   [intitulé, développeur, c, c, d, applications,...   \n",
       "1075  [la, mission, a, pour, objectif, de, conseille...   \n",
       "\n",
       "                                   Description_filtered  Salary_max  \\\n",
       "387   [intitulé, data, engineer, confirmé, expérienc...       45000   \n",
       "394   [gentis, belgian, recruitment, company, headqu...       55000   \n",
       "446   [intitulé, développeur, applications, embarqué...       45000   \n",
       "1075  [mission, objectif, conseiller, accompagner, s...       60000   \n",
       "\n",
       "      Salary_min  \n",
       "387        45000  \n",
       "394        35000  \n",
       "446        45000  \n",
       "1075       50000  "
      ]
     },
     "execution_count": 18,
     "metadata": {},
     "output_type": "execute_result"
    }
   ],
   "source": [
    "dummy[dummy['Contract'] == 'freelance / indépendant']"
   ]
  },
  {
   "cell_type": "code",
   "execution_count": 19,
   "metadata": {},
   "outputs": [
    {
     "data": {
      "image/png": "[encoded data removed]",
      "text/plain": [
       "<Figure size 1440x360 with 3 Axes>"
      ]
     },
     "metadata": {
      "needs_background": "light"
     },
     "output_type": "display_data"
    }
   ],
   "source": [
    "plt.figure(figsize=(20, 5))\n",
    "\n",
    "plt.subplot(1, 3, 1)\n",
    "plt.hist(dummy['Salary_max'])\n",
    "\n",
    "plt.subplot(1, 3, 2)\n",
    "plt.hist(dummy['Salary_min']) \n",
    "\n",
    "\n",
    "plt.subplot(1, 3, 3)\n",
    "plt.hist(dummy['Salary'])\n",
    "\n",
    "plt.show()"
   ]
  },
  {
   "cell_type": "markdown",
   "metadata": {},
   "source": [
    "# Detect outliers \n",
    "result : keep outliers "
   ]
  },
  {
   "cell_type": "code",
   "execution_count": 20,
   "metadata": {},
   "outputs": [
    {
     "data": {
      "image/png": "[encoded data removed]",
      "text/plain": [
       "<Figure size 432x288 with 1 Axes>"
      ]
     },
     "metadata": {
      "needs_background": "light"
     },
     "output_type": "display_data"
    }
   ],
   "source": [
    "plt.boxplot([dummy['Salary_max'], dummy['Salary_min'], dummy['Salary']])\n",
    "plt.show()"
   ]
  },
  {
   "cell_type": "markdown",
   "metadata": {},
   "source": [
    "# Create categories of Salary_max"
   ]
  },
  {
   "cell_type": "code",
   "execution_count": 21,
   "metadata": {},
   "outputs": [
    {
     "name": "stderr",
     "output_type": "stream",
     "text": [
      "/anaconda3/lib/python3.7/site-packages/ipykernel_launcher.py:1: SettingWithCopyWarning: \n",
      "A value is trying to be set on a copy of a slice from a DataFrame.\n",
      "Try using .loc[row_indexer,col_indexer] = value instead\n",
      "\n",
      "See the caveats in the documentation: http://pandas.pydata.org/pandas-docs/stable/indexing.html#indexing-view-versus-copy\n",
      "  \"\"\"Entry point for launching an IPython kernel.\n",
      "/anaconda3/lib/python3.7/site-packages/ipykernel_launcher.py:4: SettingWithCopyWarning: \n",
      "A value is trying to be set on a copy of a slice from a DataFrame.\n",
      "Try using .loc[row_indexer,col_indexer] = value instead\n",
      "\n",
      "See the caveats in the documentation: http://pandas.pydata.org/pandas-docs/stable/indexing.html#indexing-view-versus-copy\n",
      "  after removing the cwd from sys.path.\n",
      "/anaconda3/lib/python3.7/site-packages/ipykernel_launcher.py:7: SettingWithCopyWarning: \n",
      "A value is trying to be set on a copy of a slice from a DataFrame.\n",
      "Try using .loc[row_indexer,col_indexer] = value instead\n",
      "\n",
      "See the caveats in the documentation: http://pandas.pydata.org/pandas-docs/stable/indexing.html#indexing-view-versus-copy\n",
      "  import sys\n",
      "/anaconda3/lib/python3.7/site-packages/ipykernel_launcher.py:10: SettingWithCopyWarning: \n",
      "A value is trying to be set on a copy of a slice from a DataFrame.\n",
      "Try using .loc[row_indexer,col_indexer] = value instead\n",
      "\n",
      "See the caveats in the documentation: http://pandas.pydata.org/pandas-docs/stable/indexing.html#indexing-view-versus-copy\n",
      "  # Remove the CWD from sys.path while we load stuff.\n"
     ]
    }
   ],
   "source": [
    "dummy['Salary_group_cut3'] = pd.cut(dummy['Salary_max'], bins = 3, labels = [1, 2, 3])\n",
    "#array([ 18153.255,  52170.   ,  86085.   , 120000.   ]\n",
    "\n",
    "dummy['Salary_group_cut4'] = pd.cut(dummy['Salary_max'], bins = 4, labels = [1, 2, 3, 4])\n",
    "#array([ 18153.255,  43691.25 ,  69127.5  ,  94563.75 , 120000.   ]\n",
    "      \n",
    "dummy['Salary_group_qcut3'] = pd.qcut(dummy['Salary_max'], 3, labels = [1, 2, 3])\n",
    "#array([ 18255,  45000,  55000, 120000]\n",
    "\n",
    "dummy['Salary_group_qcut4'] = pd.qcut(dummy['Salary_max'], 4, labels = [1, 2, 3, 4])\n",
    "#array([ 18255,  42000,  50000,  58000, 120000]"
   ]
  },
  {
   "cell_type": "code",
   "execution_count": 22,
   "metadata": {},
   "outputs": [
    {
     "data": {
      "text/plain": [
       "(0        (58000.0, 120000.0]\n",
       " 1       (18254.999, 42000.0]\n",
       " 2       (18254.999, 42000.0]\n",
       " 3         (42000.0, 50000.0]\n",
       " 4         (50000.0, 58000.0]\n",
       " 5         (50000.0, 58000.0]\n",
       " 6         (42000.0, 50000.0]\n",
       " 7         (42000.0, 50000.0]\n",
       " 8         (42000.0, 50000.0]\n",
       " 9         (42000.0, 50000.0]\n",
       " 10        (50000.0, 58000.0]\n",
       " 11      (18254.999, 42000.0]\n",
       " 12        (42000.0, 50000.0]\n",
       " 13        (42000.0, 50000.0]\n",
       " 14        (42000.0, 50000.0]\n",
       " 15       (58000.0, 120000.0]\n",
       " 16      (18254.999, 42000.0]\n",
       " 17        (42000.0, 50000.0]\n",
       " 18        (42000.0, 50000.0]\n",
       " 19        (42000.0, 50000.0]\n",
       " 20       (58000.0, 120000.0]\n",
       " 21      (18254.999, 42000.0]\n",
       " 22        (42000.0, 50000.0]\n",
       " 23      (18254.999, 42000.0]\n",
       " 24       (58000.0, 120000.0]\n",
       " 25      (18254.999, 42000.0]\n",
       " 26        (50000.0, 58000.0]\n",
       " 27        (50000.0, 58000.0]\n",
       " 28      (18254.999, 42000.0]\n",
       " 29        (42000.0, 50000.0]\n",
       "                 ...         \n",
       " 1639      (42000.0, 50000.0]\n",
       " 1640    (18254.999, 42000.0]\n",
       " 1641    (18254.999, 42000.0]\n",
       " 1642    (18254.999, 42000.0]\n",
       " 1643    (18254.999, 42000.0]\n",
       " 1644      (42000.0, 50000.0]\n",
       " 1645    (18254.999, 42000.0]\n",
       " 1646    (18254.999, 42000.0]\n",
       " 1647      (42000.0, 50000.0]\n",
       " 1648    (18254.999, 42000.0]\n",
       " 1649      (50000.0, 58000.0]\n",
       " 1650    (18254.999, 42000.0]\n",
       " 1651    (18254.999, 42000.0]\n",
       " 1652      (42000.0, 50000.0]\n",
       " 1653    (18254.999, 42000.0]\n",
       " 1654    (18254.999, 42000.0]\n",
       " 1655    (18254.999, 42000.0]\n",
       " 1656    (18254.999, 42000.0]\n",
       " 1657    (18254.999, 42000.0]\n",
       " 1658      (42000.0, 50000.0]\n",
       " 1659    (18254.999, 42000.0]\n",
       " 1660      (42000.0, 50000.0]\n",
       " 1661      (42000.0, 50000.0]\n",
       " 1662      (42000.0, 50000.0]\n",
       " 1663      (42000.0, 50000.0]\n",
       " 1664      (42000.0, 50000.0]\n",
       " 1665      (42000.0, 50000.0]\n",
       " 1666      (42000.0, 50000.0]\n",
       " 1667      (42000.0, 50000.0]\n",
       " 1668      (42000.0, 50000.0]\n",
       " Name: Salary_max, Length: 1669, dtype: category\n",
       " Categories (4, interval[float64]): [(18254.999, 42000.0] < (42000.0, 50000.0] < (50000.0, 58000.0] < (58000.0, 120000.0]],\n",
       " array([ 18255,  42000,  50000,  58000, 120000]))"
      ]
     },
     "execution_count": 22,
     "metadata": {},
     "output_type": "execute_result"
    }
   ],
   "source": [
    "pd.qcut(dummy['Salary_max'], 4, retbins=True)"
   ]
  },
  {
   "cell_type": "code",
   "execution_count": 23,
   "metadata": {},
   "outputs": [
    {
     "name": "stdout",
     "output_type": "stream",
     "text": [
      "1    1031\n",
      "2     618\n",
      "3      20\n",
      "Name: Salary_group_cut3, dtype: int64\n",
      "2    1049\n",
      "1     449\n",
      "3     162\n",
      "4       9\n",
      "Name: Salary_group_cut4, dtype: int64\n",
      "1    702\n",
      "2    542\n",
      "3    425\n",
      "Name: Salary_group_qcut3, dtype: int64\n",
      "2    585\n",
      "1    439\n",
      "4    411\n",
      "3    234\n",
      "Name: Salary_group_qcut4, dtype: int64\n"
     ]
    }
   ],
   "source": [
    "print(dummy['Salary_group_cut3'].value_counts())\n",
    "print(dummy['Salary_group_cut4'].value_counts())\n",
    "print(dummy['Salary_group_qcut3'].value_counts())\n",
    "print(dummy['Salary_group_qcut4'].value_counts())"
   ]
  },
  {
   "cell_type": "code",
   "execution_count": 24,
   "metadata": {},
   "outputs": [
    {
     "data": {
      "text/html": [
       "<div>\n",
       "<style scoped>\n",
       "    .dataframe tbody tr th:only-of-type {\n",
       "        vertical-align: middle;\n",
       "    }\n",
       "\n",
       "    .dataframe tbody tr th {\n",
       "        vertical-align: top;\n",
       "    }\n",
       "\n",
       "    .dataframe thead th {\n",
       "        text-align: right;\n",
       "    }\n",
       "</style>\n",
       "<table border=\"1\" class=\"dataframe\">\n",
       "  <thead>\n",
       "    <tr style=\"text-align: right;\">\n",
       "      <th></th>\n",
       "      <th>Salary_clean</th>\n",
       "      <th>Salary</th>\n",
       "      <th>Job_class</th>\n",
       "      <th>Experience</th>\n",
       "      <th>Contract</th>\n",
       "      <th>Location</th>\n",
       "      <th>Job_title</th>\n",
       "      <th>Description</th>\n",
       "      <th>Description_filtered</th>\n",
       "      <th>Salary_max</th>\n",
       "      <th>Salary_min</th>\n",
       "      <th>Salary_group_cut3</th>\n",
       "      <th>Salary_group_cut4</th>\n",
       "      <th>Salary_group_qcut3</th>\n",
       "      <th>Salary_group_qcut4</th>\n",
       "    </tr>\n",
       "  </thead>\n",
       "  <tbody>\n",
       "    <tr>\n",
       "      <th>0</th>\n",
       "      <td>[65000, 75000]</td>\n",
       "      <td>70000</td>\n",
       "      <td>0</td>\n",
       "      <td>3</td>\n",
       "      <td>cdi</td>\n",
       "      <td>33</td>\n",
       "      <td>chef de projet si industriel</td>\n",
       "      <td>[localité, bordeaux, badenoch, clark, cabinet,...</td>\n",
       "      <td>[localité, bordeaux, badenoch, clark, cabinet,...</td>\n",
       "      <td>75000</td>\n",
       "      <td>65000</td>\n",
       "      <td>2</td>\n",
       "      <td>3</td>\n",
       "      <td>3</td>\n",
       "      <td>4</td>\n",
       "    </tr>\n",
       "    <tr>\n",
       "      <th>1</th>\n",
       "      <td>[35000, 40000]</td>\n",
       "      <td>37500</td>\n",
       "      <td>0</td>\n",
       "      <td>1</td>\n",
       "      <td>cdi</td>\n",
       "      <td>33</td>\n",
       "      <td>informaticien industriel</td>\n",
       "      <td>[l, entreprise, manpower, cabinet, recrutement...</td>\n",
       "      <td>[entreprise, manpower, cabinet, recrutement, b...</td>\n",
       "      <td>40000</td>\n",
       "      <td>35000</td>\n",
       "      <td>1</td>\n",
       "      <td>1</td>\n",
       "      <td>1</td>\n",
       "      <td>1</td>\n",
       "    </tr>\n",
       "    <tr>\n",
       "      <th>2</th>\n",
       "      <td>[40000, 40000]</td>\n",
       "      <td>40000</td>\n",
       "      <td>1</td>\n",
       "      <td>1</td>\n",
       "      <td>cdi</td>\n",
       "      <td>33</td>\n",
       "      <td>consultant tableau software</td>\n",
       "      <td>[randstad, search, recrute, pour, un, cabinet,...</td>\n",
       "      <td>[randstad, search, recrute, cabinet, conseil, ...</td>\n",
       "      <td>40000</td>\n",
       "      <td>40000</td>\n",
       "      <td>1</td>\n",
       "      <td>1</td>\n",
       "      <td>1</td>\n",
       "      <td>1</td>\n",
       "    </tr>\n",
       "    <tr>\n",
       "      <th>3</th>\n",
       "      <td>[25000, 50000]</td>\n",
       "      <td>37500</td>\n",
       "      <td>1</td>\n",
       "      <td>1</td>\n",
       "      <td>cdi</td>\n",
       "      <td>75</td>\n",
       "      <td>développeur backend etou frontend</td>\n",
       "      <td>[votre, rôle, vos, responsabilités, nous, meno...</td>\n",
       "      <td>[rôle, responsabilités, menons, campagne, recr...</td>\n",
       "      <td>50000</td>\n",
       "      <td>25000</td>\n",
       "      <td>1</td>\n",
       "      <td>2</td>\n",
       "      <td>2</td>\n",
       "      <td>2</td>\n",
       "    </tr>\n",
       "    <tr>\n",
       "      <th>4</th>\n",
       "      <td>[30000, 55000]</td>\n",
       "      <td>42500</td>\n",
       "      <td>1</td>\n",
       "      <td>2</td>\n",
       "      <td>cdi</td>\n",
       "      <td>75</td>\n",
       "      <td>ingénieurs système windows  unix aix  linux</td>\n",
       "      <td>[votre, rôle, vos, responsabilités, nous, meno...</td>\n",
       "      <td>[rôle, responsabilités, menons, campagne, recr...</td>\n",
       "      <td>55000</td>\n",
       "      <td>30000</td>\n",
       "      <td>2</td>\n",
       "      <td>2</td>\n",
       "      <td>2</td>\n",
       "      <td>3</td>\n",
       "    </tr>\n",
       "  </tbody>\n",
       "</table>\n",
       "</div>"
      ],
      "text/plain": [
       "     Salary_clean  Salary  Job_class  Experience Contract Location  \\\n",
       "0  [65000, 75000]   70000          0           3      cdi       33   \n",
       "1  [35000, 40000]   37500          0           1      cdi       33   \n",
       "2  [40000, 40000]   40000          1           1      cdi       33   \n",
       "3  [25000, 50000]   37500          1           1      cdi       75   \n",
       "4  [30000, 55000]   42500          1           2      cdi       75   \n",
       "\n",
       "                                      Job_title  \\\n",
       "0                 chef de projet si industriel    \n",
       "1                     informaticien industriel    \n",
       "2                  consultant tableau software    \n",
       "3            développeur backend etou frontend    \n",
       "4  ingénieurs système windows  unix aix  linux    \n",
       "\n",
       "                                         Description  \\\n",
       "0  [localité, bordeaux, badenoch, clark, cabinet,...   \n",
       "1  [l, entreprise, manpower, cabinet, recrutement...   \n",
       "2  [randstad, search, recrute, pour, un, cabinet,...   \n",
       "3  [votre, rôle, vos, responsabilités, nous, meno...   \n",
       "4  [votre, rôle, vos, responsabilités, nous, meno...   \n",
       "\n",
       "                                Description_filtered  Salary_max  Salary_min  \\\n",
       "0  [localité, bordeaux, badenoch, clark, cabinet,...       75000       65000   \n",
       "1  [entreprise, manpower, cabinet, recrutement, b...       40000       35000   \n",
       "2  [randstad, search, recrute, cabinet, conseil, ...       40000       40000   \n",
       "3  [rôle, responsabilités, menons, campagne, recr...       50000       25000   \n",
       "4  [rôle, responsabilités, menons, campagne, recr...       55000       30000   \n",
       "\n",
       "  Salary_group_cut3 Salary_group_cut4 Salary_group_qcut3 Salary_group_qcut4  \n",
       "0                 2                 3                  3                  4  \n",
       "1                 1                 1                  1                  1  \n",
       "2                 1                 1                  1                  1  \n",
       "3                 1                 2                  2                  2  \n",
       "4                 2                 2                  2                  3  "
      ]
     },
     "execution_count": 24,
     "metadata": {},
     "output_type": "execute_result"
    }
   ],
   "source": [
    "dummy.head()"
   ]
  },
  {
   "cell_type": "code",
   "execution_count": 25,
   "metadata": {},
   "outputs": [],
   "source": [
    "dummy0 = dummy[['Salary', 'Salary_group_cut3', 'Salary_group_cut4', 'Salary_group_qcut3', 'Salary_group_qcut4', \\\n",
    "      'Job_class', 'Contract', 'Location', 'Experience']]"
   ]
  },
  {
   "cell_type": "code",
   "execution_count": 26,
   "metadata": {},
   "outputs": [],
   "source": [
    "dummy0 = pd.get_dummies(dummy0, prefix = ['Contract', 'Location'], prefix_sep = '_', \\\n",
    "               columns = ['Contract', 'Location'], drop_first = True)"
   ]
  },
  {
   "cell_type": "code",
   "execution_count": 27,
   "metadata": {},
   "outputs": [
    {
     "data": {
      "text/plain": [
       "(1669, 14)"
      ]
     },
     "execution_count": 27,
     "metadata": {},
     "output_type": "execute_result"
    }
   ],
   "source": [
    "dummy0.shape"
   ]
  },
  {
   "cell_type": "code",
   "execution_count": 28,
   "metadata": {},
   "outputs": [
    {
     "data": {
      "image/png": "[encoded data removed]",
      "text/plain": [
       "<Figure size 432x288 with 1 Axes>"
      ]
     },
     "metadata": {
      "needs_background": "light"
     },
     "output_type": "display_data"
    }
   ],
   "source": [
    "x_kmeans = dummy0.iloc[:, 5:].values\n",
    "\n",
    "sum_of_squared_distances = []\n",
    "K = range(2,10)\n",
    "for k in K:\n",
    "    kmeans = KMeans(n_clusters=k, init='k-means++')\n",
    "    kmeans = kmeans.fit(x_kmeans)\n",
    "    sum_of_squared_distances.append(kmeans.inertia_)  #Sum of squared distances of samples to their closest cluster center\n",
    "    \n",
    "plt.plot(K, sum_of_squared_distances, 'bo-')\n",
    "plt.xlabel('k')\n",
    "plt.ylabel('Sum of squared distances')\n",
    "plt.title('Elbow Method For Optimal k')\n",
    "plt.show()"
   ]
  },
  {
   "cell_type": "code",
   "execution_count": 29,
   "metadata": {},
   "outputs": [
    {
     "name": "stdout",
     "output_type": "stream",
     "text": [
      "[1 0 0 ... 0 1 0]\n"
     ]
    }
   ],
   "source": [
    "kmeans = KMeans(n_clusters=3, init='k-means++')\n",
    "kmeans.fit(x_kmeans)\n",
    "y_kmeans = kmeans.predict(x_kmeans)\n",
    "\n",
    "print(y_kmeans)"
   ]
  },
  {
   "cell_type": "markdown",
   "metadata": {},
   "source": [
    "# Add description key words as new columns"
   ]
  },
  {
   "cell_type": "code",
   "execution_count": 30,
   "metadata": {},
   "outputs": [],
   "source": [
    "dummy_keywords = pd.read_csv('/Users/yinghua/Documents/dummy_data_allclean.csv')"
   ]
  },
  {
   "cell_type": "code",
   "execution_count": 31,
   "metadata": {},
   "outputs": [
    {
     "data": {
      "text/plain": [
       "Index(['Unnamed: 0', 'Salary', 'Job_class', 'Experience', 'Salary.1',\n",
       "       'Job_class.1', 'Experience.1', 'data', 'statistique', 'analyse',\n",
       "       ...\n",
       "       'Contract_intérim', 'Location_33', 'Location_44', 'Location_69',\n",
       "       'Location_75', 'Salary_range_3bins', 'Salary_range_4bins',\n",
       "       'Salary_range_5bins', 'Salary_range_qcut_4bins',\n",
       "       'Salary_range_qcut_3bins'],\n",
       "      dtype='object', length=126)"
      ]
     },
     "execution_count": 31,
     "metadata": {},
     "output_type": "execute_result"
    }
   ],
   "source": [
    "dummy_keywords.columns"
   ]
  },
  {
   "cell_type": "code",
   "execution_count": 32,
   "metadata": {},
   "outputs": [
    {
     "data": {
      "text/plain": [
       "(1669, 126)"
      ]
     },
     "execution_count": 32,
     "metadata": {},
     "output_type": "execute_result"
    }
   ],
   "source": [
    "dummy_keywords.shape"
   ]
  },
  {
   "cell_type": "code",
   "execution_count": 34,
   "metadata": {},
   "outputs": [],
   "source": [
    "dummy_keywords = dummy_keywords.drop(['Unnamed: 0', 'Salary', 'Job_class', 'Experience', 'Salary.1',\n",
    "       'Job_class.1', 'Experience.1', 'Contract_cdi', 'Contract_freelance / indépendant', \n",
    "        'Contract_intérim', 'Location_33', 'Location_44', 'Location_69',\n",
    "       'Location_75', 'Salary_range_3bins', 'Salary_range_4bins',\n",
    "       'Salary_range_5bins', 'Salary_range_qcut_4bins',\n",
    "       'Salary_range_qcut_3bins'], axis = 1)\n",
    "\n",
    "dummy1 = pd.concat([dummy0, dummy_keywords], axis = 1)"
   ]
  },
  {
   "cell_type": "code",
   "execution_count": 35,
   "metadata": {},
   "outputs": [
    {
     "data": {
      "text/plain": [
       "Index(['Salary', 'Salary_group_cut3', 'Salary_group_cut4',\n",
       "       'Salary_group_qcut3', 'Salary_group_qcut4', 'Job_class', 'Experience',\n",
       "       'Contract_cdi', 'Contract_freelance / indépendant', 'Contract_intérim',\n",
       "       ...\n",
       "       'assurance', 'transport', 'fintech', 'santé', 'luxe', 'bancaire',\n",
       "       'anglais', 'agile', 'international', 'startup'],\n",
       "      dtype='object', length=121)"
      ]
     },
     "execution_count": 35,
     "metadata": {},
     "output_type": "execute_result"
    }
   ],
   "source": [
    "dummy1.columns"
   ]
  },
  {
   "cell_type": "code",
   "execution_count": 37,
   "metadata": {},
   "outputs": [
    {
     "data": {
      "text/plain": [
       "(1669, 121)"
      ]
     },
     "execution_count": 37,
     "metadata": {},
     "output_type": "execute_result"
    }
   ],
   "source": [
    "dummy1.shape"
   ]
  },
  {
   "cell_type": "code",
   "execution_count": 71,
   "metadata": {},
   "outputs": [
    {
     "data": {
      "image/png": "[encoded data removed]",
      "text/plain": [
       "<Figure size 432x288 with 1 Axes>"
      ]
     },
     "metadata": {
      "needs_background": "light"
     },
     "output_type": "display_data"
    }
   ],
   "source": [
    "x_kmeans = dummy1.iloc[:, 5:].values\n",
    "\n",
    "sum_of_squared_distances = []\n",
    "K = range(2,10)\n",
    "for k in K:\n",
    "    kmeans = KMeans(n_clusters=k, init='k-means++')\n",
    "    kmeans = kmeans.fit(x_kmeans)\n",
    "    sum_of_squared_distances.append(kmeans.inertia_)  #Sum of squared distances of samples to their closest cluster center\n",
    "    \n",
    "plt.plot(K, sum_of_squared_distances, 'bo-')\n",
    "plt.xlabel('k')\n",
    "plt.ylabel('Sum of squared distances')\n",
    "plt.title('Elbow Method For Optimal k')\n",
    "plt.show()"
   ]
  },
  {
   "cell_type": "code",
   "execution_count": null,
   "metadata": {},
   "outputs": [],
   "source": []
  },
  {
   "cell_type": "markdown",
   "metadata": {},
   "source": [
    "# cut=3, all columns "
   ]
  },
  {
   "cell_type": "code",
   "execution_count": 38,
   "metadata": {},
   "outputs": [
    {
     "name": "stderr",
     "output_type": "stream",
     "text": [
      "/anaconda3/lib/python3.7/site-packages/sklearn/linear_model/logistic.py:433: FutureWarning: Default solver will be changed to 'lbfgs' in 0.22. Specify a solver to silence this warning.\n",
      "  FutureWarning)\n",
      "/anaconda3/lib/python3.7/site-packages/sklearn/linear_model/logistic.py:460: FutureWarning: Default multi_class will be changed to 'auto' in 0.22. Specify the multi_class option to silence this warning.\n",
      "  \"this warning.\", FutureWarning)\n",
      "/anaconda3/lib/python3.7/site-packages/sklearn/metrics/classification.py:1143: UndefinedMetricWarning: F-score is ill-defined and being set to 0.0 in labels with no predicted samples.\n",
      "  'precision', 'predicted', average, warn_for)\n"
     ]
    },
    {
     "name": "stdout",
     "output_type": "stream",
     "text": [
      "LogisticRegression score:  0.7544910179640718\n",
      "LogisticRegression train_set score:  0.761986301369863\n",
      "LogisticRegression f1:  0.7487426525527948\n",
      "\n",
      "SVM Linear score:  0.7644710578842315\n",
      "SVM Linear train_set score:  0.7799657534246576\n",
      "SVM Linear f1:  0.7569155072851668\n"
     ]
    },
    {
     "name": "stderr",
     "output_type": "stream",
     "text": [
      "/anaconda3/lib/python3.7/site-packages/sklearn/svm/base.py:196: FutureWarning: The default value of gamma will change from 'auto' to 'scale' in version 0.22 to account better for unscaled features. Set gamma explicitly to 'auto' or 'scale' to avoid this warning.\n",
      "  \"avoid this warning.\", FutureWarning)\n"
     ]
    },
    {
     "name": "stdout",
     "output_type": "stream",
     "text": [
      "\n",
      "SVM RBF score:  0.7584830339321357\n",
      "SVM RBF train_set score:  0.7337328767123288\n",
      "SVM RBF f1:  0.7394461917915012\n",
      "\n",
      "DC score:  0.6706586826347305\n",
      "DC train_set score:  0.9965753424657534\n",
      "DC f1:  0.6773390359691351\n",
      "\n",
      "RF score:  0.7265469061876247\n",
      "RF train_set score:  0.9845890410958904\n",
      "RF f1:  0.7131202253194088\n"
     ]
    },
    {
     "name": "stderr",
     "output_type": "stream",
     "text": [
      "/anaconda3/lib/python3.7/site-packages/sklearn/metrics/classification.py:1143: UndefinedMetricWarning: F-score is ill-defined and being set to 0.0 in labels with no predicted samples.\n",
      "  'precision', 'predicted', average, warn_for)\n",
      "/anaconda3/lib/python3.7/site-packages/sklearn/ensemble/forest.py:246: FutureWarning: The default value of n_estimators will change from 10 in version 0.20 to 100 in 0.22.\n",
      "  \"10 in version 0.20 to 100 in 0.22.\", FutureWarning)\n",
      "/anaconda3/lib/python3.7/site-packages/sklearn/metrics/classification.py:1143: UndefinedMetricWarning: F-score is ill-defined and being set to 0.0 in labels with no predicted samples.\n",
      "  'precision', 'predicted', average, warn_for)\n"
     ]
    }
   ],
   "source": [
    "x = dummy1.iloc[:, 5:]\n",
    "y = dummy1['Salary_group_cut3']\n",
    "\n",
    "x_train, x_test, y_train, y_test = train_test_split(x, y, test_size = 0.3, random_state=0)\n",
    "\n",
    "lr = LogisticRegression(random_state=0)\n",
    "lr.fit(x_train, y_train)\n",
    "print('LogisticRegression score: ', lr.score(x_test, y_test))\n",
    "print('LogisticRegression train_set score: ', lr.score(x_train, y_train))\n",
    "print('LogisticRegression f1: ', f1_score(y_test, lr.predict(x_test), average='weighted'))\n",
    "\n",
    "svm = SVC(kernel = 'linear', random_state=0)\n",
    "svm.fit(x_train, y_train)\n",
    "print('\\nSVM Linear score: ', svm.score(x_test, y_test))\n",
    "print('SVM Linear train_set score: ', svm.score(x_train, y_train))\n",
    "print('SVM Linear f1: ', f1_score(y_test, svm.predict(x_test), average='weighted'))\n",
    "\n",
    "rbf = SVC(kernel='rbf', random_state=0)\n",
    "rbf.fit(x_train, y_train)\n",
    "print('\\nSVM RBF score: ', rbf.score(x_test, y_test))\n",
    "print('SVM RBF train_set score: ', rbf.score(x_train, y_train))\n",
    "print('SVM RBF f1: ', f1_score(y_test, rbf.predict(x_test), average='weighted'))\n",
    "\n",
    "tree = DecisionTreeClassifier(random_state=0)\n",
    "tree.fit(x_train, y_train)\n",
    "print('\\nDC score: ', tree.score(x_test, y_test))\n",
    "print('DC train_set score: ', tree.score(x_train, y_train))\n",
    "print('DC f1: ', f1_score(y_test, tree.predict(x_test), average='weighted'))\n",
    "\n",
    "rf = RandomForestClassifier(random_state=0)\n",
    "rf.fit(x_train, y_train)\n",
    "print('\\nRF score: ', rf.score(x_test, y_test))\n",
    "print('RF train_set score: ', rf.score(x_train, y_train))\n",
    "print('RF f1: ', f1_score(y_test, rf.predict(x_test), average='weighted'))"
   ]
  },
  {
   "cell_type": "markdown",
   "metadata": {},
   "source": [
    "# cut=4, all columns "
   ]
  },
  {
   "cell_type": "code",
   "execution_count": 39,
   "metadata": {},
   "outputs": [
    {
     "name": "stderr",
     "output_type": "stream",
     "text": [
      "/anaconda3/lib/python3.7/site-packages/sklearn/linear_model/logistic.py:433: FutureWarning: Default solver will be changed to 'lbfgs' in 0.22. Specify a solver to silence this warning.\n",
      "  FutureWarning)\n",
      "/anaconda3/lib/python3.7/site-packages/sklearn/linear_model/logistic.py:460: FutureWarning: Default multi_class will be changed to 'auto' in 0.22. Specify the multi_class option to silence this warning.\n",
      "  \"this warning.\", FutureWarning)\n"
     ]
    },
    {
     "name": "stdout",
     "output_type": "stream",
     "text": [
      "LogisticRegression score:  0.6706586826347305\n",
      "LogisticRegression train_set score:  0.7029109589041096\n",
      "LogisticRegression f1:  0.6364910259862956\n",
      "\n",
      "SVM Linear score:  0.6427145708582834\n",
      "SVM Linear train_set score:  0.735445205479452\n",
      "SVM Linear f1:  0.619490191959909\n"
     ]
    },
    {
     "name": "stderr",
     "output_type": "stream",
     "text": [
      "/anaconda3/lib/python3.7/site-packages/sklearn/metrics/classification.py:1145: UndefinedMetricWarning: F-score is ill-defined and being set to 0.0 in labels with no true samples.\n",
      "  'recall', 'true', average, warn_for)\n",
      "/anaconda3/lib/python3.7/site-packages/sklearn/svm/base.py:196: FutureWarning: The default value of gamma will change from 'auto' to 'scale' in version 0.22 to account better for unscaled features. Set gamma explicitly to 'auto' or 'scale' to avoid this warning.\n",
      "  \"avoid this warning.\", FutureWarning)\n"
     ]
    },
    {
     "name": "stdout",
     "output_type": "stream",
     "text": [
      "\n",
      "SVM RBF score:  0.6407185628742516\n",
      "SVM RBF train_set score:  0.625\n",
      "SVM RBF f1:  0.500415227938284\n",
      "\n",
      "DC score:  0.5948103792415169\n",
      "DC train_set score:  0.9940068493150684\n",
      "DC f1:  0.5977746969424984\n",
      "\n",
      "RF score:  0.6586826347305389\n",
      "RF train_set score:  0.9717465753424658\n",
      "RF f1:  0.6366354947902605\n"
     ]
    },
    {
     "name": "stderr",
     "output_type": "stream",
     "text": [
      "/anaconda3/lib/python3.7/site-packages/sklearn/metrics/classification.py:1143: UndefinedMetricWarning: F-score is ill-defined and being set to 0.0 in labels with no predicted samples.\n",
      "  'precision', 'predicted', average, warn_for)\n",
      "/anaconda3/lib/python3.7/site-packages/sklearn/metrics/classification.py:1145: UndefinedMetricWarning: F-score is ill-defined and being set to 0.0 in labels with no true samples.\n",
      "  'recall', 'true', average, warn_for)\n",
      "/anaconda3/lib/python3.7/site-packages/sklearn/ensemble/forest.py:246: FutureWarning: The default value of n_estimators will change from 10 in version 0.20 to 100 in 0.22.\n",
      "  \"10 in version 0.20 to 100 in 0.22.\", FutureWarning)\n"
     ]
    }
   ],
   "source": [
    "x = dummy1.iloc[:, 5:]\n",
    "y = dummy1['Salary_group_cut4']\n",
    "\n",
    "x_train, x_test, y_train, y_test = train_test_split(x, y, test_size = 0.3, random_state=0)\n",
    "\n",
    "lr = LogisticRegression(random_state=0)\n",
    "lr.fit(x_train, y_train)\n",
    "print('LogisticRegression score: ', lr.score(x_test, y_test))\n",
    "print('LogisticRegression train_set score: ', lr.score(x_train, y_train))\n",
    "print('LogisticRegression f1: ', f1_score(y_test, lr.predict(x_test), average='weighted'))\n",
    "\n",
    "svm = SVC(kernel = 'linear', random_state=0)\n",
    "svm.fit(x_train, y_train)\n",
    "print('\\nSVM Linear score: ', svm.score(x_test, y_test))\n",
    "print('SVM Linear train_set score: ', svm.score(x_train, y_train))\n",
    "print('SVM Linear f1: ', f1_score(y_test, svm.predict(x_test), average='weighted'))\n",
    "\n",
    "rbf = SVC(kernel='rbf', random_state=0)\n",
    "rbf.fit(x_train, y_train)\n",
    "print('\\nSVM RBF score: ', rbf.score(x_test, y_test))\n",
    "print('SVM RBF train_set score: ', rbf.score(x_train, y_train))\n",
    "print('SVM RBF f1: ', f1_score(y_test, rbf.predict(x_test), average='weighted'))\n",
    "\n",
    "tree = DecisionTreeClassifier(random_state=0)\n",
    "tree.fit(x_train, y_train)\n",
    "print('\\nDC score: ', tree.score(x_test, y_test))\n",
    "print('DC train_set score: ', tree.score(x_train, y_train))\n",
    "print('DC f1: ', f1_score(y_test, tree.predict(x_test), average='weighted'))\n",
    "\n",
    "rf = RandomForestClassifier(random_state=0)\n",
    "rf.fit(x_train, y_train)\n",
    "print('\\nRF score: ', rf.score(x_test, y_test))\n",
    "print('RF train_set score: ', rf.score(x_train, y_train))\n",
    "print('RF f1: ', f1_score(y_test, rf.predict(x_test), average='weighted'))"
   ]
  },
  {
   "cell_type": "markdown",
   "metadata": {},
   "source": [
    "# qcut = 3, all columns"
   ]
  },
  {
   "cell_type": "code",
   "execution_count": 40,
   "metadata": {},
   "outputs": [
    {
     "name": "stderr",
     "output_type": "stream",
     "text": [
      "/anaconda3/lib/python3.7/site-packages/sklearn/linear_model/logistic.py:433: FutureWarning: Default solver will be changed to 'lbfgs' in 0.22. Specify a solver to silence this warning.\n",
      "  FutureWarning)\n",
      "/anaconda3/lib/python3.7/site-packages/sklearn/linear_model/logistic.py:460: FutureWarning: Default multi_class will be changed to 'auto' in 0.22. Specify the multi_class option to silence this warning.\n",
      "  \"this warning.\", FutureWarning)\n"
     ]
    },
    {
     "name": "stdout",
     "output_type": "stream",
     "text": [
      "LogisticRegression score:  0.5748502994011976\n",
      "LogisticRegression train_set score:  0.6378424657534246\n",
      "LogisticRegression f1:  0.5658827374813086\n",
      "\n",
      "SVM Linear score:  0.5728542914171657\n",
      "SVM Linear train_set score:  0.6678082191780822\n",
      "SVM Linear f1:  0.5675230928621607\n"
     ]
    },
    {
     "name": "stderr",
     "output_type": "stream",
     "text": [
      "/anaconda3/lib/python3.7/site-packages/sklearn/svm/base.py:196: FutureWarning: The default value of gamma will change from 'auto' to 'scale' in version 0.22 to account better for unscaled features. Set gamma explicitly to 'auto' or 'scale' to avoid this warning.\n",
      "  \"avoid this warning.\", FutureWarning)\n"
     ]
    },
    {
     "name": "stdout",
     "output_type": "stream",
     "text": [
      "\n",
      "SVM RBF score:  0.6027944111776448\n",
      "SVM RBF train_set score:  0.5924657534246576\n",
      "SVM RBF f1:  0.596237733683406\n",
      "\n",
      "DC score:  0.5149700598802395\n",
      "DC train_set score:  0.9957191780821918\n",
      "DC f1:  0.515155211389417\n",
      "\n",
      "RF score:  0.5848303393213573\n",
      "RF train_set score:  0.985445205479452\n",
      "RF f1:  0.5786983055248421\n"
     ]
    },
    {
     "name": "stderr",
     "output_type": "stream",
     "text": [
      "/anaconda3/lib/python3.7/site-packages/sklearn/ensemble/forest.py:246: FutureWarning: The default value of n_estimators will change from 10 in version 0.20 to 100 in 0.22.\n",
      "  \"10 in version 0.20 to 100 in 0.22.\", FutureWarning)\n"
     ]
    }
   ],
   "source": [
    "x = dummy1.iloc[:, 5:]\n",
    "y = dummy1['Salary_group_qcut3']\n",
    "\n",
    "x_train, x_test, y_train, y_test = train_test_split(x, y, test_size = 0.3, random_state=0)\n",
    "\n",
    "lr = LogisticRegression(random_state=0)\n",
    "lr.fit(x_train, y_train)\n",
    "print('LogisticRegression score: ', lr.score(x_test, y_test))\n",
    "print('LogisticRegression train_set score: ', lr.score(x_train, y_train))\n",
    "print('LogisticRegression f1: ', f1_score(y_test, lr.predict(x_test), average='weighted'))\n",
    "\n",
    "svm = SVC(kernel = 'linear', random_state=0)\n",
    "svm.fit(x_train, y_train)\n",
    "print('\\nSVM Linear score: ', svm.score(x_test, y_test))\n",
    "print('SVM Linear train_set score: ', svm.score(x_train, y_train))\n",
    "print('SVM Linear f1: ', f1_score(y_test, svm.predict(x_test), average='weighted'))\n",
    "\n",
    "rbf = SVC(kernel='rbf', random_state=0)\n",
    "rbf.fit(x_train, y_train)\n",
    "print('\\nSVM RBF score: ', rbf.score(x_test, y_test))\n",
    "print('SVM RBF train_set score: ', rbf.score(x_train, y_train))\n",
    "print('SVM RBF f1: ', f1_score(y_test, rbf.predict(x_test), average='weighted'))\n",
    "\n",
    "tree = DecisionTreeClassifier(random_state=0)\n",
    "tree.fit(x_train, y_train)\n",
    "print('\\nDC score: ', tree.score(x_test, y_test))\n",
    "print('DC train_set score: ', tree.score(x_train, y_train))\n",
    "print('DC f1: ', f1_score(y_test, tree.predict(x_test), average='weighted'))\n",
    "\n",
    "rf = RandomForestClassifier(random_state=0)\n",
    "rf.fit(x_train, y_train)\n",
    "print('\\nRF score: ', rf.score(x_test, y_test))\n",
    "print('RF train_set score: ', rf.score(x_train, y_train))\n",
    "print('RF f1: ', f1_score(y_test, rf.predict(x_test), average='weighted'))"
   ]
  },
  {
   "cell_type": "markdown",
   "metadata": {},
   "source": [
    "# qcut=4, all columns"
   ]
  },
  {
   "cell_type": "code",
   "execution_count": 41,
   "metadata": {},
   "outputs": [
    {
     "name": "stderr",
     "output_type": "stream",
     "text": [
      "/anaconda3/lib/python3.7/site-packages/sklearn/linear_model/logistic.py:433: FutureWarning: Default solver will be changed to 'lbfgs' in 0.22. Specify a solver to silence this warning.\n",
      "  FutureWarning)\n",
      "/anaconda3/lib/python3.7/site-packages/sklearn/linear_model/logistic.py:460: FutureWarning: Default multi_class will be changed to 'auto' in 0.22. Specify the multi_class option to silence this warning.\n",
      "  \"this warning.\", FutureWarning)\n"
     ]
    },
    {
     "name": "stdout",
     "output_type": "stream",
     "text": [
      "LogisticRegression score:  0.500998003992016\n",
      "LogisticRegression train_set score:  0.5676369863013698\n",
      "LogisticRegression f1:  0.48639562992711394\n",
      "\n",
      "SVM Linear score:  0.47904191616766467\n",
      "SVM Linear train_set score:  0.5950342465753424\n",
      "SVM Linear f1:  0.4624202949762358\n"
     ]
    },
    {
     "name": "stderr",
     "output_type": "stream",
     "text": [
      "/anaconda3/lib/python3.7/site-packages/sklearn/svm/base.py:196: FutureWarning: The default value of gamma will change from 'auto' to 'scale' in version 0.22 to account better for unscaled features. Set gamma explicitly to 'auto' or 'scale' to avoid this warning.\n",
      "  \"avoid this warning.\", FutureWarning)\n"
     ]
    },
    {
     "name": "stdout",
     "output_type": "stream",
     "text": [
      "\n",
      "SVM RBF score:  0.499001996007984\n",
      "SVM RBF train_set score:  0.4974315068493151\n",
      "SVM RBF f1:  0.44993467294440015\n",
      "\n",
      "DC score:  0.41916167664670656\n",
      "DC train_set score:  0.9922945205479452\n",
      "DC f1:  0.4161532022803636\n",
      "\n",
      "RF score:  0.48502994011976047\n",
      "RF train_set score:  0.9777397260273972\n",
      "RF f1:  0.4782391963418588\n"
     ]
    },
    {
     "name": "stderr",
     "output_type": "stream",
     "text": [
      "/anaconda3/lib/python3.7/site-packages/sklearn/metrics/classification.py:1143: UndefinedMetricWarning: F-score is ill-defined and being set to 0.0 in labels with no predicted samples.\n",
      "  'precision', 'predicted', average, warn_for)\n",
      "/anaconda3/lib/python3.7/site-packages/sklearn/ensemble/forest.py:246: FutureWarning: The default value of n_estimators will change from 10 in version 0.20 to 100 in 0.22.\n",
      "  \"10 in version 0.20 to 100 in 0.22.\", FutureWarning)\n"
     ]
    }
   ],
   "source": [
    "x = dummy1.iloc[:, 5:]\n",
    "y = dummy1['Salary_group_qcut4']\n",
    "\n",
    "x_train, x_test, y_train, y_test = train_test_split(x, y, test_size = 0.3, random_state=0)\n",
    "\n",
    "lr = LogisticRegression(random_state=0)\n",
    "lr.fit(x_train, y_train)\n",
    "print('LogisticRegression score: ', lr.score(x_test, y_test))\n",
    "print('LogisticRegression train_set score: ', lr.score(x_train, y_train))\n",
    "print('LogisticRegression f1: ', f1_score(y_test, lr.predict(x_test), average='weighted'))\n",
    "\n",
    "svm = SVC(kernel = 'linear', random_state=0)\n",
    "svm.fit(x_train, y_train)\n",
    "print('\\nSVM Linear score: ', svm.score(x_test, y_test))\n",
    "print('SVM Linear train_set score: ', svm.score(x_train, y_train))\n",
    "print('SVM Linear f1: ', f1_score(y_test, svm.predict(x_test), average='weighted'))\n",
    "\n",
    "rbf = SVC(kernel='rbf', random_state=0)\n",
    "rbf.fit(x_train, y_train)\n",
    "print('\\nSVM RBF score: ', rbf.score(x_test, y_test))\n",
    "print('SVM RBF train_set score: ', rbf.score(x_train, y_train))\n",
    "print('SVM RBF f1: ', f1_score(y_test, rbf.predict(x_test), average='weighted'))\n",
    "\n",
    "tree = DecisionTreeClassifier(random_state=0)\n",
    "tree.fit(x_train, y_train)\n",
    "print('\\nDC score: ', tree.score(x_test, y_test))\n",
    "print('DC train_set score: ', tree.score(x_train, y_train))\n",
    "print('DC f1: ', f1_score(y_test, tree.predict(x_test), average='weighted'))\n",
    "\n",
    "rf = RandomForestClassifier(random_state=0)\n",
    "rf.fit(x_train, y_train)\n",
    "print('\\nRF score: ', rf.score(x_test, y_test))\n",
    "print('RF train_set score: ', rf.score(x_train, y_train))\n",
    "print('RF f1: ', f1_score(y_test, rf.predict(x_test), average='weighted'))"
   ]
  },
  {
   "cell_type": "markdown",
   "metadata": {},
   "source": [
    "# PCA bin =3 "
   ]
  },
  {
   "cell_type": "code",
   "execution_count": 42,
   "metadata": {},
   "outputs": [
    {
     "name": "stdout",
     "output_type": "stream",
     "text": [
      "PCA:  [0.08941536 0.05115656 0.04610649 0.0452275  0.03541827 0.03309695\n",
      " 0.03032496 0.02785574 0.02631826 0.02549619 0.02366969 0.02158153\n",
      " 0.02105254 0.02013631 0.02000098 0.01869764 0.01812942 0.01767364\n",
      " 0.01649874 0.01573596 0.01549681 0.01464831 0.01377656 0.01329028\n",
      " 0.01297843 0.01244221 0.01236466 0.01148312 0.01127577 0.01065541\n",
      " 0.01005191 0.00970893 0.00930719 0.00907566 0.00884609 0.00844992\n",
      " 0.00831148 0.00807886 0.00794978 0.00737918 0.00717081 0.00694153\n",
      " 0.00673333 0.00661996 0.00649734 0.00624234 0.00589841 0.00578115\n",
      " 0.00574001 0.0056715  0.00541722 0.00520967 0.0049535  0.00489157\n",
      " 0.0048066  0.00458755 0.00453271 0.00425615 0.00415285 0.00397411\n",
      " 0.0038575  0.00354023 0.00335387 0.00317863 0.00311847 0.00297102\n",
      " 0.00287355]\n",
      "\n",
      "LogisticRegression score:  0.7524950099800399\n",
      "LogisticRegression train_set score:  0.7414383561643836\n",
      "LogisticRegression f1:  0.7469172848760406\n",
      "\n",
      "SVM Linear score:  0.7465069860279441\n"
     ]
    },
    {
     "name": "stderr",
     "output_type": "stream",
     "text": [
      "/anaconda3/lib/python3.7/site-packages/sklearn/linear_model/logistic.py:433: FutureWarning: Default solver will be changed to 'lbfgs' in 0.22. Specify a solver to silence this warning.\n",
      "  FutureWarning)\n",
      "/anaconda3/lib/python3.7/site-packages/sklearn/linear_model/logistic.py:460: FutureWarning: Default multi_class will be changed to 'auto' in 0.22. Specify the multi_class option to silence this warning.\n",
      "  \"this warning.\", FutureWarning)\n",
      "/anaconda3/lib/python3.7/site-packages/sklearn/metrics/classification.py:1143: UndefinedMetricWarning: F-score is ill-defined and being set to 0.0 in labels with no predicted samples.\n",
      "  'precision', 'predicted', average, warn_for)\n"
     ]
    },
    {
     "name": "stdout",
     "output_type": "stream",
     "text": [
      "SVM Linear train_set score:  0.7602739726027398\n",
      "SVM Linear f1:  0.7400266118364176\n",
      "\n",
      "SVM RBF score:  0.7604790419161677\n"
     ]
    },
    {
     "name": "stderr",
     "output_type": "stream",
     "text": [
      "/anaconda3/lib/python3.7/site-packages/sklearn/svm/base.py:196: FutureWarning: The default value of gamma will change from 'auto' to 'scale' in version 0.22 to account better for unscaled features. Set gamma explicitly to 'auto' or 'scale' to avoid this warning.\n",
      "  \"avoid this warning.\", FutureWarning)\n"
     ]
    },
    {
     "name": "stdout",
     "output_type": "stream",
     "text": [
      "SVM RBF train_set score:  0.7414383561643836\n",
      "SVM RBF f1:  0.7453001644618411\n",
      "\n",
      "DC score:  0.6646706586826348\n",
      "DC train_set score:  0.9965753424657534\n",
      "DC f1:  0.6650761634066054\n",
      "\n",
      "RF score:  0.7065868263473054\n",
      "RF train_set score:  0.9708904109589042\n",
      "RF f1:  0.6790752716061352\n"
     ]
    },
    {
     "name": "stderr",
     "output_type": "stream",
     "text": [
      "/anaconda3/lib/python3.7/site-packages/sklearn/metrics/classification.py:1143: UndefinedMetricWarning: F-score is ill-defined and being set to 0.0 in labels with no predicted samples.\n",
      "  'precision', 'predicted', average, warn_for)\n",
      "/anaconda3/lib/python3.7/site-packages/sklearn/ensemble/forest.py:246: FutureWarning: The default value of n_estimators will change from 10 in version 0.20 to 100 in 0.22.\n",
      "  \"10 in version 0.20 to 100 in 0.22.\", FutureWarning)\n",
      "/anaconda3/lib/python3.7/site-packages/sklearn/metrics/classification.py:1143: UndefinedMetricWarning: F-score is ill-defined and being set to 0.0 in labels with no predicted samples.\n",
      "  'precision', 'predicted', average, warn_for)\n"
     ]
    }
   ],
   "source": [
    "x = dummy1.iloc[:, 5:]\n",
    "y = dummy1['Salary_group_cut3']\n",
    "\n",
    "x_train, x_test, y_train, y_test = train_test_split(x, y, test_size = 0.3, random_state=0)\n",
    "\n",
    "pca = PCA(.95, random_state=0)\n",
    "pca.fit(x_train)\n",
    "x_train_pca = pca.transform(x_train)\n",
    "x_test_pca = pca.transform(x_test)\n",
    "print('PCA: ', pca.explained_variance_ratio_)\n",
    "\n",
    "lr = LogisticRegression(random_state=0)\n",
    "lr.fit(x_train_pca, y_train)\n",
    "print('\\nLogisticRegression score: ', lr.score(x_test_pca, y_test))\n",
    "print('LogisticRegression train_set score: ', lr.score(x_train_pca, y_train))\n",
    "print('LogisticRegression f1: ', f1_score(y_test, lr.predict(x_test_pca), average='weighted'))\n",
    "\n",
    "svm = SVC(kernel = 'linear', random_state=0)\n",
    "svm.fit(x_train_pca, y_train)\n",
    "print('\\nSVM Linear score: ', svm.score(x_test_pca, y_test))\n",
    "print('SVM Linear train_set score: ', svm.score(x_train_pca, y_train))\n",
    "print('SVM Linear f1: ', f1_score(y_test, svm.predict(x_test_pca), average='weighted'))\n",
    "\n",
    "rbf = SVC(kernel='rbf', random_state=0)\n",
    "rbf.fit(x_train_pca, y_train)\n",
    "print('\\nSVM RBF score: ', rbf.score(x_test_pca, y_test))\n",
    "print('SVM RBF train_set score: ', rbf.score(x_train_pca, y_train))\n",
    "print('SVM RBF f1: ', f1_score(y_test, rbf.predict(x_test_pca), average='weighted'))\n",
    "\n",
    "tree = DecisionTreeClassifier(random_state=0)\n",
    "tree.fit(x_train_pca, y_train)\n",
    "print('\\nDC score: ', tree.score(x_test_pca, y_test))\n",
    "print('DC train_set score: ', tree.score(x_train_pca, y_train))\n",
    "print('DC f1: ', f1_score(y_test, tree.predict(x_test_pca), average='weighted'))\n",
    "\n",
    "rf = RandomForestClassifier(random_state=0)\n",
    "rf.fit(x_train_pca, y_train)\n",
    "print('\\nRF score: ', rf.score(x_test_pca, y_test))\n",
    "print('RF train_set score: ', rf.score(x_train_pca, y_train))\n",
    "print('RF f1: ', f1_score(y_test, rf.predict(x_test_pca), average='weighted'))\n"
   ]
  },
  {
   "cell_type": "markdown",
   "metadata": {},
   "source": [
    "# PCA BIN=4"
   ]
  },
  {
   "cell_type": "code",
   "execution_count": 43,
   "metadata": {},
   "outputs": [
    {
     "name": "stderr",
     "output_type": "stream",
     "text": [
      "/anaconda3/lib/python3.7/site-packages/sklearn/linear_model/logistic.py:433: FutureWarning: Default solver will be changed to 'lbfgs' in 0.22. Specify a solver to silence this warning.\n",
      "  FutureWarning)\n",
      "/anaconda3/lib/python3.7/site-packages/sklearn/linear_model/logistic.py:460: FutureWarning: Default multi_class will be changed to 'auto' in 0.22. Specify the multi_class option to silence this warning.\n",
      "  \"this warning.\", FutureWarning)\n"
     ]
    },
    {
     "name": "stdout",
     "output_type": "stream",
     "text": [
      "LogisticRegression score:  0.654690618762475\n",
      "LogisticRegression train_set score:  0.6832191780821918\n",
      "LogisticRegression f1:  0.6238284474417072\n",
      "\n",
      "SVM Linear score:  0.654690618762475\n",
      "SVM Linear train_set score:  0.6986301369863014\n",
      "SVM Linear f1:  0.6266648045475471\n",
      "\n",
      "SVM RBF score:  0.6586826347305389\n"
     ]
    },
    {
     "name": "stderr",
     "output_type": "stream",
     "text": [
      "/anaconda3/lib/python3.7/site-packages/sklearn/metrics/classification.py:1145: UndefinedMetricWarning: F-score is ill-defined and being set to 0.0 in labels with no true samples.\n",
      "  'recall', 'true', average, warn_for)\n",
      "/anaconda3/lib/python3.7/site-packages/sklearn/svm/base.py:196: FutureWarning: The default value of gamma will change from 'auto' to 'scale' in version 0.22 to account better for unscaled features. Set gamma explicitly to 'auto' or 'scale' to avoid this warning.\n",
      "  \"avoid this warning.\", FutureWarning)\n"
     ]
    },
    {
     "name": "stdout",
     "output_type": "stream",
     "text": [
      "SVM RBF train_set score:  0.6669520547945206\n",
      "SVM RBF f1:  0.5646568464584073\n",
      "\n",
      "DC score:  0.5548902195608783\n",
      "DC train_set score:  0.9940068493150684\n",
      "DC f1:  0.5544490755017427\n",
      "\n",
      "RF score:  0.6307385229540918\n",
      "RF train_set score:  0.9777397260273972\n",
      "RF f1:  0.5970154068132827\n"
     ]
    },
    {
     "name": "stderr",
     "output_type": "stream",
     "text": [
      "/anaconda3/lib/python3.7/site-packages/sklearn/metrics/classification.py:1143: UndefinedMetricWarning: F-score is ill-defined and being set to 0.0 in labels with no predicted samples.\n",
      "  'precision', 'predicted', average, warn_for)\n",
      "/anaconda3/lib/python3.7/site-packages/sklearn/metrics/classification.py:1145: UndefinedMetricWarning: F-score is ill-defined and being set to 0.0 in labels with no true samples.\n",
      "  'recall', 'true', average, warn_for)\n",
      "/anaconda3/lib/python3.7/site-packages/sklearn/ensemble/forest.py:246: FutureWarning: The default value of n_estimators will change from 10 in version 0.20 to 100 in 0.22.\n",
      "  \"10 in version 0.20 to 100 in 0.22.\", FutureWarning)\n"
     ]
    }
   ],
   "source": [
    "x = dummy1.iloc[:, 5:]\n",
    "y = dummy1['Salary_group_cut4']\n",
    "\n",
    "x_train, x_test, y_train, y_test = train_test_split(x, y, test_size = 0.3, random_state=0)\n",
    "\n",
    "pca = PCA(.95, random_state=0)\n",
    "pca.fit(x_train)\n",
    "x_train_pca = pca.transform(x_train)\n",
    "x_test_pca = pca.transform(x_test)\n",
    "\n",
    "lr = LogisticRegression(random_state=0)\n",
    "lr.fit(x_train_pca, y_train)\n",
    "print('LogisticRegression score: ', lr.score(x_test_pca, y_test))\n",
    "print('LogisticRegression train_set score: ', lr.score(x_train_pca, y_train))\n",
    "print('LogisticRegression f1: ', f1_score(y_test, lr.predict(x_test_pca), average='weighted'))\n",
    "\n",
    "svm = SVC(kernel = 'linear', random_state=0)\n",
    "svm.fit(x_train_pca, y_train)\n",
    "print('\\nSVM Linear score: ', svm.score(x_test_pca, y_test))\n",
    "print('SVM Linear train_set score: ', svm.score(x_train_pca, y_train))\n",
    "print('SVM Linear f1: ', f1_score(y_test, svm.predict(x_test_pca), average='weighted'))\n",
    "\n",
    "rbf = SVC(kernel='rbf', random_state=0)\n",
    "rbf.fit(x_train_pca, y_train)\n",
    "print('\\nSVM RBF score: ', rbf.score(x_test_pca, y_test))\n",
    "print('SVM RBF train_set score: ', rbf.score(x_train_pca, y_train))\n",
    "print('SVM RBF f1: ', f1_score(y_test, rbf.predict(x_test_pca), average='weighted'))\n",
    "\n",
    "tree = DecisionTreeClassifier(random_state=0)\n",
    "tree.fit(x_train_pca, y_train)\n",
    "print('\\nDC score: ', tree.score(x_test_pca, y_test))\n",
    "print('DC train_set score: ', tree.score(x_train_pca, y_train))\n",
    "print('DC f1: ', f1_score(y_test, tree.predict(x_test_pca), average='weighted'))\n",
    "\n",
    "rf = RandomForestClassifier(random_state=0)\n",
    "rf.fit(x_train_pca, y_train)\n",
    "print('\\nRF score: ', rf.score(x_test_pca, y_test))\n",
    "print('RF train_set score: ', rf.score(x_train_pca, y_train))\n",
    "print('RF f1: ', f1_score(y_test, rf.predict(x_test_pca), average='weighted'))"
   ]
  },
  {
   "cell_type": "markdown",
   "metadata": {},
   "source": [
    "# PCA qcut = 3"
   ]
  },
  {
   "cell_type": "code",
   "execution_count": 44,
   "metadata": {},
   "outputs": [
    {
     "name": "stderr",
     "output_type": "stream",
     "text": [
      "/anaconda3/lib/python3.7/site-packages/sklearn/linear_model/logistic.py:433: FutureWarning: Default solver will be changed to 'lbfgs' in 0.22. Specify a solver to silence this warning.\n",
      "  FutureWarning)\n",
      "/anaconda3/lib/python3.7/site-packages/sklearn/linear_model/logistic.py:460: FutureWarning: Default multi_class will be changed to 'auto' in 0.22. Specify the multi_class option to silence this warning.\n",
      "  \"this warning.\", FutureWarning)\n"
     ]
    },
    {
     "name": "stdout",
     "output_type": "stream",
     "text": [
      "LogisticRegression score:  0.5768463073852296\n",
      "LogisticRegression train_set score:  0.615582191780822\n",
      "LogisticRegression f1:  0.5636234441228517\n",
      "\n",
      "SVM Linear score:  0.5808383233532934\n",
      "SVM Linear train_set score:  0.627568493150685\n",
      "SVM Linear f1:  0.572314690739257\n"
     ]
    },
    {
     "name": "stderr",
     "output_type": "stream",
     "text": [
      "/anaconda3/lib/python3.7/site-packages/sklearn/svm/base.py:196: FutureWarning: The default value of gamma will change from 'auto' to 'scale' in version 0.22 to account better for unscaled features. Set gamma explicitly to 'auto' or 'scale' to avoid this warning.\n",
      "  \"avoid this warning.\", FutureWarning)\n"
     ]
    },
    {
     "name": "stdout",
     "output_type": "stream",
     "text": [
      "\n",
      "SVM RBF score:  0.5948103792415169\n",
      "SVM RBF train_set score:  0.6053082191780822\n",
      "SVM RBF f1:  0.5917927360234245\n",
      "\n",
      "DC score:  0.48303393213572854\n",
      "DC train_set score:  0.9957191780821918\n",
      "DC f1:  0.48221602486868403\n",
      "\n",
      "RF score:  0.5449101796407185\n",
      "RF train_set score:  0.9777397260273972\n",
      "RF f1:  0.5320925759816401\n"
     ]
    },
    {
     "name": "stderr",
     "output_type": "stream",
     "text": [
      "/anaconda3/lib/python3.7/site-packages/sklearn/ensemble/forest.py:246: FutureWarning: The default value of n_estimators will change from 10 in version 0.20 to 100 in 0.22.\n",
      "  \"10 in version 0.20 to 100 in 0.22.\", FutureWarning)\n"
     ]
    }
   ],
   "source": [
    "x = dummy1.iloc[:, 5:]\n",
    "y = dummy1['Salary_group_qcut3']\n",
    "\n",
    "x_train, x_test, y_train, y_test = train_test_split(x, y, test_size = 0.3, random_state=0)\n",
    "\n",
    "pca = PCA(.95, random_state=0)\n",
    "pca.fit(x_train)\n",
    "x_train_pca = pca.transform(x_train)\n",
    "x_test_pca = pca.transform(x_test)\n",
    "\n",
    "lr = LogisticRegression(random_state=0)\n",
    "lr.fit(x_train_pca, y_train)\n",
    "print('LogisticRegression score: ', lr.score(x_test_pca, y_test))\n",
    "print('LogisticRegression train_set score: ', lr.score(x_train_pca, y_train))\n",
    "print('LogisticRegression f1: ', f1_score(y_test, lr.predict(x_test_pca), average='weighted'))\n",
    "\n",
    "svm = SVC(kernel = 'linear', random_state=0)\n",
    "svm.fit(x_train_pca, y_train)\n",
    "print('\\nSVM Linear score: ', svm.score(x_test_pca, y_test))\n",
    "print('SVM Linear train_set score: ', svm.score(x_train_pca, y_train))\n",
    "print('SVM Linear f1: ', f1_score(y_test, svm.predict(x_test_pca), average='weighted'))\n",
    "\n",
    "rbf = SVC(kernel='rbf', random_state=0)\n",
    "rbf.fit(x_train_pca, y_train)\n",
    "print('\\nSVM RBF score: ', rbf.score(x_test_pca, y_test))\n",
    "print('SVM RBF train_set score: ', rbf.score(x_train_pca, y_train))\n",
    "print('SVM RBF f1: ', f1_score(y_test, rbf.predict(x_test_pca), average='weighted'))\n",
    "\n",
    "tree = DecisionTreeClassifier(random_state=0)\n",
    "tree.fit(x_train_pca, y_train)\n",
    "print('\\nDC score: ', tree.score(x_test_pca, y_test))\n",
    "print('DC train_set score: ', tree.score(x_train_pca, y_train))\n",
    "print('DC f1: ', f1_score(y_test, tree.predict(x_test_pca), average='weighted'))\n",
    "\n",
    "rf = RandomForestClassifier(random_state=0)\n",
    "rf.fit(x_train_pca, y_train)\n",
    "print('\\nRF score: ', rf.score(x_test_pca, y_test))\n",
    "print('RF train_set score: ', rf.score(x_train_pca, y_train))\n",
    "print('RF f1: ', f1_score(y_test, rf.predict(x_test_pca), average='weighted'))"
   ]
  },
  {
   "cell_type": "markdown",
   "metadata": {},
   "source": [
    "# PCA qcut = 4"
   ]
  },
  {
   "cell_type": "code",
   "execution_count": 45,
   "metadata": {},
   "outputs": [
    {
     "name": "stderr",
     "output_type": "stream",
     "text": [
      "/anaconda3/lib/python3.7/site-packages/sklearn/linear_model/logistic.py:433: FutureWarning: Default solver will be changed to 'lbfgs' in 0.22. Specify a solver to silence this warning.\n",
      "  FutureWarning)\n",
      "/anaconda3/lib/python3.7/site-packages/sklearn/linear_model/logistic.py:460: FutureWarning: Default multi_class will be changed to 'auto' in 0.22. Specify the multi_class option to silence this warning.\n",
      "  \"this warning.\", FutureWarning)\n"
     ]
    },
    {
     "name": "stdout",
     "output_type": "stream",
     "text": [
      "LogisticRegression score:  0.46706586826347307\n",
      "LogisticRegression train_set score:  0.5402397260273972\n",
      "LogisticRegression f1:  0.44859524251537436\n",
      "\n",
      "SVM Linear score:  0.45708582834331335\n",
      "SVM Linear train_set score:  0.5573630136986302\n",
      "SVM Linear f1:  0.44130720930183703\n"
     ]
    },
    {
     "name": "stderr",
     "output_type": "stream",
     "text": [
      "/anaconda3/lib/python3.7/site-packages/sklearn/svm/base.py:196: FutureWarning: The default value of gamma will change from 'auto' to 'scale' in version 0.22 to account better for unscaled features. Set gamma explicitly to 'auto' or 'scale' to avoid this warning.\n",
      "  \"avoid this warning.\", FutureWarning)\n"
     ]
    },
    {
     "name": "stdout",
     "output_type": "stream",
     "text": [
      "\n",
      "SVM RBF score:  0.49500998003992014\n",
      "SVM RBF train_set score:  0.5042808219178082\n",
      "SVM RBF f1:  0.45485250025295115\n",
      "\n",
      "DC score:  0.3932135728542914\n",
      "DC train_set score:  0.9922945205479452\n",
      "DC f1:  0.39143556867279433\n",
      "\n",
      "RF score:  0.4251497005988024\n",
      "RF train_set score:  0.9794520547945206\n",
      "RF f1:  0.41363584968863853\n"
     ]
    },
    {
     "name": "stderr",
     "output_type": "stream",
     "text": [
      "/anaconda3/lib/python3.7/site-packages/sklearn/metrics/classification.py:1143: UndefinedMetricWarning: F-score is ill-defined and being set to 0.0 in labels with no predicted samples.\n",
      "  'precision', 'predicted', average, warn_for)\n",
      "/anaconda3/lib/python3.7/site-packages/sklearn/ensemble/forest.py:246: FutureWarning: The default value of n_estimators will change from 10 in version 0.20 to 100 in 0.22.\n",
      "  \"10 in version 0.20 to 100 in 0.22.\", FutureWarning)\n"
     ]
    }
   ],
   "source": [
    "x = dummy1.iloc[:, 5:]\n",
    "y = dummy1['Salary_group_qcut4']\n",
    "\n",
    "x_train, x_test, y_train, y_test = train_test_split(x, y, test_size = 0.3, random_state=0)\n",
    "\n",
    "pca = PCA(.95, random_state=0)\n",
    "pca.fit(x_train)\n",
    "x_train_pca = pca.transform(x_train)\n",
    "x_test_pca = pca.transform(x_test)\n",
    "\n",
    "lr = LogisticRegression(random_state=0)\n",
    "lr.fit(x_train_pca, y_train)\n",
    "print('LogisticRegression score: ', lr.score(x_test_pca, y_test))\n",
    "print('LogisticRegression train_set score: ', lr.score(x_train_pca, y_train))\n",
    "print('LogisticRegression f1: ', f1_score(y_test, lr.predict(x_test_pca), average='weighted'))\n",
    "\n",
    "svm = SVC(kernel = 'linear', random_state=0)\n",
    "svm.fit(x_train_pca, y_train)\n",
    "print('\\nSVM Linear score: ', svm.score(x_test_pca, y_test))\n",
    "print('SVM Linear train_set score: ', svm.score(x_train_pca, y_train))\n",
    "print('SVM Linear f1: ', f1_score(y_test, svm.predict(x_test_pca), average='weighted'))\n",
    "\n",
    "rbf = SVC(kernel='rbf', random_state=0)\n",
    "rbf.fit(x_train_pca, y_train)\n",
    "print('\\nSVM RBF score: ', rbf.score(x_test_pca, y_test))\n",
    "print('SVM RBF train_set score: ', rbf.score(x_train_pca, y_train))\n",
    "print('SVM RBF f1: ', f1_score(y_test, rbf.predict(x_test_pca), average='weighted'))\n",
    "\n",
    "tree = DecisionTreeClassifier(random_state=0)\n",
    "tree.fit(x_train_pca, y_train)\n",
    "print('\\nDC score: ', tree.score(x_test_pca, y_test))\n",
    "print('DC train_set score: ', tree.score(x_train_pca, y_train))\n",
    "print('DC f1: ', f1_score(y_test, tree.predict(x_test_pca), average='weighted'))\n",
    "\n",
    "rf = RandomForestClassifier(random_state=0)\n",
    "rf.fit(x_train_pca, y_train)\n",
    "print('\\nRF score: ', rf.score(x_test_pca, y_test))\n",
    "print('RF train_set score: ', rf.score(x_train_pca, y_train))\n",
    "print('RF f1: ', f1_score(y_test, rf.predict(x_test_pca), average='weighted'))"
   ]
  },
  {
   "cell_type": "markdown",
   "metadata": {},
   "source": [
    "# RFE cut = 3"
   ]
  },
  {
   "cell_type": "code",
   "execution_count": 63,
   "metadata": {},
   "outputs": [
    {
     "name": "stdout",
     "output_type": "stream",
     "text": [
      "LogisticRegression score:  0.7684630738522954\n",
      "LogisticRegression train_set score:  0.7636986301369864\n",
      "LogisticRegression f1:  0.7642912461360433\n",
      "\n",
      "LogisticRegression score:  0.7405189620758483\n",
      "LogisticRegression train_set score:  0.7517123287671232\n",
      "LogisticRegression f1:  0.7367471846430597\n",
      "\n",
      "LogisticRegression score:  0.7445109780439122\n",
      "LogisticRegression train_set score:  0.7422945205479452\n",
      "LogisticRegression f1:  0.7411869165414077\n",
      "\n",
      "SVC Linear score:  0.7664670658682635\n",
      "SVC Linear train_set score:  0.7696917808219178\n",
      "SVC Linear f1:  0.7599215982449516\n",
      "\n",
      "SVC Linear score:  0.7644710578842315\n",
      "SVC Linear train_set score:  0.752568493150685\n",
      "SVC Linear f1:  0.7563718334475328\n",
      "\n",
      "SVC Linear score:  0.7524950099800399\n",
      "SVC Linear train_set score:  0.738013698630137\n",
      "SVC Linear f1:  0.7393559550030495\n"
     ]
    },
    {
     "name": "stderr",
     "output_type": "stream",
     "text": [
      "/anaconda3/lib/python3.7/site-packages/sklearn/metrics/classification.py:1143: UndefinedMetricWarning: F-score is ill-defined and being set to 0.0 in labels with no predicted samples.\n",
      "  'precision', 'predicted', average, warn_for)\n"
     ]
    },
    {
     "name": "stdout",
     "output_type": "stream",
     "text": [
      "\n",
      "Decision Tree score:  0.6746506986027944\n",
      "Decision Tree train_set score:  0.9965753424657534\n",
      "Decision Tree f1:  0.6808591956180623\n",
      "\n",
      "Decision Tree score:  0.6766467065868264\n",
      "Decision Tree train_set score:  0.9957191780821918\n",
      "Decision Tree f1:  0.6855351312267458\n",
      "\n",
      "Decision Tree score:  0.6746506986027944\n",
      "Decision Tree train_set score:  0.9922945205479452\n",
      "Decision Tree f1:  0.6772545852058451\n",
      "\n",
      "RF score:  0.7684630738522954\n",
      "RF train_set score:  0.9965753424657534\n",
      "RF f1:  0.7592444220391169\n"
     ]
    },
    {
     "name": "stderr",
     "output_type": "stream",
     "text": [
      "/anaconda3/lib/python3.7/site-packages/sklearn/metrics/classification.py:1143: UndefinedMetricWarning: F-score is ill-defined and being set to 0.0 in labels with no predicted samples.\n",
      "  'precision', 'predicted', average, warn_for)\n"
     ]
    },
    {
     "name": "stdout",
     "output_type": "stream",
     "text": [
      "\n",
      "RF score:  0.7485029940119761\n",
      "RF train_set score:  0.9957191780821918\n",
      "RF f1:  0.7424247996167235\n"
     ]
    },
    {
     "name": "stderr",
     "output_type": "stream",
     "text": [
      "/anaconda3/lib/python3.7/site-packages/sklearn/metrics/classification.py:1143: UndefinedMetricWarning: F-score is ill-defined and being set to 0.0 in labels with no predicted samples.\n",
      "  'precision', 'predicted', average, warn_for)\n"
     ]
    },
    {
     "name": "stdout",
     "output_type": "stream",
     "text": [
      "\n",
      "RF score:  0.7584830339321357\n",
      "RF train_set score:  0.9940068493150684\n",
      "RF f1:  0.7501467188440547\n"
     ]
    },
    {
     "name": "stderr",
     "output_type": "stream",
     "text": [
      "/anaconda3/lib/python3.7/site-packages/sklearn/metrics/classification.py:1143: UndefinedMetricWarning: F-score is ill-defined and being set to 0.0 in labels with no predicted samples.\n",
      "  'precision', 'predicted', average, warn_for)\n"
     ]
    }
   ],
   "source": [
    "x = dummy1.iloc[:, 5:]\n",
    "y = dummy1['Salary_group_cut3']\n",
    "\n",
    "x_train, x_test, y_train, y_test = train_test_split(x, y, test_size = 0.3, random_state=0)\n",
    "\n",
    "estimator = LogisticRegression(multi_class = 'auto', solver = 'newton-cg', random_state = 0)\n",
    "selector1 = RFE(estimator, 80, step=1)\n",
    "selector1 = selector1.fit(x_train, y_train) \n",
    "print('LogisticRegression score: ', selector1.score(x_test, y_test))\n",
    "print('LogisticRegression train_set score: ', selector1.score(x_train, y_train))\n",
    "print('LogisticRegression f1: ', f1_score(y_test, selector1.predict(x_test), average='weighted'))\n",
    "col_lr_80 = dummy1.iloc[:, 5:].columns[selector1.get_support()]\n",
    "#print('RFE result for lr: ', col_lr_80)\n",
    "selector2 = RFE(estimator, 50, step=1)\n",
    "selector2 = selector2.fit(x_train, y_train) \n",
    "print('\\nLogisticRegression score: ', selector2.score(x_test, y_test))\n",
    "print('LogisticRegression train_set score: ', selector2.score(x_train, y_train))\n",
    "print('LogisticRegression f1: ', f1_score(y_test, selector2.predict(x_test), average='weighted'))\n",
    "col_lr_50 = dummy1.iloc[:, 5:].columns[selector2.get_support()]\n",
    "#print('RFE result for lr: ', col_lr_50)\n",
    "selector3 = RFE(estimator, 30, step=1)\n",
    "selector3 = selector3.fit(x_train, y_train) \n",
    "print('\\nLogisticRegression score: ', selector3.score(x_test, y_test))\n",
    "print('LogisticRegression train_set score: ', selector3.score(x_train, y_train))\n",
    "print('LogisticRegression f1: ', f1_score(y_test, selector3.predict(x_test), average='weighted'))\n",
    "col_lr_30 = dummy1.iloc[:, 5:].columns[selector3.get_support()]\n",
    "#print('RFE result for lr: ', col_lr_30)\n",
    "\n",
    "estimator = SVC(kernel = \"linear\", random_state = 0)\n",
    "selector1 = RFE(estimator, 80, step=1)\n",
    "selector1 = selector1.fit(x_train, y_train)\n",
    "print('\\nSVC Linear score: ', selector1.score(x_test, y_test))\n",
    "print('SVC Linear train_set score: ', selector1.score(x_train, y_train))\n",
    "print('SVC Linear f1: ', f1_score(y_test, selector1.predict(x_test), average='weighted'))\n",
    "col_svc_80 = dummy1.iloc[:, 5:].columns[selector1.get_support()]\n",
    "#print('RFE result for svc linear: ', col_svc)\n",
    "selector2 = RFE(estimator, 50, step=1)\n",
    "selector2 = selector2.fit(x_train, y_train) \n",
    "print('\\nSVC Linear score: ', selector2.score(x_test, y_test))\n",
    "print('SVC Linear train_set score: ', selector2.score(x_train, y_train))\n",
    "print('SVC Linear f1: ', f1_score(y_test, selector2.predict(x_test), average='weighted'))\n",
    "col_svc_50 = dummy1.iloc[:, 5:].columns[selector2.get_support()]\n",
    "#print('RFE result for svc linear: ', col_svc)\n",
    "selector3 = RFE(estimator, 30, step=1)\n",
    "selector3 = selector3.fit(x_train, y_train) \n",
    "print('\\nSVC Linear score: ', selector3.score(x_test, y_test))\n",
    "print('SVC Linear train_set score: ', selector3.score(x_train, y_train))\n",
    "print('SVC Linear f1: ', f1_score(y_test, selector3.predict(x_test), average='weighted'))\n",
    "col_svc_30 = dummy1.iloc[:, 5:].columns[selector3.get_support()]\n",
    "#print('RFE result for svc linear: ', col_svc)\n",
    "\n",
    "#estimator = SVC(kernel = 'rbf', random_state=0)\n",
    "#selector = RFE(estimator, 80, step=1)\n",
    "#selector = selector.fit(x_train, y_train) \n",
    "#col_rbf = dummy1.iloc[:, 5:].columns[selector.get_support()]\n",
    "#### The classifier does not expose \"coef_\" or \"feature_importances_\" attributes\n",
    "\n",
    "estimator = DecisionTreeClassifier(random_state=0)\n",
    "selector1 = RFE(estimator, 80, step=1)\n",
    "selector1 = selector1.fit(x_train, y_train) \n",
    "print('\\nDecision Tree score: ', selector1.score(x_test, y_test))\n",
    "print('Decision Tree train_set score: ', selector1.score(x_train, y_train))\n",
    "print('Decision Tree f1: ', f1_score(y_test, selector1.predict(x_test), average='weighted'))\n",
    "col_dt_80 = dummy1.iloc[:, 5:].columns[selector1.get_support()]\n",
    "#print('RFE result for dt: ', col_dt)\n",
    "selector2 = RFE(estimator, 50, step=1)\n",
    "selector2 = selector2.fit(x_train, y_train) \n",
    "print('\\nDecision Tree score: ', selector2.score(x_test, y_test))\n",
    "print('Decision Tree train_set score: ', selector2.score(x_train, y_train))\n",
    "print('Decision Tree f1: ', f1_score(y_test, selector2.predict(x_test), average='weighted'))\n",
    "col_dt_50 = dummy1.iloc[:, 5:].columns[selector2.get_support()]\n",
    "#print('RFE result for lr: ', col_lr_50)\n",
    "selector3 = RFE(estimator, 30, step=1)\n",
    "selector3 = selector3.fit(x_train, y_train) \n",
    "print('\\nDecision Tree score: ', selector3.score(x_test, y_test))\n",
    "print('Decision Tree train_set score: ', selector3.score(x_train, y_train))\n",
    "print('Decision Tree f1: ', f1_score(y_test, selector3.predict(x_test), average='weighted'))\n",
    "col_dt_30 = dummy1.iloc[:, 5:].columns[selector3.get_support()]\n",
    "#print('RFE result for lr: ', col_lr_30)\n",
    "\n",
    "estimator = RandomForestClassifier(n_estimators = 100, random_state=0)\n",
    "selector1 = RFE(estimator, 80, step=1)\n",
    "selector1 = selector1.fit(x_train, y_train) \n",
    "print('\\nRF score: ', selector1.score(x_test, y_test))\n",
    "print('RF train_set score: ', selector1.score(x_train, y_train))\n",
    "print('RF f1: ', f1_score(y_test, selector1.predict(x_test), average='weighted'))\n",
    "col_rf_80 = dummy1.iloc[:, 5:].columns[selector1.get_support()]\n",
    "#print('RFE result for dt: ', col_dt)\n",
    "selector2 = RFE(estimator, 50, step=1)\n",
    "selector2 = selector2.fit(x_train, y_train) \n",
    "print('\\nRF score: ', selector2.score(x_test, y_test))\n",
    "print('RF train_set score: ', selector2.score(x_train, y_train))\n",
    "print('RF f1: ', f1_score(y_test, selector2.predict(x_test), average='weighted'))\n",
    "col_dt_50 = dummy1.iloc[:, 5:].columns[selector2.get_support()]\n",
    "#print('RFE result for lr: ', col_lr_50)\n",
    "selector3 = RFE(estimator, 30, step=1)\n",
    "selector3 = selector3.fit(x_train, y_train) \n",
    "print('\\nRF score: ', selector3.score(x_test, y_test))\n",
    "print('RF train_set score: ', selector3.score(x_train, y_train))\n",
    "print('RF f1: ', f1_score(y_test, selector3.predict(x_test), average='weighted'))\n",
    "col_dt_30 = dummy1.iloc[:, 5:].columns[selector3.get_support()]\n",
    "#print('RFE result for lr: ', col_lr_30)"
   ]
  },
  {
   "cell_type": "code",
   "execution_count": null,
   "metadata": {},
   "outputs": [],
   "source": [
    "#rfe_result = pd.DataFrame({'lr': list(col_lr), 'svc': list(col_svc), 'dt': list(col_dt), 'rf': list(col_rf)}, \n",
    "#                          columns = ['lr', 'svc', 'dt', 'rf']\n",
    "#                          )"
   ]
  },
  {
   "cell_type": "markdown",
   "metadata": {},
   "source": [
    "# RFE cut = 4"
   ]
  },
  {
   "cell_type": "code",
   "execution_count": 64,
   "metadata": {},
   "outputs": [
    {
     "name": "stdout",
     "output_type": "stream",
     "text": [
      "LogisticRegression score:  0.6646706586826348\n",
      "LogisticRegression train_set score:  0.7200342465753424\n",
      "LogisticRegression f1:  0.6476098894359276\n",
      "\n",
      "LogisticRegression score:  0.6586826347305389\n",
      "LogisticRegression train_set score:  0.7046232876712328\n",
      "LogisticRegression f1:  0.6339971169798014\n",
      "\n",
      "LogisticRegression score:  0.6746506986027944\n",
      "LogisticRegression train_set score:  0.7037671232876712\n",
      "LogisticRegression f1:  0.6462814716288492\n",
      "\n",
      "SVC Linear score:  0.6706586826347305\n",
      "SVC Linear train_set score:  0.728595890410959\n",
      "SVC Linear f1:  0.6457693605245658\n"
     ]
    },
    {
     "name": "stderr",
     "output_type": "stream",
     "text": [
      "/anaconda3/lib/python3.7/site-packages/sklearn/metrics/classification.py:1145: UndefinedMetricWarning: F-score is ill-defined and being set to 0.0 in labels with no true samples.\n",
      "  'recall', 'true', average, warn_for)\n"
     ]
    },
    {
     "name": "stdout",
     "output_type": "stream",
     "text": [
      "\n",
      "SVC Linear score:  0.6706586826347305\n",
      "SVC Linear train_set score:  0.6986301369863014\n",
      "SVC Linear f1:  0.6347253208142317\n"
     ]
    },
    {
     "name": "stderr",
     "output_type": "stream",
     "text": [
      "/anaconda3/lib/python3.7/site-packages/sklearn/metrics/classification.py:1145: UndefinedMetricWarning: F-score is ill-defined and being set to 0.0 in labels with no true samples.\n",
      "  'recall', 'true', average, warn_for)\n"
     ]
    },
    {
     "name": "stdout",
     "output_type": "stream",
     "text": [
      "\n",
      "SVC Linear score:  0.688622754491018\n",
      "SVC Linear train_set score:  0.6823630136986302\n",
      "SVC Linear f1:  0.6510128948452301\n",
      "\n",
      "Decision Tree score:  0.6087824351297405\n",
      "Decision Tree train_set score:  0.9940068493150684\n",
      "Decision Tree f1:  0.6113662186658948\n"
     ]
    },
    {
     "name": "stderr",
     "output_type": "stream",
     "text": [
      "/anaconda3/lib/python3.7/site-packages/sklearn/metrics/classification.py:1145: UndefinedMetricWarning: F-score is ill-defined and being set to 0.0 in labels with no true samples.\n",
      "  'recall', 'true', average, warn_for)\n"
     ]
    },
    {
     "name": "stdout",
     "output_type": "stream",
     "text": [
      "\n",
      "Decision Tree score:  0.5748502994011976\n",
      "Decision Tree train_set score:  0.9922945205479452\n",
      "Decision Tree f1:  0.5790397795598679\n"
     ]
    },
    {
     "name": "stderr",
     "output_type": "stream",
     "text": [
      "/anaconda3/lib/python3.7/site-packages/sklearn/metrics/classification.py:1145: UndefinedMetricWarning: F-score is ill-defined and being set to 0.0 in labels with no true samples.\n",
      "  'recall', 'true', average, warn_for)\n"
     ]
    },
    {
     "name": "stdout",
     "output_type": "stream",
     "text": [
      "\n",
      "Decision Tree score:  0.5449101796407185\n",
      "Decision Tree train_set score:  0.9888698630136986\n",
      "Decision Tree f1:  0.5562543028285228\n"
     ]
    },
    {
     "name": "stderr",
     "output_type": "stream",
     "text": [
      "/anaconda3/lib/python3.7/site-packages/sklearn/metrics/classification.py:1145: UndefinedMetricWarning: F-score is ill-defined and being set to 0.0 in labels with no true samples.\n",
      "  'recall', 'true', average, warn_for)\n"
     ]
    },
    {
     "name": "stdout",
     "output_type": "stream",
     "text": [
      "\n",
      "RF score:  0.6806387225548902\n",
      "RF train_set score:  0.9940068493150684\n",
      "RF f1:  0.6464757703561269\n",
      "\n",
      "RF score:  0.6926147704590818\n",
      "RF train_set score:  0.9922945205479452\n",
      "RF f1:  0.6584825019295603\n",
      "\n",
      "RF score:  0.6726546906187625\n",
      "RF train_set score:  0.9888698630136986\n",
      "RF f1:  0.6448837912463852\n"
     ]
    }
   ],
   "source": [
    "x = dummy1.iloc[:, 5:]\n",
    "y = dummy1['Salary_group_cut4']\n",
    "\n",
    "x_train, x_test, y_train, y_test = train_test_split(x, y, test_size = 0.3, random_state=0)\n",
    "\n",
    "estimator = LogisticRegression(multi_class = 'auto', solver = 'newton-cg', random_state = 0)\n",
    "selector1 = RFE(estimator, 80, step=1)\n",
    "selector1 = selector1.fit(x_train, y_train) \n",
    "print('LogisticRegression score: ', selector1.score(x_test, y_test))\n",
    "print('LogisticRegression train_set score: ', selector1.score(x_train, y_train))\n",
    "print('LogisticRegression f1: ', f1_score(y_test, selector1.predict(x_test), average='weighted'))\n",
    "col_lr_80 = dummy1.iloc[:, 5:].columns[selector1.get_support()]\n",
    "#print('RFE result for lr: ', col_lr_80)\n",
    "selector2 = RFE(estimator, 50, step=1)\n",
    "selector2 = selector2.fit(x_train, y_train) \n",
    "print('\\nLogisticRegression score: ', selector2.score(x_test, y_test))\n",
    "print('LogisticRegression train_set score: ', selector2.score(x_train, y_train))\n",
    "print('LogisticRegression f1: ', f1_score(y_test, selector2.predict(x_test), average='weighted'))\n",
    "col_lr_50 = dummy1.iloc[:, 5:].columns[selector2.get_support()]\n",
    "#print('RFE result for lr: ', col_lr_50)\n",
    "selector3 = RFE(estimator, 30, step=1)\n",
    "selector3 = selector3.fit(x_train, y_train) \n",
    "print('\\nLogisticRegression score: ', selector3.score(x_test, y_test))\n",
    "print('LogisticRegression train_set score: ', selector3.score(x_train, y_train))\n",
    "print('LogisticRegression f1: ', f1_score(y_test, selector3.predict(x_test), average='weighted'))\n",
    "col_lr_30 = dummy1.iloc[:, 5:].columns[selector3.get_support()]\n",
    "#print('RFE result for lr: ', col_lr_30)\n",
    "\n",
    "estimator = SVC(kernel = \"linear\", random_state = 0)\n",
    "selector1 = RFE(estimator, 80, step=1)\n",
    "selector1 = selector1.fit(x_train, y_train)\n",
    "print('\\nSVC Linear score: ', selector1.score(x_test, y_test))\n",
    "print('SVC Linear train_set score: ', selector1.score(x_train, y_train))\n",
    "print('SVC Linear f1: ', f1_score(y_test, selector1.predict(x_test), average='weighted'))\n",
    "col_svc_80 = dummy1.iloc[:, 5:].columns[selector1.get_support()]\n",
    "#print('RFE result for svc linear: ', col_svc)\n",
    "selector2 = RFE(estimator, 50, step=1)\n",
    "selector2 = selector2.fit(x_train, y_train) \n",
    "print('\\nSVC Linear score: ', selector2.score(x_test, y_test))\n",
    "print('SVC Linear train_set score: ', selector2.score(x_train, y_train))\n",
    "print('SVC Linear f1: ', f1_score(y_test, selector2.predict(x_test), average='weighted'))\n",
    "col_svc_50 = dummy1.iloc[:, 5:].columns[selector2.get_support()]\n",
    "#print('RFE result for svc linear: ', col_svc)\n",
    "selector3 = RFE(estimator, 30, step=1)\n",
    "selector3 = selector3.fit(x_train, y_train) \n",
    "print('\\nSVC Linear score: ', selector3.score(x_test, y_test))\n",
    "print('SVC Linear train_set score: ', selector3.score(x_train, y_train))\n",
    "print('SVC Linear f1: ', f1_score(y_test, selector3.predict(x_test), average='weighted'))\n",
    "col_svc_30 = dummy1.iloc[:, 5:].columns[selector3.get_support()]\n",
    "#print('RFE result for svc linear: ', col_svc)\n",
    "\n",
    "#estimator = SVC(kernel = 'rbf', random_state=0)\n",
    "#selector = RFE(estimator, 80, step=1)\n",
    "#selector = selector.fit(x_train, y_train) \n",
    "#col_rbf = dummy1.iloc[:, 5:].columns[selector.get_support()]\n",
    "#### The classifier does not expose \"coef_\" or \"feature_importances_\" attributes\n",
    "\n",
    "estimator = DecisionTreeClassifier(random_state=0)\n",
    "selector1 = RFE(estimator, 80, step=1)\n",
    "selector1 = selector1.fit(x_train, y_train) \n",
    "print('\\nDecision Tree score: ', selector1.score(x_test, y_test))\n",
    "print('Decision Tree train_set score: ', selector1.score(x_train, y_train))\n",
    "print('Decision Tree f1: ', f1_score(y_test, selector1.predict(x_test), average='weighted'))\n",
    "col_dt_80 = dummy1.iloc[:, 5:].columns[selector1.get_support()]\n",
    "#print('RFE result for dt: ', col_dt)\n",
    "selector2 = RFE(estimator, 50, step=1)\n",
    "selector2 = selector2.fit(x_train, y_train) \n",
    "print('\\nDecision Tree score: ', selector2.score(x_test, y_test))\n",
    "print('Decision Tree train_set score: ', selector2.score(x_train, y_train))\n",
    "print('Decision Tree f1: ', f1_score(y_test, selector2.predict(x_test), average='weighted'))\n",
    "col_dt_50 = dummy1.iloc[:, 5:].columns[selector2.get_support()]\n",
    "#print('RFE result for lr: ', col_lr_50)\n",
    "selector3 = RFE(estimator, 30, step=1)\n",
    "selector3 = selector3.fit(x_train, y_train) \n",
    "print('\\nDecision Tree score: ', selector3.score(x_test, y_test))\n",
    "print('Decision Tree train_set score: ', selector3.score(x_train, y_train))\n",
    "print('Decision Tree f1: ', f1_score(y_test, selector3.predict(x_test), average='weighted'))\n",
    "col_dt_30 = dummy1.iloc[:, 5:].columns[selector3.get_support()]\n",
    "#print('RFE result for lr: ', col_lr_30)\n",
    "\n",
    "estimator = RandomForestClassifier(n_estimators = 100, random_state=0)\n",
    "selector1 = RFE(estimator, 80, step=1)\n",
    "selector1 = selector1.fit(x_train, y_train) \n",
    "print('\\nRF score: ', selector1.score(x_test, y_test))\n",
    "print('RF train_set score: ', selector1.score(x_train, y_train))\n",
    "print('RF f1: ', f1_score(y_test, selector1.predict(x_test), average='weighted'))\n",
    "col_rf_80 = dummy1.iloc[:, 5:].columns[selector1.get_support()]\n",
    "#print('RFE result for dt: ', col_dt)\n",
    "selector2 = RFE(estimator, 50, step=1)\n",
    "selector2 = selector2.fit(x_train, y_train) \n",
    "print('\\nRF score: ', selector2.score(x_test, y_test))\n",
    "print('RF train_set score: ', selector2.score(x_train, y_train))\n",
    "print('RF f1: ', f1_score(y_test, selector2.predict(x_test), average='weighted'))\n",
    "col_dt_50 = dummy1.iloc[:, 5:].columns[selector2.get_support()]\n",
    "#print('RFE result for lr: ', col_lr_50)\n",
    "selector3 = RFE(estimator, 30, step=1)\n",
    "selector3 = selector3.fit(x_train, y_train) \n",
    "print('\\nRF score: ', selector3.score(x_test, y_test))\n",
    "print('RF train_set score: ', selector3.score(x_train, y_train))\n",
    "print('RF f1: ', f1_score(y_test, selector3.predict(x_test), average='weighted'))\n",
    "col_dt_30 = dummy1.iloc[:, 5:].columns[selector3.get_support()]\n",
    "#print('RFE result for lr: ', col_lr_30)"
   ]
  },
  {
   "cell_type": "markdown",
   "metadata": {},
   "source": [
    "# RFE qcut=3"
   ]
  },
  {
   "cell_type": "code",
   "execution_count": 65,
   "metadata": {},
   "outputs": [
    {
     "name": "stdout",
     "output_type": "stream",
     "text": [
      "LogisticRegression score:  0.5748502994011976\n",
      "LogisticRegression train_set score:  0.6412671232876712\n",
      "LogisticRegression f1:  0.5675726702236473\n",
      "\n",
      "LogisticRegression score:  0.5868263473053892\n",
      "LogisticRegression train_set score:  0.6284246575342466\n",
      "LogisticRegression f1:  0.5785238151220966\n",
      "\n",
      "LogisticRegression score:  0.5708582834331337\n",
      "LogisticRegression train_set score:  0.5804794520547946\n",
      "LogisticRegression f1:  0.5745111603401701\n",
      "\n",
      "SVC Linear score:  0.5708582834331337\n",
      "SVC Linear train_set score:  0.648972602739726\n",
      "SVC Linear f1:  0.565393002326181\n",
      "\n",
      "SVC Linear score:  0.590818363273453\n",
      "SVC Linear train_set score:  0.6207191780821918\n",
      "SVC Linear f1:  0.5949347836193118\n",
      "\n",
      "SVC Linear score:  0.5588822355289421\n",
      "SVC Linear train_set score:  0.5804794520547946\n",
      "SVC Linear f1:  0.5672953003557196\n",
      "\n",
      "Decision Tree score:  0.5029940119760479\n",
      "Decision Tree train_set score:  0.9957191780821918\n",
      "Decision Tree f1:  0.5011164915188\n",
      "\n",
      "Decision Tree score:  0.5089820359281437\n",
      "Decision Tree train_set score:  0.9931506849315068\n",
      "Decision Tree f1:  0.5080357554838124\n",
      "\n",
      "Decision Tree score:  0.5289421157684631\n",
      "Decision Tree train_set score:  0.990582191780822\n",
      "Decision Tree f1:  0.5310371919505398\n",
      "\n",
      "RF score:  0.6387225548902196\n",
      "RF train_set score:  0.9957191780821918\n",
      "RF f1:  0.6335353011888741\n",
      "\n",
      "RF score:  0.6067864271457086\n",
      "RF train_set score:  0.9948630136986302\n",
      "RF f1:  0.6028602901853551\n",
      "\n",
      "RF score:  0.6007984031936128\n",
      "RF train_set score:  0.990582191780822\n",
      "RF f1:  0.5963630105816558\n"
     ]
    }
   ],
   "source": [
    "x = dummy1.iloc[:, 5:]\n",
    "y = dummy1['Salary_group_qcut3']\n",
    "\n",
    "x_train, x_test, y_train, y_test = train_test_split(x, y, test_size = 0.3, random_state=0)\n",
    "\n",
    "estimator = LogisticRegression(multi_class = 'auto', solver = 'newton-cg', random_state = 0)\n",
    "selector1 = RFE(estimator, 80, step=1)\n",
    "selector1 = selector1.fit(x_train, y_train) \n",
    "print('LogisticRegression score: ', selector1.score(x_test, y_test))\n",
    "print('LogisticRegression train_set score: ', selector1.score(x_train, y_train))\n",
    "print('LogisticRegression f1: ', f1_score(y_test, selector1.predict(x_test), average='weighted'))\n",
    "col_lr_80 = dummy1.iloc[:, 5:].columns[selector1.get_support()]\n",
    "#print('RFE result for lr: ', col_lr_80)\n",
    "selector2 = RFE(estimator, 50, step=1)\n",
    "selector2 = selector2.fit(x_train, y_train) \n",
    "print('\\nLogisticRegression score: ', selector2.score(x_test, y_test))\n",
    "print('LogisticRegression train_set score: ', selector2.score(x_train, y_train))\n",
    "print('LogisticRegression f1: ', f1_score(y_test, selector2.predict(x_test), average='weighted'))\n",
    "col_lr_50 = dummy1.iloc[:, 5:].columns[selector2.get_support()]\n",
    "#print('RFE result for lr: ', col_lr_50)\n",
    "selector3 = RFE(estimator, 30, step=1)\n",
    "selector3 = selector3.fit(x_train, y_train) \n",
    "print('\\nLogisticRegression score: ', selector3.score(x_test, y_test))\n",
    "print('LogisticRegression train_set score: ', selector3.score(x_train, y_train))\n",
    "print('LogisticRegression f1: ', f1_score(y_test, selector3.predict(x_test), average='weighted'))\n",
    "col_lr_30 = dummy1.iloc[:, 5:].columns[selector3.get_support()]\n",
    "#print('RFE result for lr: ', col_lr_30)\n",
    "\n",
    "estimator = SVC(kernel = \"linear\", random_state = 0)\n",
    "selector1 = RFE(estimator, 80, step=1)\n",
    "selector1 = selector1.fit(x_train, y_train)\n",
    "print('\\nSVC Linear score: ', selector1.score(x_test, y_test))\n",
    "print('SVC Linear train_set score: ', selector1.score(x_train, y_train))\n",
    "print('SVC Linear f1: ', f1_score(y_test, selector1.predict(x_test), average='weighted'))\n",
    "col_svc_80 = dummy1.iloc[:, 5:].columns[selector1.get_support()]\n",
    "#print('RFE result for svc linear: ', col_svc)\n",
    "selector2 = RFE(estimator, 50, step=1)\n",
    "selector2 = selector2.fit(x_train, y_train) \n",
    "print('\\nSVC Linear score: ', selector2.score(x_test, y_test))\n",
    "print('SVC Linear train_set score: ', selector2.score(x_train, y_train))\n",
    "print('SVC Linear f1: ', f1_score(y_test, selector2.predict(x_test), average='weighted'))\n",
    "col_svc_50 = dummy1.iloc[:, 5:].columns[selector2.get_support()]\n",
    "#print('RFE result for svc linear: ', col_svc)\n",
    "selector3 = RFE(estimator, 30, step=1)\n",
    "selector3 = selector3.fit(x_train, y_train) \n",
    "print('\\nSVC Linear score: ', selector3.score(x_test, y_test))\n",
    "print('SVC Linear train_set score: ', selector3.score(x_train, y_train))\n",
    "print('SVC Linear f1: ', f1_score(y_test, selector3.predict(x_test), average='weighted'))\n",
    "col_svc_30 = dummy1.iloc[:, 5:].columns[selector3.get_support()]\n",
    "#print('RFE result for svc linear: ', col_svc)\n",
    "\n",
    "#estimator = SVC(kernel = 'rbf', random_state=0)\n",
    "#selector = RFE(estimator, 80, step=1)\n",
    "#selector = selector.fit(x_train, y_train) \n",
    "#col_rbf = dummy1.iloc[:, 5:].columns[selector.get_support()]\n",
    "#### The classifier does not expose \"coef_\" or \"feature_importances_\" attributes\n",
    "\n",
    "estimator = DecisionTreeClassifier(random_state=0)\n",
    "selector1 = RFE(estimator, 80, step=1)\n",
    "selector1 = selector1.fit(x_train, y_train) \n",
    "print('\\nDecision Tree score: ', selector1.score(x_test, y_test))\n",
    "print('Decision Tree train_set score: ', selector1.score(x_train, y_train))\n",
    "print('Decision Tree f1: ', f1_score(y_test, selector1.predict(x_test), average='weighted'))\n",
    "col_dt_80 = dummy1.iloc[:, 5:].columns[selector1.get_support()]\n",
    "#print('RFE result for dt: ', col_dt)\n",
    "selector2 = RFE(estimator, 50, step=1)\n",
    "selector2 = selector2.fit(x_train, y_train) \n",
    "print('\\nDecision Tree score: ', selector2.score(x_test, y_test))\n",
    "print('Decision Tree train_set score: ', selector2.score(x_train, y_train))\n",
    "print('Decision Tree f1: ', f1_score(y_test, selector2.predict(x_test), average='weighted'))\n",
    "col_dt_50 = dummy1.iloc[:, 5:].columns[selector2.get_support()]\n",
    "#print('RFE result for lr: ', col_lr_50)\n",
    "selector3 = RFE(estimator, 30, step=1)\n",
    "selector3 = selector3.fit(x_train, y_train) \n",
    "print('\\nDecision Tree score: ', selector3.score(x_test, y_test))\n",
    "print('Decision Tree train_set score: ', selector3.score(x_train, y_train))\n",
    "print('Decision Tree f1: ', f1_score(y_test, selector3.predict(x_test), average='weighted'))\n",
    "col_dt_30 = dummy1.iloc[:, 5:].columns[selector3.get_support()]\n",
    "#print('RFE result for lr: ', col_lr_30)\n",
    "\n",
    "estimator = RandomForestClassifier(n_estimators = 100, random_state=0)\n",
    "selector1 = RFE(estimator, 80, step=1)\n",
    "selector1 = selector1.fit(x_train, y_train) \n",
    "print('\\nRF score: ', selector1.score(x_test, y_test))\n",
    "print('RF train_set score: ', selector1.score(x_train, y_train))\n",
    "print('RF f1: ', f1_score(y_test, selector1.predict(x_test), average='weighted'))\n",
    "col_rf_80 = dummy1.iloc[:, 5:].columns[selector1.get_support()]\n",
    "#print('RFE result for dt: ', col_dt)\n",
    "selector2 = RFE(estimator, 50, step=1)\n",
    "selector2 = selector2.fit(x_train, y_train) \n",
    "print('\\nRF score: ', selector2.score(x_test, y_test))\n",
    "print('RF train_set score: ', selector2.score(x_train, y_train))\n",
    "print('RF f1: ', f1_score(y_test, selector2.predict(x_test), average='weighted'))\n",
    "col_dt_50 = dummy1.iloc[:, 5:].columns[selector2.get_support()]\n",
    "#print('RFE result for lr: ', col_lr_50)\n",
    "selector3 = RFE(estimator, 30, step=1)\n",
    "selector3 = selector3.fit(x_train, y_train) \n",
    "print('\\nRF score: ', selector3.score(x_test, y_test))\n",
    "print('RF train_set score: ', selector3.score(x_train, y_train))\n",
    "print('RF f1: ', f1_score(y_test, selector3.predict(x_test), average='weighted'))\n",
    "col_dt_30 = dummy1.iloc[:, 5:].columns[selector3.get_support()]\n",
    "#print('RFE result for lr: ', col_lr_30)"
   ]
  },
  {
   "cell_type": "markdown",
   "metadata": {},
   "source": [
    "# RFE qcut=4"
   ]
  },
  {
   "cell_type": "code",
   "execution_count": 66,
   "metadata": {},
   "outputs": [
    {
     "name": "stdout",
     "output_type": "stream",
     "text": [
      "LogisticRegression score:  0.5748502994011976\n",
      "LogisticRegression train_set score:  0.6412671232876712\n",
      "LogisticRegression f1:  0.5675726702236473\n",
      "\n",
      "LogisticRegression score:  0.5868263473053892\n",
      "LogisticRegression train_set score:  0.6284246575342466\n",
      "LogisticRegression f1:  0.5785238151220966\n",
      "\n",
      "LogisticRegression score:  0.5708582834331337\n",
      "LogisticRegression train_set score:  0.5804794520547946\n",
      "LogisticRegression f1:  0.5745111603401701\n",
      "\n",
      "SVC Linear score:  0.5708582834331337\n",
      "SVC Linear train_set score:  0.648972602739726\n",
      "SVC Linear f1:  0.565393002326181\n",
      "\n",
      "SVC Linear score:  0.590818363273453\n",
      "SVC Linear train_set score:  0.6207191780821918\n",
      "SVC Linear f1:  0.5949347836193118\n",
      "\n",
      "SVC Linear score:  0.5588822355289421\n",
      "SVC Linear train_set score:  0.5804794520547946\n",
      "SVC Linear f1:  0.5672953003557196\n",
      "\n",
      "Decision Tree score:  0.5029940119760479\n",
      "Decision Tree train_set score:  0.9957191780821918\n",
      "Decision Tree f1:  0.5011164915188\n",
      "\n",
      "Decision Tree score:  0.5089820359281437\n",
      "Decision Tree train_set score:  0.9931506849315068\n",
      "Decision Tree f1:  0.5080357554838124\n",
      "\n",
      "Decision Tree score:  0.5289421157684631\n",
      "Decision Tree train_set score:  0.990582191780822\n",
      "Decision Tree f1:  0.5310371919505398\n",
      "\n",
      "RF score:  0.6387225548902196\n",
      "RF train_set score:  0.9957191780821918\n",
      "RF f1:  0.6335353011888741\n",
      "\n",
      "RF score:  0.6067864271457086\n",
      "RF train_set score:  0.9948630136986302\n",
      "RF f1:  0.6028602901853551\n",
      "\n",
      "RF score:  0.6007984031936128\n",
      "RF train_set score:  0.990582191780822\n",
      "RF f1:  0.5963630105816558\n"
     ]
    }
   ],
   "source": [
    "x = dummy1.iloc[:, 5:]\n",
    "y = dummy1['Salary_group_qcut3']\n",
    "\n",
    "x_train, x_test, y_train, y_test = train_test_split(x, y, test_size = 0.3, random_state=0)\n",
    "\n",
    "estimator = LogisticRegression(multi_class = 'auto', solver = 'newton-cg', random_state = 0)\n",
    "selector1 = RFE(estimator, 80, step=1)\n",
    "selector1 = selector1.fit(x_train, y_train) \n",
    "print('LogisticRegression score: ', selector1.score(x_test, y_test))\n",
    "print('LogisticRegression train_set score: ', selector1.score(x_train, y_train))\n",
    "print('LogisticRegression f1: ', f1_score(y_test, selector1.predict(x_test), average='weighted'))\n",
    "col_lr_80 = dummy1.iloc[:, 5:].columns[selector1.get_support()]\n",
    "#print('RFE result for lr: ', col_lr_80)\n",
    "selector2 = RFE(estimator, 50, step=1)\n",
    "selector2 = selector2.fit(x_train, y_train) \n",
    "print('\\nLogisticRegression score: ', selector2.score(x_test, y_test))\n",
    "print('LogisticRegression train_set score: ', selector2.score(x_train, y_train))\n",
    "print('LogisticRegression f1: ', f1_score(y_test, selector2.predict(x_test), average='weighted'))\n",
    "col_lr_50 = dummy1.iloc[:, 5:].columns[selector2.get_support()]\n",
    "#print('RFE result for lr: ', col_lr_50)\n",
    "selector3 = RFE(estimator, 30, step=1)\n",
    "selector3 = selector3.fit(x_train, y_train) \n",
    "print('\\nLogisticRegression score: ', selector3.score(x_test, y_test))\n",
    "print('LogisticRegression train_set score: ', selector3.score(x_train, y_train))\n",
    "print('LogisticRegression f1: ', f1_score(y_test, selector3.predict(x_test), average='weighted'))\n",
    "col_lr_30 = dummy1.iloc[:, 5:].columns[selector3.get_support()]\n",
    "#print('RFE result for lr: ', col_lr_30)\n",
    "\n",
    "estimator = SVC(kernel = \"linear\", random_state = 0)\n",
    "selector1 = RFE(estimator, 80, step=1)\n",
    "selector1 = selector1.fit(x_train, y_train)\n",
    "print('\\nSVC Linear score: ', selector1.score(x_test, y_test))\n",
    "print('SVC Linear train_set score: ', selector1.score(x_train, y_train))\n",
    "print('SVC Linear f1: ', f1_score(y_test, selector1.predict(x_test), average='weighted'))\n",
    "col_svc_80 = dummy1.iloc[:, 5:].columns[selector1.get_support()]\n",
    "#print('RFE result for svc linear: ', col_svc)\n",
    "selector2 = RFE(estimator, 50, step=1)\n",
    "selector2 = selector2.fit(x_train, y_train) \n",
    "print('\\nSVC Linear score: ', selector2.score(x_test, y_test))\n",
    "print('SVC Linear train_set score: ', selector2.score(x_train, y_train))\n",
    "print('SVC Linear f1: ', f1_score(y_test, selector2.predict(x_test), average='weighted'))\n",
    "col_svc_50 = dummy1.iloc[:, 5:].columns[selector2.get_support()]\n",
    "#print('RFE result for svc linear: ', col_svc)\n",
    "selector3 = RFE(estimator, 30, step=1)\n",
    "selector3 = selector3.fit(x_train, y_train) \n",
    "print('\\nSVC Linear score: ', selector3.score(x_test, y_test))\n",
    "print('SVC Linear train_set score: ', selector3.score(x_train, y_train))\n",
    "print('SVC Linear f1: ', f1_score(y_test, selector3.predict(x_test), average='weighted'))\n",
    "col_svc_30 = dummy1.iloc[:, 5:].columns[selector3.get_support()]\n",
    "#print('RFE result for svc linear: ', col_svc)\n",
    "\n",
    "#estimator = SVC(kernel = 'rbf', random_state=0)\n",
    "#selector = RFE(estimator, 80, step=1)\n",
    "#selector = selector.fit(x_train, y_train) \n",
    "#col_rbf = dummy1.iloc[:, 5:].columns[selector.get_support()]\n",
    "#### The classifier does not expose \"coef_\" or \"feature_importances_\" attributes\n",
    "\n",
    "estimator = DecisionTreeClassifier(random_state=0)\n",
    "selector1 = RFE(estimator, 80, step=1)\n",
    "selector1 = selector1.fit(x_train, y_train) \n",
    "print('\\nDecision Tree score: ', selector1.score(x_test, y_test))\n",
    "print('Decision Tree train_set score: ', selector1.score(x_train, y_train))\n",
    "print('Decision Tree f1: ', f1_score(y_test, selector1.predict(x_test), average='weighted'))\n",
    "col_dt_80 = dummy1.iloc[:, 5:].columns[selector1.get_support()]\n",
    "#print('RFE result for dt: ', col_dt)\n",
    "selector2 = RFE(estimator, 50, step=1)\n",
    "selector2 = selector2.fit(x_train, y_train) \n",
    "print('\\nDecision Tree score: ', selector2.score(x_test, y_test))\n",
    "print('Decision Tree train_set score: ', selector2.score(x_train, y_train))\n",
    "print('Decision Tree f1: ', f1_score(y_test, selector2.predict(x_test), average='weighted'))\n",
    "col_dt_50 = dummy1.iloc[:, 5:].columns[selector2.get_support()]\n",
    "#print('RFE result for lr: ', col_lr_50)\n",
    "selector3 = RFE(estimator, 30, step=1)\n",
    "selector3 = selector3.fit(x_train, y_train) \n",
    "print('\\nDecision Tree score: ', selector3.score(x_test, y_test))\n",
    "print('Decision Tree train_set score: ', selector3.score(x_train, y_train))\n",
    "print('Decision Tree f1: ', f1_score(y_test, selector3.predict(x_test), average='weighted'))\n",
    "col_dt_30 = dummy1.iloc[:, 5:].columns[selector3.get_support()]\n",
    "#print('RFE result for lr: ', col_lr_30)\n",
    "\n",
    "estimator = RandomForestClassifier(n_estimators = 100, random_state=0)\n",
    "selector1 = RFE(estimator, 80, step=1)\n",
    "selector1 = selector1.fit(x_train, y_train) \n",
    "print('\\nRF score: ', selector1.score(x_test, y_test))\n",
    "print('RF train_set score: ', selector1.score(x_train, y_train))\n",
    "print('RF f1: ', f1_score(y_test, selector1.predict(x_test), average='weighted'))\n",
    "col_rf_80 = dummy1.iloc[:, 5:].columns[selector1.get_support()]\n",
    "#print('RFE result for dt: ', col_dt)\n",
    "selector2 = RFE(estimator, 50, step=1)\n",
    "selector2 = selector2.fit(x_train, y_train) \n",
    "print('\\nRF score: ', selector2.score(x_test, y_test))\n",
    "print('RF train_set score: ', selector2.score(x_train, y_train))\n",
    "print('RF f1: ', f1_score(y_test, selector2.predict(x_test), average='weighted'))\n",
    "col_dt_50 = dummy1.iloc[:, 5:].columns[selector2.get_support()]\n",
    "#print('RFE result for lr: ', col_lr_50)\n",
    "selector3 = RFE(estimator, 30, step=1)\n",
    "selector3 = selector3.fit(x_train, y_train) \n",
    "print('\\nRF score: ', selector3.score(x_test, y_test))\n",
    "print('RF train_set score: ', selector3.score(x_train, y_train))\n",
    "print('RF f1: ', f1_score(y_test, selector3.predict(x_test), average='weighted'))\n",
    "col_dt_30 = dummy1.iloc[:, 5:].columns[selector3.get_support()]\n",
    "#print('RFE result for lr: ', col_lr_30)"
   ]
  },
  {
   "cell_type": "markdown",
   "metadata": {},
   "source": [
    "# SelectKBest chi2 k = 80/50/30 cut=3 "
   ]
  },
  {
   "cell_type": "code",
   "execution_count": 97,
   "metadata": {},
   "outputs": [
    {
     "name": "stdout",
     "output_type": "stream",
     "text": [
      "******************SelectKBest=80, cut=3*******************************\n",
      "80 new features are: \n",
      "Index(['Job_class', 'Experience', 'Location_33', 'Location_44', 'Location_69',\n",
      "       'Location_75', 'data', 'mathématiques', 'ml', 'dl', 'algorithmes',\n",
      "       'excel', 'BI', 'IA', 'python', 'visualisation', 'keras',\n",
      "       'reinforcement learning', 'sql', 'mysql', 'mongo', 'nosql', 'nlp',\n",
      "       'sas', 'spark', 'big data', 'hadoop', 'hive', 'mapreduce', 'scala',\n",
      "       'tensorflow', 'power bi', 'tableau', 'fullstack', 'frontend', 'game',\n",
      "       'test', 'maintenance', 'déploiement', 'cloud', 'js', 'html', 'css',\n",
      "       'java', 'c#', 'swift', 'ruby', 'php', 'docker', '.net', 'aws', 'azure',\n",
      "       'wordpress', 'bootstrap', 'django', 'jquery', 'xml', 'xhtml', 'drupal',\n",
      "       'poo', 'cms', 'kotlin', 'objective-c', 'matlab', 'vb', 'linux',\n",
      "       'symfony', 'jenkins', 'mvc', 'android', 'kubernetes', 'elasticsearch',\n",
      "       'finance', 'assurance', 'transport', 'luxe', 'anglais', 'agile',\n",
      "       'international', 'startup'],\n",
      "      dtype='object')\n",
      "\n",
      "LogisticRegression score:  0.7524950099800399\n",
      "LogisticRegression train_set score:  0.7542808219178082\n",
      "LogisticRegression f1:  0.7472707732577953\n",
      "\n",
      "SVM Linear score:  0.7604790419161677\n",
      "SVM Linear train_set score:  0.752568493150685\n",
      "SVM Linear f1:  0.7534530410929502\n"
     ]
    },
    {
     "name": "stderr",
     "output_type": "stream",
     "text": [
      "/anaconda3/lib/python3.7/site-packages/sklearn/svm/base.py:196: FutureWarning: The default value of gamma will change from 'auto' to 'scale' in version 0.22 to account better for unscaled features. Set gamma explicitly to 'auto' or 'scale' to avoid this warning.\n",
      "  \"avoid this warning.\", FutureWarning)\n"
     ]
    },
    {
     "name": "stdout",
     "output_type": "stream",
     "text": [
      "\n",
      "SVM RBF score:  0.7664670658682635\n",
      "SVM RBF train_set score:  0.7337328767123288\n",
      "SVM RBF f1:  0.751329134013886\n",
      "\n",
      "DC score:  0.6726546906187625\n",
      "DC train_set score:  0.988013698630137\n",
      "DC f1:  0.6794017892723706\n"
     ]
    },
    {
     "name": "stderr",
     "output_type": "stream",
     "text": [
      "/anaconda3/lib/python3.7/site-packages/sklearn/metrics/classification.py:1143: UndefinedMetricWarning: F-score is ill-defined and being set to 0.0 in labels with no predicted samples.\n",
      "  'precision', 'predicted', average, warn_for)\n"
     ]
    },
    {
     "name": "stdout",
     "output_type": "stream",
     "text": [
      "\n",
      "RF score:  0.7485029940119761\n",
      "RF train_set score:  0.988013698630137\n",
      "RF f1:  0.7432681239411656\n",
      "\n",
      "\n",
      "***************SelectKBest=50, cut=3**********************\n",
      "50 new features are: \n",
      "Index(['Job_class', 'Experience', 'Location_33', 'Location_44', 'Location_69',\n",
      "       'Location_75', 'data', 'dl', 'algorithmes', 'BI', 'IA', 'python', 'sql',\n",
      "       'mysql', 'mongo', 'nlp', 'sas', 'spark', 'big data', 'hadoop',\n",
      "       'mapreduce', 'scala', 'tensorflow', 'test', 'maintenance',\n",
      "       'déploiement', 'cloud', 'js', 'html', 'css', 'java', 'swift', 'php',\n",
      "       'docker', 'aws', 'azure', 'wordpress', 'xml', 'cms', 'kotlin', 'matlab',\n",
      "       'vb', 'symfony', 'jenkins', 'kubernetes', 'elasticsearch', 'finance',\n",
      "       'luxe', 'international', 'startup'],\n",
      "      dtype='object')\n",
      "\n",
      "LogisticRegression score:  0.7624750499001997\n",
      "LogisticRegression train_set score:  0.7440068493150684\n",
      "LogisticRegression f1:  0.758451828599545\n"
     ]
    },
    {
     "name": "stderr",
     "output_type": "stream",
     "text": [
      "/anaconda3/lib/python3.7/site-packages/sklearn/metrics/classification.py:1143: UndefinedMetricWarning: F-score is ill-defined and being set to 0.0 in labels with no predicted samples.\n",
      "  'precision', 'predicted', average, warn_for)\n"
     ]
    },
    {
     "name": "stdout",
     "output_type": "stream",
     "text": [
      "\n",
      "SVM Linear score:  0.7684630738522954\n",
      "SVM Linear train_set score:  0.7448630136986302\n",
      "SVM Linear f1:  0.7592444220391169\n",
      "\n",
      "SVM RBF score:  0.7764471057884231\n"
     ]
    },
    {
     "name": "stderr",
     "output_type": "stream",
     "text": [
      "/anaconda3/lib/python3.7/site-packages/sklearn/metrics/classification.py:1143: UndefinedMetricWarning: F-score is ill-defined and being set to 0.0 in labels with no predicted samples.\n",
      "  'precision', 'predicted', average, warn_for)\n",
      "/anaconda3/lib/python3.7/site-packages/sklearn/svm/base.py:196: FutureWarning: The default value of gamma will change from 'auto' to 'scale' in version 0.22 to account better for unscaled features. Set gamma explicitly to 'auto' or 'scale' to avoid this warning.\n",
      "  \"avoid this warning.\", FutureWarning)\n",
      "/anaconda3/lib/python3.7/site-packages/sklearn/metrics/classification.py:1143: UndefinedMetricWarning: F-score is ill-defined and being set to 0.0 in labels with no predicted samples.\n",
      "  'precision', 'predicted', average, warn_for)\n"
     ]
    },
    {
     "name": "stdout",
     "output_type": "stream",
     "text": [
      "SVM RBF train_set score:  0.7371575342465754\n",
      "SVM RBF f1:  0.763926767775605\n",
      "\n",
      "DC score:  0.6686626746506986\n",
      "DC train_set score:  0.9648972602739726\n",
      "DC f1:  0.6714358323164747\n",
      "\n",
      "RF score:  0.7544910179640718\n",
      "RF train_set score:  0.9648972602739726\n",
      "RF f1:  0.7528564962268982\n",
      "\n",
      "\n",
      "***************SelectKBest=30, cut=3**********************\n",
      "30 new features are: \n",
      "Index(['Job_class', 'Experience', 'Location_44', 'Location_69', 'Location_75',\n",
      "       'dl', 'algorithmes', 'python', 'mongo', 'nlp', 'spark', 'big data',\n",
      "       'mapreduce', 'scala', 'tensorflow', 'cloud', 'html', 'css', 'swift',\n",
      "       'php', 'docker', 'aws', 'kotlin', 'matlab', 'vb', 'kubernetes',\n",
      "       'elasticsearch', 'luxe', 'international', 'startup'],\n",
      "      dtype='object')\n",
      "\n",
      "LogisticRegression score:  0.7764471057884231\n",
      "LogisticRegression train_set score:  0.7371575342465754\n",
      "LogisticRegression f1:  0.7703991416566266\n",
      "\n",
      "SVM Linear score:  0.7764471057884231\n",
      "SVM Linear train_set score:  0.7294520547945206\n",
      "SVM Linear f1:  0.7644746725711471\n",
      "\n",
      "SVM RBF score:  0.7724550898203593\n",
      "SVM RBF train_set score:  0.7183219178082192\n",
      "SVM RBF f1:  0.7613660527696443\n",
      "\n",
      "DC score:  0.7125748502994012\n",
      "DC train_set score:  0.8861301369863014\n",
      "DC f1:  0.7044564802146449\n"
     ]
    },
    {
     "name": "stderr",
     "output_type": "stream",
     "text": [
      "/anaconda3/lib/python3.7/site-packages/sklearn/metrics/classification.py:1143: UndefinedMetricWarning: F-score is ill-defined and being set to 0.0 in labels with no predicted samples.\n",
      "  'precision', 'predicted', average, warn_for)\n",
      "/anaconda3/lib/python3.7/site-packages/sklearn/svm/base.py:196: FutureWarning: The default value of gamma will change from 'auto' to 'scale' in version 0.22 to account better for unscaled features. Set gamma explicitly to 'auto' or 'scale' to avoid this warning.\n",
      "  \"avoid this warning.\", FutureWarning)\n",
      "/anaconda3/lib/python3.7/site-packages/sklearn/metrics/classification.py:1143: UndefinedMetricWarning: F-score is ill-defined and being set to 0.0 in labels with no predicted samples.\n",
      "  'precision', 'predicted', average, warn_for)\n"
     ]
    },
    {
     "name": "stdout",
     "output_type": "stream",
     "text": [
      "\n",
      "RF score:  0.7504990019960079\n",
      "RF train_set score:  0.8861301369863014\n",
      "RF f1:  0.7454996312857085\n"
     ]
    },
    {
     "name": "stderr",
     "output_type": "stream",
     "text": [
      "/anaconda3/lib/python3.7/site-packages/sklearn/metrics/classification.py:1143: UndefinedMetricWarning: F-score is ill-defined and being set to 0.0 in labels with no predicted samples.\n",
      "  'precision', 'predicted', average, warn_for)\n"
     ]
    }
   ],
   "source": [
    "from sklearn.feature_selection import SelectKBest\n",
    "from sklearn.feature_selection import chi2\n",
    "\n",
    "x = dummy1.iloc[:, 5:]\n",
    "y = dummy1['Salary_group_cut3']\n",
    "\n",
    "print(\"******************SelectKBest=80, cut=3*******************************\")\n",
    "kbest80 = SelectKBest(chi2, k=80)\n",
    "x80 = kbest80.fit_transform(x, y)\n",
    "x_train, x_test, y_train, y_test = train_test_split(x80, y, test_size = 0.3, random_state=0)\n",
    "\n",
    "mask = kbest80.get_support()\n",
    "new_features = dummy1.iloc[:, 5:].columns[mask]\n",
    "print('80 new features are: ')\n",
    "print(new_features)\n",
    "\n",
    "lr = LogisticRegression(multi_class = 'auto', solver = 'newton-cg', random_state=0)\n",
    "lr.fit(x_train, y_train)\n",
    "print('\\nLogisticRegression score: ', lr.score(x_test, y_test))\n",
    "print('LogisticRegression train_set score: ', lr.score(x_train, y_train))\n",
    "print('LogisticRegression f1: ', f1_score(y_test, lr.predict(x_test), average='weighted'))\n",
    "\n",
    "svm = SVC(kernel = 'linear', random_state=0)\n",
    "svm.fit(x_train, y_train)\n",
    "print('\\nSVM Linear score: ', svm.score(x_test, y_test))\n",
    "print('SVM Linear train_set score: ', svm.score(x_train, y_train))\n",
    "print('SVM Linear f1: ', f1_score(y_test, svm.predict(x_test), average='weighted'))\n",
    "\n",
    "rbf = SVC(kernel='rbf', random_state=0)\n",
    "rbf.fit(x_train, y_train)\n",
    "print('\\nSVM RBF score: ', rbf.score(x_test, y_test))\n",
    "print('SVM RBF train_set score: ', rbf.score(x_train, y_train))\n",
    "print('SVM RBF f1: ', f1_score(y_test, rbf.predict(x_test), average='weighted'))\n",
    "\n",
    "tree = DecisionTreeClassifier(random_state=0)\n",
    "tree.fit(x_train, y_train)\n",
    "print('\\nDC score: ', tree.score(x_test, y_test))\n",
    "print('DC train_set score: ', tree.score(x_train, y_train))\n",
    "print('DC f1: ', f1_score(y_test, tree.predict(x_test), average='weighted'))\n",
    "\n",
    "rf = RandomForestClassifier(n_estimators = 100, random_state=0)\n",
    "rf.fit(x_train, y_train)\n",
    "print('\\nRF score: ', rf.score(x_test, y_test))\n",
    "print('RF train_set score: ', rf.score(x_train, y_train))\n",
    "print('RF f1: ', f1_score(y_test, rf.predict(x_test), average='weighted'))\n",
    "\n",
    "\n",
    "print(\"\\n\\n***************SelectKBest=50, cut=3**********************\")\n",
    "kbest50 = SelectKBest(chi2, k=50)\n",
    "x50 = kbest50.fit_transform(x, y)\n",
    "x_train, x_test, y_train, y_test = train_test_split(x50, y, test_size = 0.3, random_state=0)\n",
    "\n",
    "mask = kbest50.get_support()\n",
    "new_features = dummy1.iloc[:, 5:].columns[mask]\n",
    "print('50 new features are: ')\n",
    "print(new_features)\n",
    "\n",
    "lr = LogisticRegression(multi_class = 'auto', solver = 'newton-cg', random_state=0)\n",
    "lr.fit(x_train, y_train)\n",
    "print('\\nLogisticRegression score: ', lr.score(x_test, y_test))\n",
    "print('LogisticRegression train_set score: ', lr.score(x_train, y_train))\n",
    "print('LogisticRegression f1: ', f1_score(y_test, lr.predict(x_test), average='weighted'))\n",
    "\n",
    "svm = SVC(kernel = 'linear', random_state=0)\n",
    "svm.fit(x_train, y_train)\n",
    "print('\\nSVM Linear score: ', svm.score(x_test, y_test))\n",
    "print('SVM Linear train_set score: ', svm.score(x_train, y_train))\n",
    "print('SVM Linear f1: ', f1_score(y_test, svm.predict(x_test), average='weighted'))\n",
    "\n",
    "rbf = SVC(kernel='rbf', random_state=0)\n",
    "rbf.fit(x_train, y_train)\n",
    "print('\\nSVM RBF score: ', rbf.score(x_test, y_test))\n",
    "print('SVM RBF train_set score: ', rbf.score(x_train, y_train))\n",
    "print('SVM RBF f1: ', f1_score(y_test, rbf.predict(x_test), average='weighted'))\n",
    "\n",
    "tree = DecisionTreeClassifier(random_state=0)\n",
    "tree.fit(x_train, y_train)\n",
    "print('\\nDC score: ', tree.score(x_test, y_test))\n",
    "print('DC train_set score: ', tree.score(x_train, y_train))\n",
    "print('DC f1: ', f1_score(y_test, tree.predict(x_test), average='weighted'))\n",
    "\n",
    "rf = RandomForestClassifier(n_estimators = 100, random_state=0)\n",
    "rf.fit(x_train, y_train)\n",
    "print('\\nRF score: ', rf.score(x_test, y_test))\n",
    "print('RF train_set score: ', rf.score(x_train, y_train))\n",
    "print('RF f1: ', f1_score(y_test, rf.predict(x_test), average='weighted'))\n",
    "\n",
    "\n",
    "print(\"\\n\\n***************SelectKBest=30, cut=3**********************\")\n",
    "kbest30 = SelectKBest(chi2, k=30)\n",
    "x30 = kbest30.fit_transform(x, y)\n",
    "x_train, x_test, y_train, y_test = train_test_split(x30, y, test_size = 0.3, random_state=0)\n",
    "\n",
    "mask = kbest30.get_support()\n",
    "new_features = dummy1.iloc[:, 5:].columns[mask]\n",
    "print('30 new features are: ')\n",
    "print(new_features)\n",
    "\n",
    "lr = LogisticRegression(multi_class = 'auto', solver = 'newton-cg', random_state=0)\n",
    "lr.fit(x_train, y_train)\n",
    "print('\\nLogisticRegression score: ', lr.score(x_test, y_test))\n",
    "print('LogisticRegression train_set score: ', lr.score(x_train, y_train))\n",
    "print('LogisticRegression f1: ', f1_score(y_test, lr.predict(x_test), average='weighted'))\n",
    "\n",
    "svm = SVC(kernel = 'linear', random_state=0)\n",
    "svm.fit(x_train, y_train)\n",
    "print('\\nSVM Linear score: ', svm.score(x_test, y_test))\n",
    "print('SVM Linear train_set score: ', svm.score(x_train, y_train))\n",
    "print('SVM Linear f1: ', f1_score(y_test, svm.predict(x_test), average='weighted'))\n",
    "\n",
    "rbf = SVC(kernel='rbf', random_state=0)\n",
    "rbf.fit(x_train, y_train)\n",
    "print('\\nSVM RBF score: ', rbf.score(x_test, y_test))\n",
    "print('SVM RBF train_set score: ', rbf.score(x_train, y_train))\n",
    "print('SVM RBF f1: ', f1_score(y_test, rbf.predict(x_test), average='weighted'))\n",
    "\n",
    "tree = DecisionTreeClassifier(random_state=0)\n",
    "tree.fit(x_train, y_train)\n",
    "print('\\nDC score: ', tree.score(x_test, y_test))\n",
    "print('DC train_set score: ', tree.score(x_train, y_train))\n",
    "print('DC f1: ', f1_score(y_test, tree.predict(x_test), average='weighted'))\n",
    "\n",
    "rf = RandomForestClassifier(n_estimators = 100, random_state=0)\n",
    "rf.fit(x_train, y_train)\n",
    "print('\\nRF score: ', rf.score(x_test, y_test))\n",
    "print('RF train_set score: ', rf.score(x_train, y_train))\n",
    "print('RF f1: ', f1_score(y_test, rf.predict(x_test), average='weighted'))"
   ]
  },
  {
   "cell_type": "code",
   "execution_count": 88,
   "metadata": {},
   "outputs": [
    {
     "data": {
      "image/png": "[encoded data removed]",
      "text/plain": [
       "<Figure size 432x288 with 1 Axes>"
      ]
     },
     "metadata": {
      "needs_background": "light"
     },
     "output_type": "display_data"
    }
   ],
   "source": [
    "x_kmeans = x30\n",
    "\n",
    "sum_of_squared_distances = []\n",
    "K = range(2,10)\n",
    "for k in K:\n",
    "    kmeans = KMeans(n_clusters=k, init='k-means++')\n",
    "    kmeans = kmeans.fit(x_kmeans)\n",
    "    sum_of_squared_distances.append(kmeans.inertia_)  #Sum of squared distances of samples to their closest cluster center\n",
    "    \n",
    "plt.plot(K, sum_of_squared_distances, 'bo-')\n",
    "plt.xlabel('k')\n",
    "plt.ylabel('Sum of squared distances')\n",
    "plt.title('Elbow Method For Optimal k')\n",
    "plt.show()"
   ]
  },
  {
   "cell_type": "markdown",
   "metadata": {},
   "source": [
    "# SelectKBest chi2 k = 80/50/30 cut=4"
   ]
  },
  {
   "cell_type": "code",
   "execution_count": 89,
   "metadata": {},
   "outputs": [
    {
     "name": "stdout",
     "output_type": "stream",
     "text": [
      "******************SelectKBest=80, cut=4*******************************\n",
      "\n",
      "LogisticRegression score:  0.6806387225548902\n",
      "LogisticRegression train_set score:  0.7080479452054794\n",
      "LogisticRegression f1:  0.6565264128283594\n"
     ]
    },
    {
     "name": "stderr",
     "output_type": "stream",
     "text": [
      "/anaconda3/lib/python3.7/site-packages/sklearn/metrics/classification.py:1145: UndefinedMetricWarning: F-score is ill-defined and being set to 0.0 in labels with no true samples.\n",
      "  'recall', 'true', average, warn_for)\n"
     ]
    },
    {
     "name": "stdout",
     "output_type": "stream",
     "text": [
      "\n",
      "SVM Linear score:  0.6846307385229541\n",
      "SVM Linear train_set score:  0.7080479452054794\n",
      "SVM Linear f1:  0.6524735048982329\n"
     ]
    },
    {
     "name": "stderr",
     "output_type": "stream",
     "text": [
      "/anaconda3/lib/python3.7/site-packages/sklearn/metrics/classification.py:1145: UndefinedMetricWarning: F-score is ill-defined and being set to 0.0 in labels with no true samples.\n",
      "  'recall', 'true', average, warn_for)\n",
      "/anaconda3/lib/python3.7/site-packages/sklearn/svm/base.py:196: FutureWarning: The default value of gamma will change from 'auto' to 'scale' in version 0.22 to account better for unscaled features. Set gamma explicitly to 'auto' or 'scale' to avoid this warning.\n",
      "  \"avoid this warning.\", FutureWarning)\n"
     ]
    },
    {
     "name": "stdout",
     "output_type": "stream",
     "text": [
      "\n",
      "SVM RBF score:  0.656686626746507\n",
      "SVM RBF train_set score:  0.6523972602739726\n",
      "SVM RBF f1:  0.5466796694755524\n",
      "\n",
      "DC score:  0.5608782435129741\n",
      "DC train_set score:  0.990582191780822\n",
      "DC f1:  0.5693401972538316\n"
     ]
    },
    {
     "name": "stderr",
     "output_type": "stream",
     "text": [
      "/anaconda3/lib/python3.7/site-packages/sklearn/metrics/classification.py:1143: UndefinedMetricWarning: F-score is ill-defined and being set to 0.0 in labels with no predicted samples.\n",
      "  'precision', 'predicted', average, warn_for)\n",
      "/anaconda3/lib/python3.7/site-packages/sklearn/metrics/classification.py:1145: UndefinedMetricWarning: F-score is ill-defined and being set to 0.0 in labels with no true samples.\n",
      "  'recall', 'true', average, warn_for)\n"
     ]
    },
    {
     "name": "stdout",
     "output_type": "stream",
     "text": [
      "\n",
      "RF score:  0.6826347305389222\n",
      "RF train_set score:  0.990582191780822\n",
      "RF f1:  0.6453444961927997\n",
      "\n",
      "\n",
      "***************SelectKBest=50, cut=4**********************\n",
      "\n",
      "LogisticRegression score:  0.6906187624750499\n",
      "LogisticRegression train_set score:  0.7037671232876712\n",
      "LogisticRegression f1:  0.6678484322248519\n"
     ]
    },
    {
     "name": "stderr",
     "output_type": "stream",
     "text": [
      "/anaconda3/lib/python3.7/site-packages/sklearn/metrics/classification.py:1145: UndefinedMetricWarning: F-score is ill-defined and being set to 0.0 in labels with no true samples.\n",
      "  'recall', 'true', average, warn_for)\n",
      "/anaconda3/lib/python3.7/site-packages/sklearn/metrics/classification.py:1145: UndefinedMetricWarning: F-score is ill-defined and being set to 0.0 in labels with no true samples.\n",
      "  'recall', 'true', average, warn_for)\n",
      "/anaconda3/lib/python3.7/site-packages/sklearn/svm/base.py:196: FutureWarning: The default value of gamma will change from 'auto' to 'scale' in version 0.22 to account better for unscaled features. Set gamma explicitly to 'auto' or 'scale' to avoid this warning.\n",
      "  \"avoid this warning.\", FutureWarning)\n"
     ]
    },
    {
     "name": "stdout",
     "output_type": "stream",
     "text": [
      "\n",
      "SVM Linear score:  0.6746506986027944\n",
      "SVM Linear train_set score:  0.690068493150685\n",
      "SVM Linear f1:  0.6338576175309558\n",
      "\n",
      "SVM RBF score:  0.6766467065868264\n",
      "SVM RBF train_set score:  0.678082191780822\n",
      "SVM RBF f1:  0.6030252085150214\n",
      "\n",
      "DC score:  0.5848303393213573\n",
      "DC train_set score:  0.9623287671232876\n",
      "DC f1:  0.5923896611969436\n"
     ]
    },
    {
     "name": "stderr",
     "output_type": "stream",
     "text": [
      "/anaconda3/lib/python3.7/site-packages/sklearn/metrics/classification.py:1143: UndefinedMetricWarning: F-score is ill-defined and being set to 0.0 in labels with no predicted samples.\n",
      "  'precision', 'predicted', average, warn_for)\n",
      "/anaconda3/lib/python3.7/site-packages/sklearn/metrics/classification.py:1145: UndefinedMetricWarning: F-score is ill-defined and being set to 0.0 in labels with no true samples.\n",
      "  'recall', 'true', average, warn_for)\n"
     ]
    },
    {
     "name": "stdout",
     "output_type": "stream",
     "text": [
      "\n",
      "RF score:  0.6726546906187625\n",
      "RF train_set score:  0.9623287671232876\n",
      "RF f1:  0.6452780643130789\n",
      "\n",
      "\n",
      "***************SelectKBest=30, cut=4**********************\n",
      "\n",
      "LogisticRegression score:  0.6706586826347305\n",
      "LogisticRegression train_set score:  0.6934931506849316\n",
      "LogisticRegression f1:  0.6407384635354003\n",
      "\n",
      "SVM Linear score:  0.6766467065868264\n"
     ]
    },
    {
     "name": "stderr",
     "output_type": "stream",
     "text": [
      "/anaconda3/lib/python3.7/site-packages/sklearn/metrics/classification.py:1145: UndefinedMetricWarning: F-score is ill-defined and being set to 0.0 in labels with no true samples.\n",
      "  'recall', 'true', average, warn_for)\n",
      "/anaconda3/lib/python3.7/site-packages/sklearn/metrics/classification.py:1143: UndefinedMetricWarning: F-score is ill-defined and being set to 0.0 in labels with no predicted samples.\n",
      "  'precision', 'predicted', average, warn_for)\n",
      "/anaconda3/lib/python3.7/site-packages/sklearn/svm/base.py:196: FutureWarning: The default value of gamma will change from 'auto' to 'scale' in version 0.22 to account better for unscaled features. Set gamma explicitly to 'auto' or 'scale' to avoid this warning.\n",
      "  \"avoid this warning.\", FutureWarning)\n"
     ]
    },
    {
     "name": "stdout",
     "output_type": "stream",
     "text": [
      "SVM Linear train_set score:  0.6763698630136986\n",
      "SVM Linear f1:  0.6377570585156803\n",
      "\n",
      "SVM RBF score:  0.6826347305389222\n",
      "SVM RBF train_set score:  0.684931506849315\n",
      "SVM RBF f1:  0.6376956511915421\n",
      "\n",
      "DC score:  0.5768463073852296\n",
      "DC train_set score:  0.8741438356164384\n",
      "DC f1:  0.5776716470743397\n"
     ]
    },
    {
     "name": "stderr",
     "output_type": "stream",
     "text": [
      "/anaconda3/lib/python3.7/site-packages/sklearn/metrics/classification.py:1143: UndefinedMetricWarning: F-score is ill-defined and being set to 0.0 in labels with no predicted samples.\n",
      "  'precision', 'predicted', average, warn_for)\n",
      "/anaconda3/lib/python3.7/site-packages/sklearn/metrics/classification.py:1145: UndefinedMetricWarning: F-score is ill-defined and being set to 0.0 in labels with no true samples.\n",
      "  'recall', 'true', average, warn_for)\n"
     ]
    },
    {
     "name": "stdout",
     "output_type": "stream",
     "text": [
      "\n",
      "RF score:  0.6367265469061876\n",
      "RF train_set score:  0.8741438356164384\n",
      "RF f1:  0.6183451189305833\n"
     ]
    }
   ],
   "source": [
    "x = dummy1.iloc[:, 5:]\n",
    "y = dummy1['Salary_group_cut4']\n",
    "\n",
    "print(\"******************SelectKBest=80, cut=4*******************************\")\n",
    "kbest80 = SelectKBest(chi2, k=80)\n",
    "x80 = kbest80.fit_transform(x, y)\n",
    "x_train, x_test, y_train, y_test = train_test_split(x80, y, test_size = 0.3, random_state=0)\n",
    "\n",
    "lr = LogisticRegression(multi_class = 'auto', solver = 'newton-cg', random_state=0)\n",
    "lr.fit(x_train, y_train)\n",
    "print('\\nLogisticRegression score: ', lr.score(x_test, y_test))\n",
    "print('LogisticRegression train_set score: ', lr.score(x_train, y_train))\n",
    "print('LogisticRegression f1: ', f1_score(y_test, lr.predict(x_test), average='weighted'))\n",
    "\n",
    "svm = SVC(kernel = 'linear', random_state=0)\n",
    "svm.fit(x_train, y_train)\n",
    "print('\\nSVM Linear score: ', svm.score(x_test, y_test))\n",
    "print('SVM Linear train_set score: ', svm.score(x_train, y_train))\n",
    "print('SVM Linear f1: ', f1_score(y_test, svm.predict(x_test), average='weighted'))\n",
    "\n",
    "rbf = SVC(kernel='rbf', random_state=0)\n",
    "rbf.fit(x_train, y_train)\n",
    "print('\\nSVM RBF score: ', rbf.score(x_test, y_test))\n",
    "print('SVM RBF train_set score: ', rbf.score(x_train, y_train))\n",
    "print('SVM RBF f1: ', f1_score(y_test, rbf.predict(x_test), average='weighted'))\n",
    "\n",
    "tree = DecisionTreeClassifier(random_state=0)\n",
    "tree.fit(x_train, y_train)\n",
    "print('\\nDC score: ', tree.score(x_test, y_test))\n",
    "print('DC train_set score: ', tree.score(x_train, y_train))\n",
    "print('DC f1: ', f1_score(y_test, tree.predict(x_test), average='weighted'))\n",
    "\n",
    "rf = RandomForestClassifier(n_estimators = 100, random_state=0)\n",
    "rf.fit(x_train, y_train)\n",
    "print('\\nRF score: ', rf.score(x_test, y_test))\n",
    "print('RF train_set score: ', rf.score(x_train, y_train))\n",
    "print('RF f1: ', f1_score(y_test, rf.predict(x_test), average='weighted'))\n",
    "\n",
    "\n",
    "print(\"\\n\\n***************SelectKBest=50, cut=4**********************\")\n",
    "kbest50 = SelectKBest(chi2, k=50)\n",
    "x50 = kbest50.fit_transform(x, y)\n",
    "x_train, x_test, y_train, y_test = train_test_split(x50, y, test_size = 0.3, random_state=0)\n",
    "\n",
    "lr = LogisticRegression(multi_class = 'auto', solver = 'newton-cg', random_state=0)\n",
    "lr.fit(x_train, y_train)\n",
    "print('\\nLogisticRegression score: ', lr.score(x_test, y_test))\n",
    "print('LogisticRegression train_set score: ', lr.score(x_train, y_train))\n",
    "print('LogisticRegression f1: ', f1_score(y_test, lr.predict(x_test), average='weighted'))\n",
    "\n",
    "svm = SVC(kernel = 'linear', random_state=0)\n",
    "svm.fit(x_train, y_train)\n",
    "print('\\nSVM Linear score: ', svm.score(x_test, y_test))\n",
    "print('SVM Linear train_set score: ', svm.score(x_train, y_train))\n",
    "print('SVM Linear f1: ', f1_score(y_test, svm.predict(x_test), average='weighted'))\n",
    "\n",
    "rbf = SVC(kernel='rbf', random_state=0)\n",
    "rbf.fit(x_train, y_train)\n",
    "print('\\nSVM RBF score: ', rbf.score(x_test, y_test))\n",
    "print('SVM RBF train_set score: ', rbf.score(x_train, y_train))\n",
    "print('SVM RBF f1: ', f1_score(y_test, rbf.predict(x_test), average='weighted'))\n",
    "\n",
    "tree = DecisionTreeClassifier(random_state=0)\n",
    "tree.fit(x_train, y_train)\n",
    "print('\\nDC score: ', tree.score(x_test, y_test))\n",
    "print('DC train_set score: ', tree.score(x_train, y_train))\n",
    "print('DC f1: ', f1_score(y_test, tree.predict(x_test), average='weighted'))\n",
    "\n",
    "rf = RandomForestClassifier(n_estimators = 100, random_state=0)\n",
    "rf.fit(x_train, y_train)\n",
    "print('\\nRF score: ', rf.score(x_test, y_test))\n",
    "print('RF train_set score: ', rf.score(x_train, y_train))\n",
    "print('RF f1: ', f1_score(y_test, rf.predict(x_test), average='weighted'))\n",
    "\n",
    "\n",
    "print(\"\\n\\n***************SelectKBest=30, cut=4**********************\")\n",
    "kbest30 = SelectKBest(chi2, k=30)\n",
    "x30 = kbest30.fit_transform(x, y)\n",
    "x_train, x_test, y_train, y_test = train_test_split(x30, y, test_size = 0.3, random_state=0)\n",
    "\n",
    "lr = LogisticRegression(multi_class = 'auto', solver = 'newton-cg', random_state=0)\n",
    "lr.fit(x_train, y_train)\n",
    "print('\\nLogisticRegression score: ', lr.score(x_test, y_test))\n",
    "print('LogisticRegression train_set score: ', lr.score(x_train, y_train))\n",
    "print('LogisticRegression f1: ', f1_score(y_test, lr.predict(x_test), average='weighted'))\n",
    "\n",
    "svm = SVC(kernel = 'linear', random_state=0)\n",
    "svm.fit(x_train, y_train)\n",
    "print('\\nSVM Linear score: ', svm.score(x_test, y_test))\n",
    "print('SVM Linear train_set score: ', svm.score(x_train, y_train))\n",
    "print('SVM Linear f1: ', f1_score(y_test, svm.predict(x_test), average='weighted'))\n",
    "\n",
    "rbf = SVC(kernel='rbf', random_state=0)\n",
    "rbf.fit(x_train, y_train)\n",
    "print('\\nSVM RBF score: ', rbf.score(x_test, y_test))\n",
    "print('SVM RBF train_set score: ', rbf.score(x_train, y_train))\n",
    "print('SVM RBF f1: ', f1_score(y_test, rbf.predict(x_test), average='weighted'))\n",
    "\n",
    "tree = DecisionTreeClassifier(random_state=0)\n",
    "tree.fit(x_train, y_train)\n",
    "print('\\nDC score: ', tree.score(x_test, y_test))\n",
    "print('DC train_set score: ', tree.score(x_train, y_train))\n",
    "print('DC f1: ', f1_score(y_test, tree.predict(x_test), average='weighted'))\n",
    "\n",
    "rf = RandomForestClassifier(n_estimators = 100, random_state=0)\n",
    "rf.fit(x_train, y_train)\n",
    "print('\\nRF score: ', rf.score(x_test, y_test))\n",
    "print('RF train_set score: ', rf.score(x_train, y_train))\n",
    "print('RF f1: ', f1_score(y_test, rf.predict(x_test), average='weighted'))"
   ]
  },
  {
   "cell_type": "markdown",
   "metadata": {},
   "source": [
    "# SelectKBest chi2 k = 80/50/30 qcut=3"
   ]
  },
  {
   "cell_type": "code",
   "execution_count": 90,
   "metadata": {},
   "outputs": [
    {
     "name": "stdout",
     "output_type": "stream",
     "text": [
      "******************SelectKBest=80, qcut=3*******************************\n",
      "\n",
      "LogisticRegression score:  0.592814371257485\n",
      "LogisticRegression train_set score:  0.6335616438356164\n",
      "LogisticRegression f1:  0.5855343327059124\n",
      "\n",
      "SVM Linear score:  0.5848303393213573\n",
      "SVM Linear train_set score:  0.6446917808219178\n",
      "SVM Linear f1:  0.5798599632878594\n"
     ]
    },
    {
     "name": "stderr",
     "output_type": "stream",
     "text": [
      "/anaconda3/lib/python3.7/site-packages/sklearn/svm/base.py:196: FutureWarning: The default value of gamma will change from 'auto' to 'scale' in version 0.22 to account better for unscaled features. Set gamma explicitly to 'auto' or 'scale' to avoid this warning.\n",
      "  \"avoid this warning.\", FutureWarning)\n"
     ]
    },
    {
     "name": "stdout",
     "output_type": "stream",
     "text": [
      "\n",
      "SVM RBF score:  0.6007984031936128\n",
      "SVM RBF train_set score:  0.5967465753424658\n",
      "SVM RBF f1:  0.599216409826654\n",
      "\n",
      "DC score:  0.5389221556886228\n",
      "DC train_set score:  0.990582191780822\n",
      "DC f1:  0.5354811248566581\n",
      "\n",
      "RF score:  0.6127744510978044\n",
      "RF train_set score:  0.990582191780822\n",
      "RF f1:  0.6057151642854933\n",
      "\n",
      "\n",
      "***************SelectKBest=50, qcut=3**********************\n",
      "\n",
      "LogisticRegression score:  0.6027944111776448\n",
      "LogisticRegression train_set score:  0.6018835616438356\n",
      "LogisticRegression f1:  0.5905621820151253\n",
      "\n",
      "SVM Linear score:  0.6127744510978044\n",
      "SVM Linear train_set score:  0.6190068493150684\n",
      "SVM Linear f1:  0.6083087051672093\n"
     ]
    },
    {
     "name": "stderr",
     "output_type": "stream",
     "text": [
      "/anaconda3/lib/python3.7/site-packages/sklearn/svm/base.py:196: FutureWarning: The default value of gamma will change from 'auto' to 'scale' in version 0.22 to account better for unscaled features. Set gamma explicitly to 'auto' or 'scale' to avoid this warning.\n",
      "  \"avoid this warning.\", FutureWarning)\n"
     ]
    },
    {
     "name": "stdout",
     "output_type": "stream",
     "text": [
      "\n",
      "SVM RBF score:  0.590818363273453\n",
      "SVM RBF train_set score:  0.5898972602739726\n",
      "SVM RBF f1:  0.5946264339133676\n",
      "\n",
      "DC score:  0.5608782435129741\n",
      "DC train_set score:  0.949486301369863\n",
      "DC f1:  0.5559884722184867\n",
      "\n",
      "RF score:  0.5948103792415169\n",
      "RF train_set score:  0.949486301369863\n",
      "RF f1:  0.5850141840089161\n",
      "\n",
      "\n",
      "***************SelectKBest=30, qcut=3**********************\n",
      "\n",
      "LogisticRegression score:  0.5868263473053892\n",
      "LogisticRegression train_set score:  0.5702054794520548\n",
      "LogisticRegression f1:  0.5769986628837687\n",
      "\n",
      "SVM Linear score:  0.590818363273453\n",
      "SVM Linear train_set score:  0.5684931506849316\n",
      "SVM Linear f1:  0.5960732515532867\n",
      "\n",
      "SVM RBF score:  0.5828343313373253\n",
      "SVM RBF train_set score:  0.565068493150685\n",
      "SVM RBF f1:  0.5872783741710818\n"
     ]
    },
    {
     "name": "stderr",
     "output_type": "stream",
     "text": [
      "/anaconda3/lib/python3.7/site-packages/sklearn/svm/base.py:196: FutureWarning: The default value of gamma will change from 'auto' to 'scale' in version 0.22 to account better for unscaled features. Set gamma explicitly to 'auto' or 'scale' to avoid this warning.\n",
      "  \"avoid this warning.\", FutureWarning)\n"
     ]
    },
    {
     "name": "stdout",
     "output_type": "stream",
     "text": [
      "\n",
      "DC score:  0.5369261477045908\n",
      "DC train_set score:  0.8578767123287672\n",
      "DC f1:  0.5273861509222646\n",
      "\n",
      "RF score:  0.562874251497006\n",
      "RF train_set score:  0.8578767123287672\n",
      "RF f1:  0.5550480754721954\n"
     ]
    }
   ],
   "source": [
    "x = dummy1.iloc[:, 5:]\n",
    "y = dummy1['Salary_group_qcut3']\n",
    "\n",
    "print(\"******************SelectKBest=80, qcut=3*******************************\")\n",
    "kbest80 = SelectKBest(chi2, k=80)\n",
    "x80 = kbest80.fit_transform(x, y)\n",
    "x_train, x_test, y_train, y_test = train_test_split(x80, y, test_size = 0.3, random_state=0)\n",
    "\n",
    "lr = LogisticRegression(multi_class = 'auto', solver = 'newton-cg', random_state=0)\n",
    "lr.fit(x_train, y_train)\n",
    "print('\\nLogisticRegression score: ', lr.score(x_test, y_test))\n",
    "print('LogisticRegression train_set score: ', lr.score(x_train, y_train))\n",
    "print('LogisticRegression f1: ', f1_score(y_test, lr.predict(x_test), average='weighted'))\n",
    "\n",
    "svm = SVC(kernel = 'linear', random_state=0)\n",
    "svm.fit(x_train, y_train)\n",
    "print('\\nSVM Linear score: ', svm.score(x_test, y_test))\n",
    "print('SVM Linear train_set score: ', svm.score(x_train, y_train))\n",
    "print('SVM Linear f1: ', f1_score(y_test, svm.predict(x_test), average='weighted'))\n",
    "\n",
    "rbf = SVC(kernel='rbf', random_state=0)\n",
    "rbf.fit(x_train, y_train)\n",
    "print('\\nSVM RBF score: ', rbf.score(x_test, y_test))\n",
    "print('SVM RBF train_set score: ', rbf.score(x_train, y_train))\n",
    "print('SVM RBF f1: ', f1_score(y_test, rbf.predict(x_test), average='weighted'))\n",
    "\n",
    "tree = DecisionTreeClassifier(random_state=0)\n",
    "tree.fit(x_train, y_train)\n",
    "print('\\nDC score: ', tree.score(x_test, y_test))\n",
    "print('DC train_set score: ', tree.score(x_train, y_train))\n",
    "print('DC f1: ', f1_score(y_test, tree.predict(x_test), average='weighted'))\n",
    "\n",
    "rf = RandomForestClassifier(n_estimators = 100, random_state=0)\n",
    "rf.fit(x_train, y_train)\n",
    "print('\\nRF score: ', rf.score(x_test, y_test))\n",
    "print('RF train_set score: ', rf.score(x_train, y_train))\n",
    "print('RF f1: ', f1_score(y_test, rf.predict(x_test), average='weighted'))\n",
    "\n",
    "\n",
    "print(\"\\n\\n***************SelectKBest=50, qcut=3**********************\")\n",
    "kbest50 = SelectKBest(chi2, k=50)\n",
    "x50 = kbest50.fit_transform(x, y)\n",
    "x_train, x_test, y_train, y_test = train_test_split(x50, y, test_size = 0.3, random_state=0)\n",
    "\n",
    "lr = LogisticRegression(multi_class = 'auto', solver = 'newton-cg', random_state=0)\n",
    "lr.fit(x_train, y_train)\n",
    "print('\\nLogisticRegression score: ', lr.score(x_test, y_test))\n",
    "print('LogisticRegression train_set score: ', lr.score(x_train, y_train))\n",
    "print('LogisticRegression f1: ', f1_score(y_test, lr.predict(x_test), average='weighted'))\n",
    "\n",
    "svm = SVC(kernel = 'linear', random_state=0)\n",
    "svm.fit(x_train, y_train)\n",
    "print('\\nSVM Linear score: ', svm.score(x_test, y_test))\n",
    "print('SVM Linear train_set score: ', svm.score(x_train, y_train))\n",
    "print('SVM Linear f1: ', f1_score(y_test, svm.predict(x_test), average='weighted'))\n",
    "\n",
    "rbf = SVC(kernel='rbf', random_state=0)\n",
    "rbf.fit(x_train, y_train)\n",
    "print('\\nSVM RBF score: ', rbf.score(x_test, y_test))\n",
    "print('SVM RBF train_set score: ', rbf.score(x_train, y_train))\n",
    "print('SVM RBF f1: ', f1_score(y_test, rbf.predict(x_test), average='weighted'))\n",
    "\n",
    "tree = DecisionTreeClassifier(random_state=0)\n",
    "tree.fit(x_train, y_train)\n",
    "print('\\nDC score: ', tree.score(x_test, y_test))\n",
    "print('DC train_set score: ', tree.score(x_train, y_train))\n",
    "print('DC f1: ', f1_score(y_test, tree.predict(x_test), average='weighted'))\n",
    "\n",
    "rf = RandomForestClassifier(n_estimators = 100, random_state=0)\n",
    "rf.fit(x_train, y_train)\n",
    "print('\\nRF score: ', rf.score(x_test, y_test))\n",
    "print('RF train_set score: ', rf.score(x_train, y_train))\n",
    "print('RF f1: ', f1_score(y_test, rf.predict(x_test), average='weighted'))\n",
    "\n",
    "\n",
    "print(\"\\n\\n***************SelectKBest=30, qcut=3**********************\")\n",
    "kbest30 = SelectKBest(chi2, k=30)\n",
    "x30 = kbest30.fit_transform(x, y)\n",
    "x_train, x_test, y_train, y_test = train_test_split(x30, y, test_size = 0.3, random_state=0)\n",
    "\n",
    "lr = LogisticRegression(multi_class = 'auto', solver = 'newton-cg', random_state=0)\n",
    "lr.fit(x_train, y_train)\n",
    "print('\\nLogisticRegression score: ', lr.score(x_test, y_test))\n",
    "print('LogisticRegression train_set score: ', lr.score(x_train, y_train))\n",
    "print('LogisticRegression f1: ', f1_score(y_test, lr.predict(x_test), average='weighted'))\n",
    "\n",
    "svm = SVC(kernel = 'linear', random_state=0)\n",
    "svm.fit(x_train, y_train)\n",
    "print('\\nSVM Linear score: ', svm.score(x_test, y_test))\n",
    "print('SVM Linear train_set score: ', svm.score(x_train, y_train))\n",
    "print('SVM Linear f1: ', f1_score(y_test, svm.predict(x_test), average='weighted'))\n",
    "\n",
    "rbf = SVC(kernel='rbf', random_state=0)\n",
    "rbf.fit(x_train, y_train)\n",
    "print('\\nSVM RBF score: ', rbf.score(x_test, y_test))\n",
    "print('SVM RBF train_set score: ', rbf.score(x_train, y_train))\n",
    "print('SVM RBF f1: ', f1_score(y_test, rbf.predict(x_test), average='weighted'))\n",
    "\n",
    "tree = DecisionTreeClassifier(random_state=0)\n",
    "tree.fit(x_train, y_train)\n",
    "print('\\nDC score: ', tree.score(x_test, y_test))\n",
    "print('DC train_set score: ', tree.score(x_train, y_train))\n",
    "print('DC f1: ', f1_score(y_test, tree.predict(x_test), average='weighted'))\n",
    "\n",
    "rf = RandomForestClassifier(n_estimators = 100, random_state=0)\n",
    "rf.fit(x_train, y_train)\n",
    "print('\\nRF score: ', rf.score(x_test, y_test))\n",
    "print('RF train_set score: ', rf.score(x_train, y_train))\n",
    "print('RF f1: ', f1_score(y_test, rf.predict(x_test), average='weighted'))"
   ]
  },
  {
   "cell_type": "markdown",
   "metadata": {},
   "source": [
    "# SelectKBest chi2 k = 80/50/30 qcut=4"
   ]
  },
  {
   "cell_type": "code",
   "execution_count": 92,
   "metadata": {},
   "outputs": [
    {
     "name": "stdout",
     "output_type": "stream",
     "text": [
      "******************SelectKBest=80, qcut=3*******************************\n",
      "\n",
      "LogisticRegression score:  0.592814371257485\n",
      "LogisticRegression train_set score:  0.6335616438356164\n",
      "LogisticRegression f1:  0.5855343327059124\n",
      "\n",
      "SVM Linear score:  0.5848303393213573\n",
      "SVM Linear train_set score:  0.6446917808219178\n",
      "SVM Linear f1:  0.5798599632878594\n"
     ]
    },
    {
     "name": "stderr",
     "output_type": "stream",
     "text": [
      "/anaconda3/lib/python3.7/site-packages/sklearn/svm/base.py:196: FutureWarning: The default value of gamma will change from 'auto' to 'scale' in version 0.22 to account better for unscaled features. Set gamma explicitly to 'auto' or 'scale' to avoid this warning.\n",
      "  \"avoid this warning.\", FutureWarning)\n"
     ]
    },
    {
     "name": "stdout",
     "output_type": "stream",
     "text": [
      "\n",
      "SVM RBF score:  0.6007984031936128\n",
      "SVM RBF train_set score:  0.5967465753424658\n",
      "SVM RBF f1:  0.599216409826654\n",
      "\n",
      "DC score:  0.5389221556886228\n",
      "DC train_set score:  0.990582191780822\n",
      "DC f1:  0.5354811248566581\n",
      "\n",
      "RF score:  0.6127744510978044\n",
      "RF train_set score:  0.990582191780822\n",
      "RF f1:  0.6057151642854933\n",
      "\n",
      "\n",
      "***************SelectKBest=50, qcut=3**********************\n",
      "\n",
      "LogisticRegression score:  0.6027944111776448\n",
      "LogisticRegression train_set score:  0.6018835616438356\n",
      "LogisticRegression f1:  0.5905621820151253\n",
      "\n",
      "SVM Linear score:  0.6127744510978044\n",
      "SVM Linear train_set score:  0.6190068493150684\n",
      "SVM Linear f1:  0.6083087051672093\n"
     ]
    },
    {
     "name": "stderr",
     "output_type": "stream",
     "text": [
      "/anaconda3/lib/python3.7/site-packages/sklearn/svm/base.py:196: FutureWarning: The default value of gamma will change from 'auto' to 'scale' in version 0.22 to account better for unscaled features. Set gamma explicitly to 'auto' or 'scale' to avoid this warning.\n",
      "  \"avoid this warning.\", FutureWarning)\n"
     ]
    },
    {
     "name": "stdout",
     "output_type": "stream",
     "text": [
      "\n",
      "SVM RBF score:  0.590818363273453\n",
      "SVM RBF train_set score:  0.5898972602739726\n",
      "SVM RBF f1:  0.5946264339133676\n",
      "\n",
      "DC score:  0.5608782435129741\n",
      "DC train_set score:  0.949486301369863\n",
      "DC f1:  0.5559884722184867\n",
      "\n",
      "RF score:  0.5948103792415169\n",
      "RF train_set score:  0.949486301369863\n",
      "RF f1:  0.5850141840089161\n",
      "\n",
      "\n",
      "***************SelectKBest=30, qcut=3**********************\n",
      "\n",
      "LogisticRegression score:  0.5868263473053892\n",
      "LogisticRegression train_set score:  0.5702054794520548\n",
      "LogisticRegression f1:  0.5769986628837687\n",
      "\n",
      "SVM Linear score:  0.590818363273453\n",
      "SVM Linear train_set score:  0.5684931506849316\n",
      "SVM Linear f1:  0.5960732515532867\n"
     ]
    },
    {
     "name": "stderr",
     "output_type": "stream",
     "text": [
      "/anaconda3/lib/python3.7/site-packages/sklearn/svm/base.py:196: FutureWarning: The default value of gamma will change from 'auto' to 'scale' in version 0.22 to account better for unscaled features. Set gamma explicitly to 'auto' or 'scale' to avoid this warning.\n",
      "  \"avoid this warning.\", FutureWarning)\n"
     ]
    },
    {
     "name": "stdout",
     "output_type": "stream",
     "text": [
      "\n",
      "SVM RBF score:  0.5828343313373253\n",
      "SVM RBF train_set score:  0.565068493150685\n",
      "SVM RBF f1:  0.5872783741710818\n",
      "\n",
      "DC score:  0.5369261477045908\n",
      "DC train_set score:  0.8578767123287672\n",
      "DC f1:  0.5273861509222646\n",
      "\n",
      "RF score:  0.562874251497006\n",
      "RF train_set score:  0.8578767123287672\n",
      "RF f1:  0.5550480754721954\n"
     ]
    }
   ],
   "source": [
    "x = dummy1.iloc[:, 5:]\n",
    "y = dummy1['Salary_group_qcut3']\n",
    "\n",
    "print(\"******************SelectKBest=80, qcut=3*******************************\")\n",
    "kbest80 = SelectKBest(chi2, k=80)\n",
    "x80 = kbest80.fit_transform(x, y)\n",
    "x_train, x_test, y_train, y_test = train_test_split(x80, y, test_size = 0.3, random_state=0)\n",
    "\n",
    "lr = LogisticRegression(multi_class = 'auto', solver = 'newton-cg', random_state=0)\n",
    "lr.fit(x_train, y_train)\n",
    "print('\\nLogisticRegression score: ', lr.score(x_test, y_test))\n",
    "print('LogisticRegression train_set score: ', lr.score(x_train, y_train))\n",
    "print('LogisticRegression f1: ', f1_score(y_test, lr.predict(x_test), average='weighted'))\n",
    "\n",
    "svm = SVC(kernel = 'linear', random_state=0)\n",
    "svm.fit(x_train, y_train)\n",
    "print('\\nSVM Linear score: ', svm.score(x_test, y_test))\n",
    "print('SVM Linear train_set score: ', svm.score(x_train, y_train))\n",
    "print('SVM Linear f1: ', f1_score(y_test, svm.predict(x_test), average='weighted'))\n",
    "\n",
    "rbf = SVC(kernel='rbf', random_state=0)\n",
    "rbf.fit(x_train, y_train)\n",
    "print('\\nSVM RBF score: ', rbf.score(x_test, y_test))\n",
    "print('SVM RBF train_set score: ', rbf.score(x_train, y_train))\n",
    "print('SVM RBF f1: ', f1_score(y_test, rbf.predict(x_test), average='weighted'))\n",
    "\n",
    "tree = DecisionTreeClassifier(random_state=0)\n",
    "tree.fit(x_train, y_train)\n",
    "print('\\nDC score: ', tree.score(x_test, y_test))\n",
    "print('DC train_set score: ', tree.score(x_train, y_train))\n",
    "print('DC f1: ', f1_score(y_test, tree.predict(x_test), average='weighted'))\n",
    "\n",
    "rf = RandomForestClassifier(n_estimators = 100, random_state=0)\n",
    "rf.fit(x_train, y_train)\n",
    "print('\\nRF score: ', rf.score(x_test, y_test))\n",
    "print('RF train_set score: ', rf.score(x_train, y_train))\n",
    "print('RF f1: ', f1_score(y_test, rf.predict(x_test), average='weighted'))\n",
    "\n",
    "\n",
    "print(\"\\n\\n***************SelectKBest=50, qcut=3**********************\")\n",
    "kbest50 = SelectKBest(chi2, k=50)\n",
    "x50 = kbest50.fit_transform(x, y)\n",
    "x_train, x_test, y_train, y_test = train_test_split(x50, y, test_size = 0.3, random_state=0)\n",
    "\n",
    "lr = LogisticRegression(multi_class = 'auto', solver = 'newton-cg', random_state=0)\n",
    "lr.fit(x_train, y_train)\n",
    "print('\\nLogisticRegression score: ', lr.score(x_test, y_test))\n",
    "print('LogisticRegression train_set score: ', lr.score(x_train, y_train))\n",
    "print('LogisticRegression f1: ', f1_score(y_test, lr.predict(x_test), average='weighted'))\n",
    "\n",
    "svm = SVC(kernel = 'linear', random_state=0)\n",
    "svm.fit(x_train, y_train)\n",
    "print('\\nSVM Linear score: ', svm.score(x_test, y_test))\n",
    "print('SVM Linear train_set score: ', svm.score(x_train, y_train))\n",
    "print('SVM Linear f1: ', f1_score(y_test, svm.predict(x_test), average='weighted'))\n",
    "\n",
    "rbf = SVC(kernel='rbf', random_state=0)\n",
    "rbf.fit(x_train, y_train)\n",
    "print('\\nSVM RBF score: ', rbf.score(x_test, y_test))\n",
    "print('SVM RBF train_set score: ', rbf.score(x_train, y_train))\n",
    "print('SVM RBF f1: ', f1_score(y_test, rbf.predict(x_test), average='weighted'))\n",
    "\n",
    "tree = DecisionTreeClassifier(random_state=0)\n",
    "tree.fit(x_train, y_train)\n",
    "print('\\nDC score: ', tree.score(x_test, y_test))\n",
    "print('DC train_set score: ', tree.score(x_train, y_train))\n",
    "print('DC f1: ', f1_score(y_test, tree.predict(x_test), average='weighted'))\n",
    "\n",
    "rf = RandomForestClassifier(n_estimators = 100, random_state=0)\n",
    "rf.fit(x_train, y_train)\n",
    "print('\\nRF score: ', rf.score(x_test, y_test))\n",
    "print('RF train_set score: ', rf.score(x_train, y_train))\n",
    "print('RF f1: ', f1_score(y_test, rf.predict(x_test), average='weighted'))\n",
    "\n",
    "\n",
    "print(\"\\n\\n***************SelectKBest=30, qcut=3**********************\")\n",
    "kbest30 = SelectKBest(chi2, k=30)\n",
    "x30 = kbest30.fit_transform(x, y)\n",
    "x_train, x_test, y_train, y_test = train_test_split(x30, y, test_size = 0.3, random_state=0)\n",
    "\n",
    "lr = LogisticRegression(multi_class = 'auto', solver = 'newton-cg', random_state=0)\n",
    "lr.fit(x_train, y_train)\n",
    "print('\\nLogisticRegression score: ', lr.score(x_test, y_test))\n",
    "print('LogisticRegression train_set score: ', lr.score(x_train, y_train))\n",
    "print('LogisticRegression f1: ', f1_score(y_test, lr.predict(x_test), average='weighted'))\n",
    "\n",
    "svm = SVC(kernel = 'linear', random_state=0)\n",
    "svm.fit(x_train, y_train)\n",
    "print('\\nSVM Linear score: ', svm.score(x_test, y_test))\n",
    "print('SVM Linear train_set score: ', svm.score(x_train, y_train))\n",
    "print('SVM Linear f1: ', f1_score(y_test, svm.predict(x_test), average='weighted'))\n",
    "\n",
    "rbf = SVC(kernel='rbf', random_state=0)\n",
    "rbf.fit(x_train, y_train)\n",
    "print('\\nSVM RBF score: ', rbf.score(x_test, y_test))\n",
    "print('SVM RBF train_set score: ', rbf.score(x_train, y_train))\n",
    "print('SVM RBF f1: ', f1_score(y_test, rbf.predict(x_test), average='weighted'))\n",
    "\n",
    "tree = DecisionTreeClassifier(random_state=0)\n",
    "tree.fit(x_train, y_train)\n",
    "print('\\nDC score: ', tree.score(x_test, y_test))\n",
    "print('DC train_set score: ', tree.score(x_train, y_train))\n",
    "print('DC f1: ', f1_score(y_test, tree.predict(x_test), average='weighted'))\n",
    "\n",
    "rf = RandomForestClassifier(n_estimators = 100, random_state=0)\n",
    "rf.fit(x_train, y_train)\n",
    "print('\\nRF score: ', rf.score(x_test, y_test))\n",
    "print('RF train_set score: ', rf.score(x_train, y_train))\n",
    "print('RF f1: ', f1_score(y_test, rf.predict(x_test), average='weighted'))"
   ]
  },
  {
   "cell_type": "code",
   "execution_count": null,
   "metadata": {},
   "outputs": [],
   "source": []
  },
  {
   "cell_type": "code",
   "execution_count": 271,
   "metadata": {},
   "outputs": [],
   "source": [
    "###Score Table which list all the scores \n",
    "score = pd.read_excel(\"/Users/yinghua/Documents/MachineLearningProjectScoreTable.xlsx\")"
   ]
  },
  {
   "cell_type": "code",
   "execution_count": 272,
   "metadata": {},
   "outputs": [
    {
     "data": {
      "text/html": [
       "<div>\n",
       "<style scoped>\n",
       "    .dataframe tbody tr th:only-of-type {\n",
       "        vertical-align: middle;\n",
       "    }\n",
       "\n",
       "    .dataframe tbody tr th {\n",
       "        vertical-align: top;\n",
       "    }\n",
       "\n",
       "    .dataframe thead th {\n",
       "        text-align: right;\n",
       "    }\n",
       "</style>\n",
       "<table border=\"1\" class=\"dataframe\">\n",
       "  <thead>\n",
       "    <tr style=\"text-align: right;\">\n",
       "      <th></th>\n",
       "      <th>Unnamed: 0</th>\n",
       "      <th>Unnamed: 1</th>\n",
       "      <th>Unnamed: 2</th>\n",
       "      <th>Unnamed: 3</th>\n",
       "      <th>Unnamed: 4</th>\n",
       "      <th>Unnamed: 5</th>\n",
       "      <th>Unnamed: 6</th>\n",
       "      <th>Unnamed: 7</th>\n",
       "      <th>Unnamed: 8</th>\n",
       "      <th>Unnamed: 9</th>\n",
       "      <th>Unnamed: 10</th>\n",
       "      <th>Unnamed: 11</th>\n",
       "      <th>Unnamed: 12</th>\n",
       "      <th>Unnamed: 13</th>\n",
       "      <th>Unnamed: 14</th>\n",
       "    </tr>\n",
       "  </thead>\n",
       "  <tbody>\n",
       "    <tr>\n",
       "      <th>0</th>\n",
       "      <td>NaN</td>\n",
       "      <td>Score Table</td>\n",
       "      <td>NaN</td>\n",
       "      <td>NaN</td>\n",
       "      <td>NaN</td>\n",
       "      <td>NaN</td>\n",
       "      <td>NaN</td>\n",
       "      <td>NaN</td>\n",
       "      <td>NaN</td>\n",
       "      <td>NaN</td>\n",
       "      <td>NaN</td>\n",
       "      <td>NaN</td>\n",
       "      <td>NaN</td>\n",
       "      <td>NaN</td>\n",
       "      <td>NaN</td>\n",
       "    </tr>\n",
       "    <tr>\n",
       "      <th>1</th>\n",
       "      <td>NaN</td>\n",
       "      <td>NaN</td>\n",
       "      <td>NaN</td>\n",
       "      <td>cut = 3</td>\n",
       "      <td>NaN</td>\n",
       "      <td>NaN</td>\n",
       "      <td>cut = 4</td>\n",
       "      <td>NaN</td>\n",
       "      <td>NaN</td>\n",
       "      <td>qcut = 3</td>\n",
       "      <td>NaN</td>\n",
       "      <td>NaN</td>\n",
       "      <td>qcut4</td>\n",
       "      <td>NaN</td>\n",
       "      <td>NaN</td>\n",
       "    </tr>\n",
       "    <tr>\n",
       "      <th>2</th>\n",
       "      <td>NaN</td>\n",
       "      <td>NaN</td>\n",
       "      <td>NaN</td>\n",
       "      <td>Test Score</td>\n",
       "      <td>Train Score</td>\n",
       "      <td>F1 Score</td>\n",
       "      <td>Test Score</td>\n",
       "      <td>Train Score</td>\n",
       "      <td>F1 Score</td>\n",
       "      <td>Test Score</td>\n",
       "      <td>Train Score</td>\n",
       "      <td>F1 Score</td>\n",
       "      <td>Test Score</td>\n",
       "      <td>Train Score</td>\n",
       "      <td>F1 Score</td>\n",
       "    </tr>\n",
       "    <tr>\n",
       "      <th>3</th>\n",
       "      <td>NaN</td>\n",
       "      <td>LR</td>\n",
       "      <td>All Features</td>\n",
       "      <td>0.7544910179640718</td>\n",
       "      <td>0.761986301369863</td>\n",
       "      <td>0.7487426525527948</td>\n",
       "      <td>0.6706586826347305</td>\n",
       "      <td>0.7029109589041096</td>\n",
       "      <td>0.6364910259862956</td>\n",
       "      <td>0.5748502994011976</td>\n",
       "      <td>0.6378424657534246</td>\n",
       "      <td>0.5658827374813086</td>\n",
       "      <td>0.500998003992016</td>\n",
       "      <td>0.5676369863013698</td>\n",
       "      <td>0.48639562992711394</td>\n",
       "    </tr>\n",
       "    <tr>\n",
       "      <th>4</th>\n",
       "      <td>NaN</td>\n",
       "      <td>NaN</td>\n",
       "      <td>PCA</td>\n",
       "      <td>0.7524950099800399</td>\n",
       "      <td>0.7414383561643836</td>\n",
       "      <td>0.7469172848760406</td>\n",
       "      <td>0.654690618762475</td>\n",
       "      <td>0.6832191780821918</td>\n",
       "      <td>0.6238284474417072</td>\n",
       "      <td>0.5768463073852296</td>\n",
       "      <td>0.615582191780822</td>\n",
       "      <td>0.5636234441228517</td>\n",
       "      <td>0.46706586826347307</td>\n",
       "      <td>0.5402397260273972</td>\n",
       "      <td>0.44859524251537436</td>\n",
       "    </tr>\n",
       "    <tr>\n",
       "      <th>5</th>\n",
       "      <td>NaN</td>\n",
       "      <td>NaN</td>\n",
       "      <td>RFE(80)</td>\n",
       "      <td>0.7684630738522954</td>\n",
       "      <td>0.7636986301369864</td>\n",
       "      <td>0.7642912461360433</td>\n",
       "      <td>0.6646706586826348</td>\n",
       "      <td>0.7200342465753424</td>\n",
       "      <td>0.6476098894359276</td>\n",
       "      <td>0.5748502994011976</td>\n",
       "      <td>0.6412671232876712</td>\n",
       "      <td>0.5675726702236473</td>\n",
       "      <td>0.5748502994011976</td>\n",
       "      <td>0.6412671232876712</td>\n",
       "      <td>0.5675726702236473</td>\n",
       "    </tr>\n",
       "    <tr>\n",
       "      <th>6</th>\n",
       "      <td>NaN</td>\n",
       "      <td>NaN</td>\n",
       "      <td>RFE(50)</td>\n",
       "      <td>0.7405189620758483</td>\n",
       "      <td>0.7517123287671232</td>\n",
       "      <td>0.7367471846430597</td>\n",
       "      <td>0.6586826347305389</td>\n",
       "      <td>0.7046232876712328</td>\n",
       "      <td>0.6339971169798014</td>\n",
       "      <td>0.5868263473053892</td>\n",
       "      <td>0.6284246575342466</td>\n",
       "      <td>0.5785238151220966</td>\n",
       "      <td>0.5868263473053892</td>\n",
       "      <td>0.6284246575342466</td>\n",
       "      <td>0.5785238151220966</td>\n",
       "    </tr>\n",
       "    <tr>\n",
       "      <th>7</th>\n",
       "      <td>NaN</td>\n",
       "      <td>NaN</td>\n",
       "      <td>RFE(30)</td>\n",
       "      <td>0.7445109780439122</td>\n",
       "      <td>0.7422945205479452</td>\n",
       "      <td>0.7411869165414077</td>\n",
       "      <td>0.6746506986027944</td>\n",
       "      <td>0.7037671232876712</td>\n",
       "      <td>0.6462814716288492</td>\n",
       "      <td>0.5708582834331337</td>\n",
       "      <td>0.5804794520547946</td>\n",
       "      <td>0.5745111603401701</td>\n",
       "      <td>0.5708582834331337</td>\n",
       "      <td>0.5804794520547946</td>\n",
       "      <td>0.5745111603401701</td>\n",
       "    </tr>\n",
       "    <tr>\n",
       "      <th>8</th>\n",
       "      <td>NaN</td>\n",
       "      <td>NaN</td>\n",
       "      <td>KBest(80)</td>\n",
       "      <td>0.7524950099800399</td>\n",
       "      <td>0.7542808219178082</td>\n",
       "      <td>0.7472707732577953</td>\n",
       "      <td>0.6806387225548902</td>\n",
       "      <td>0.7080479452054794</td>\n",
       "      <td>0.6565264128283594</td>\n",
       "      <td>0.592814371257485</td>\n",
       "      <td>0.6335616438356164</td>\n",
       "      <td>0.5855343327059124</td>\n",
       "      <td>0.592814371257485</td>\n",
       "      <td>0.6335616438356164</td>\n",
       "      <td>0.5855343327059124</td>\n",
       "    </tr>\n",
       "    <tr>\n",
       "      <th>9</th>\n",
       "      <td>NaN</td>\n",
       "      <td>NaN</td>\n",
       "      <td>KBest(50)</td>\n",
       "      <td>0.7624750499001997</td>\n",
       "      <td>0.7440068493150684</td>\n",
       "      <td>0.758451828599545</td>\n",
       "      <td>0.6906187624750499</td>\n",
       "      <td>0.7037671232876712</td>\n",
       "      <td>0.6678484322248519</td>\n",
       "      <td>0.6027944111776448</td>\n",
       "      <td>0.6018835616438356</td>\n",
       "      <td>0.5905621820151253</td>\n",
       "      <td>0.6027944111776448</td>\n",
       "      <td>0.6018835616438356</td>\n",
       "      <td>0.5905621820151253</td>\n",
       "    </tr>\n",
       "    <tr>\n",
       "      <th>10</th>\n",
       "      <td>NaN</td>\n",
       "      <td>NaN</td>\n",
       "      <td>KBest(30)</td>\n",
       "      <td>0.7764471057884231</td>\n",
       "      <td>0.7371575342465754</td>\n",
       "      <td>0.7703991416566266</td>\n",
       "      <td>0.6706586826347305</td>\n",
       "      <td>0.6934931506849316</td>\n",
       "      <td>0.6407384635354003</td>\n",
       "      <td>0.5868263473053892</td>\n",
       "      <td>0.5702054794520548</td>\n",
       "      <td>0.5769986628837687</td>\n",
       "      <td>0.5868263473053892</td>\n",
       "      <td>0.5702054794520548</td>\n",
       "      <td>0.5769986628837687</td>\n",
       "    </tr>\n",
       "    <tr>\n",
       "      <th>11</th>\n",
       "      <td>NaN</td>\n",
       "      <td>SVM(Linear)</td>\n",
       "      <td>All Features</td>\n",
       "      <td>0.7644710578842315</td>\n",
       "      <td>0.7799657534246576</td>\n",
       "      <td>0.7569155072851668</td>\n",
       "      <td>0.6427145708582834</td>\n",
       "      <td>0.6427145708582834</td>\n",
       "      <td>0.619490191959909</td>\n",
       "      <td>0.5728542914171657</td>\n",
       "      <td>0.6678082191780822</td>\n",
       "      <td>0.5675230928621607</td>\n",
       "      <td>0.47904191616766467</td>\n",
       "      <td>0.5950342465753424</td>\n",
       "      <td>0.4624202949762358</td>\n",
       "    </tr>\n",
       "    <tr>\n",
       "      <th>12</th>\n",
       "      <td>NaN</td>\n",
       "      <td>NaN</td>\n",
       "      <td>PCA</td>\n",
       "      <td>0.7465069860279441</td>\n",
       "      <td>0.7602739726027398</td>\n",
       "      <td>0.7400266118364176</td>\n",
       "      <td>0.654690618762475</td>\n",
       "      <td>0.6986301369863014</td>\n",
       "      <td>0.6266648045475471</td>\n",
       "      <td>0.5808383233532934</td>\n",
       "      <td>0.627568493150685</td>\n",
       "      <td>0.572314690739257</td>\n",
       "      <td>0.45708582834331335</td>\n",
       "      <td>0.5573630136986302</td>\n",
       "      <td>0.44130720930183703</td>\n",
       "    </tr>\n",
       "    <tr>\n",
       "      <th>13</th>\n",
       "      <td>NaN</td>\n",
       "      <td>NaN</td>\n",
       "      <td>RFE(80)</td>\n",
       "      <td>0.7664670658682635</td>\n",
       "      <td>0.7696917808219178</td>\n",
       "      <td>0.7599215982449516</td>\n",
       "      <td>0.6706586826347305</td>\n",
       "      <td>0.728595890410959</td>\n",
       "      <td>0.6457693605245658</td>\n",
       "      <td>0.5708582834331337</td>\n",
       "      <td>0.648972602739726</td>\n",
       "      <td>0.565393002326181</td>\n",
       "      <td>0.5708582834331337</td>\n",
       "      <td>0.648972602739726</td>\n",
       "      <td>0.565393002326181</td>\n",
       "    </tr>\n",
       "    <tr>\n",
       "      <th>14</th>\n",
       "      <td>NaN</td>\n",
       "      <td>NaN</td>\n",
       "      <td>RFE(50)</td>\n",
       "      <td>0.7644710578842315</td>\n",
       "      <td>0.752568493150685</td>\n",
       "      <td>0.7563718334475328</td>\n",
       "      <td>0.6706586826347305</td>\n",
       "      <td>0.6986301369863014</td>\n",
       "      <td>0.6347253208142317</td>\n",
       "      <td>0.590818363273453</td>\n",
       "      <td>0.6207191780821918</td>\n",
       "      <td>0.5949347836193118</td>\n",
       "      <td>0.590818363273453</td>\n",
       "      <td>0.6207191780821918</td>\n",
       "      <td>0.5949347836193118</td>\n",
       "    </tr>\n",
       "    <tr>\n",
       "      <th>15</th>\n",
       "      <td>NaN</td>\n",
       "      <td>NaN</td>\n",
       "      <td>RFE(30)</td>\n",
       "      <td>0.7524950099800399</td>\n",
       "      <td>0.738013698630137</td>\n",
       "      <td>0.7393559550030495</td>\n",
       "      <td>0.688622754491018</td>\n",
       "      <td>0.6823630136986302</td>\n",
       "      <td>0.6510128948452301</td>\n",
       "      <td>0.5588822355289421</td>\n",
       "      <td>0.5804794520547946</td>\n",
       "      <td>0.5672953003557196</td>\n",
       "      <td>0.5588822355289421</td>\n",
       "      <td>0.5804794520547946</td>\n",
       "      <td>0.5672953003557196</td>\n",
       "    </tr>\n",
       "    <tr>\n",
       "      <th>16</th>\n",
       "      <td>NaN</td>\n",
       "      <td>NaN</td>\n",
       "      <td>KBest(80)</td>\n",
       "      <td>0.7604790419161677</td>\n",
       "      <td>0.752568493150685</td>\n",
       "      <td>0.7534530410929502</td>\n",
       "      <td>0.6846307385229541</td>\n",
       "      <td>0.7080479452054794</td>\n",
       "      <td>0.6524735048982329</td>\n",
       "      <td>0.5848303393213573</td>\n",
       "      <td>0.6446917808219178</td>\n",
       "      <td>0.5798599632878594</td>\n",
       "      <td>0.5848303393213573</td>\n",
       "      <td>0.6446917808219178</td>\n",
       "      <td>0.5798599632878594</td>\n",
       "    </tr>\n",
       "    <tr>\n",
       "      <th>17</th>\n",
       "      <td>NaN</td>\n",
       "      <td>NaN</td>\n",
       "      <td>KBest(50)</td>\n",
       "      <td>0.7684630738522954</td>\n",
       "      <td>0.7448630136986302</td>\n",
       "      <td>0.7592444220391169</td>\n",
       "      <td>0.6746506986027944</td>\n",
       "      <td>0.690068493150685</td>\n",
       "      <td>0.6338576175309558</td>\n",
       "      <td>0.6127744510978044</td>\n",
       "      <td>0.6190068493150684</td>\n",
       "      <td>0.6083087051672093</td>\n",
       "      <td>0.6127744510978044</td>\n",
       "      <td>0.6190068493150684</td>\n",
       "      <td>0.6083087051672093</td>\n",
       "    </tr>\n",
       "    <tr>\n",
       "      <th>18</th>\n",
       "      <td>NaN</td>\n",
       "      <td>NaN</td>\n",
       "      <td>KBest(30)</td>\n",
       "      <td>0.7764471057884231</td>\n",
       "      <td>0.7294520547945206</td>\n",
       "      <td>0.7644746725711471</td>\n",
       "      <td>0.6766467065868264</td>\n",
       "      <td>0.6763698630136986</td>\n",
       "      <td>0.6377570585156803</td>\n",
       "      <td>0.590818363273453</td>\n",
       "      <td>0.5684931506849316</td>\n",
       "      <td>0.5960732515532867</td>\n",
       "      <td>0.590818363273453</td>\n",
       "      <td>0.5684931506849316</td>\n",
       "      <td>0.5960732515532867</td>\n",
       "    </tr>\n",
       "    <tr>\n",
       "      <th>19</th>\n",
       "      <td>NaN</td>\n",
       "      <td>SVM(rbf)</td>\n",
       "      <td>All Features</td>\n",
       "      <td>0.7584830339321357</td>\n",
       "      <td>0.7337328767123288</td>\n",
       "      <td>0.7394461917915012</td>\n",
       "      <td>0.6407185628742516</td>\n",
       "      <td>0.625</td>\n",
       "      <td>0.500415227938284</td>\n",
       "      <td>0.6027944111776448</td>\n",
       "      <td>0.5924657534246576</td>\n",
       "      <td>0.596237733683406</td>\n",
       "      <td>0.499001996007984</td>\n",
       "      <td>0.4974315068493151</td>\n",
       "      <td>0.44993467294440015</td>\n",
       "    </tr>\n",
       "    <tr>\n",
       "      <th>20</th>\n",
       "      <td>NaN</td>\n",
       "      <td>NaN</td>\n",
       "      <td>PCA</td>\n",
       "      <td>0.7604790419161677</td>\n",
       "      <td>0.7414383561643836</td>\n",
       "      <td>0.7453001644618411</td>\n",
       "      <td>0.6586826347305389</td>\n",
       "      <td>0.6669520547945206</td>\n",
       "      <td>0.5646568464584073</td>\n",
       "      <td>0.5948103792415169</td>\n",
       "      <td>0.6053082191780822</td>\n",
       "      <td>0.5917927360234245</td>\n",
       "      <td>0.49500998003992014</td>\n",
       "      <td>0.5042808219178082</td>\n",
       "      <td>0.45485250025295115</td>\n",
       "    </tr>\n",
       "    <tr>\n",
       "      <th>21</th>\n",
       "      <td>NaN</td>\n",
       "      <td>NaN</td>\n",
       "      <td>RFE(80)</td>\n",
       "      <td>NaN</td>\n",
       "      <td>NaN</td>\n",
       "      <td>NaN</td>\n",
       "      <td>NaN</td>\n",
       "      <td>NaN</td>\n",
       "      <td>NaN</td>\n",
       "      <td>NaN</td>\n",
       "      <td>NaN</td>\n",
       "      <td>NaN</td>\n",
       "      <td>NaN</td>\n",
       "      <td>NaN</td>\n",
       "      <td>NaN</td>\n",
       "    </tr>\n",
       "    <tr>\n",
       "      <th>22</th>\n",
       "      <td>NaN</td>\n",
       "      <td>NaN</td>\n",
       "      <td>RFE(50)</td>\n",
       "      <td>NaN</td>\n",
       "      <td>NaN</td>\n",
       "      <td>NaN</td>\n",
       "      <td>NaN</td>\n",
       "      <td>NaN</td>\n",
       "      <td>NaN</td>\n",
       "      <td>NaN</td>\n",
       "      <td>NaN</td>\n",
       "      <td>NaN</td>\n",
       "      <td>NaN</td>\n",
       "      <td>NaN</td>\n",
       "      <td>NaN</td>\n",
       "    </tr>\n",
       "    <tr>\n",
       "      <th>23</th>\n",
       "      <td>NaN</td>\n",
       "      <td>NaN</td>\n",
       "      <td>RFE(30)</td>\n",
       "      <td>NaN</td>\n",
       "      <td>NaN</td>\n",
       "      <td>NaN</td>\n",
       "      <td>NaN</td>\n",
       "      <td>NaN</td>\n",
       "      <td>NaN</td>\n",
       "      <td>NaN</td>\n",
       "      <td>NaN</td>\n",
       "      <td>NaN</td>\n",
       "      <td>NaN</td>\n",
       "      <td>NaN</td>\n",
       "      <td>NaN</td>\n",
       "    </tr>\n",
       "    <tr>\n",
       "      <th>24</th>\n",
       "      <td>NaN</td>\n",
       "      <td>NaN</td>\n",
       "      <td>KBest(80)</td>\n",
       "      <td>0.7664670658682635</td>\n",
       "      <td>0.7337328767123288</td>\n",
       "      <td>0.751329134013886</td>\n",
       "      <td>0.656686626746507</td>\n",
       "      <td>0.6523972602739726</td>\n",
       "      <td>0.5466796694755524</td>\n",
       "      <td>0.6007984031936128</td>\n",
       "      <td>0.5967465753424658</td>\n",
       "      <td>0.599216409826654</td>\n",
       "      <td>0.6007984031936128</td>\n",
       "      <td>0.5967465753424658</td>\n",
       "      <td>0.599216409826654</td>\n",
       "    </tr>\n",
       "    <tr>\n",
       "      <th>25</th>\n",
       "      <td>NaN</td>\n",
       "      <td>NaN</td>\n",
       "      <td>KBest(50)</td>\n",
       "      <td>0.7764471057884231</td>\n",
       "      <td>0.7371575342465754</td>\n",
       "      <td>0.763926767775605</td>\n",
       "      <td>0.6766467065868264</td>\n",
       "      <td>0.678082191780822</td>\n",
       "      <td>0.6030252085150214</td>\n",
       "      <td>0.590818363273453</td>\n",
       "      <td>0.5898972602739726</td>\n",
       "      <td>0.5946264339133676</td>\n",
       "      <td>0.590818363273453</td>\n",
       "      <td>0.5898972602739726</td>\n",
       "      <td>0.5946264339133676</td>\n",
       "    </tr>\n",
       "    <tr>\n",
       "      <th>26</th>\n",
       "      <td>NaN</td>\n",
       "      <td>NaN</td>\n",
       "      <td>KBest(30)</td>\n",
       "      <td>0.7724550898203593</td>\n",
       "      <td>0.7183219178082192</td>\n",
       "      <td>0.7613660527696443</td>\n",
       "      <td>0.6826347305389222</td>\n",
       "      <td>0.684931506849315</td>\n",
       "      <td>0.6376956511915421</td>\n",
       "      <td>0.5828343313373253</td>\n",
       "      <td>0.565068493150685</td>\n",
       "      <td>0.5872783741710818</td>\n",
       "      <td>0.5828343313373253</td>\n",
       "      <td>0.565068493150685</td>\n",
       "      <td>0.5872783741710818</td>\n",
       "    </tr>\n",
       "    <tr>\n",
       "      <th>27</th>\n",
       "      <td>NaN</td>\n",
       "      <td>DT</td>\n",
       "      <td>All Features</td>\n",
       "      <td>0.6706586826347305</td>\n",
       "      <td>0.9965753424657534</td>\n",
       "      <td>0.6773390359691351</td>\n",
       "      <td>0.5948103792415169</td>\n",
       "      <td>0.9940068493150684</td>\n",
       "      <td>0.5977746969424984</td>\n",
       "      <td>0.5149700598802395</td>\n",
       "      <td>0.9957191780821918</td>\n",
       "      <td>0.515155211389417</td>\n",
       "      <td>0.41916167664670656</td>\n",
       "      <td>0.9922945205479452</td>\n",
       "      <td>0.4161532022803636</td>\n",
       "    </tr>\n",
       "    <tr>\n",
       "      <th>28</th>\n",
       "      <td>NaN</td>\n",
       "      <td>NaN</td>\n",
       "      <td>PCA</td>\n",
       "      <td>0.6646706586826348</td>\n",
       "      <td>0.9965753424657534</td>\n",
       "      <td>0.6650761634066054</td>\n",
       "      <td>0.5548902195608783</td>\n",
       "      <td>0.9940068493150684</td>\n",
       "      <td>0.5544490755017427</td>\n",
       "      <td>0.48303393213572854</td>\n",
       "      <td>0.9957191780821918</td>\n",
       "      <td>0.48221602486868403</td>\n",
       "      <td>0.3932135728542914</td>\n",
       "      <td>0.9922945205479452</td>\n",
       "      <td>0.39143556867279433</td>\n",
       "    </tr>\n",
       "    <tr>\n",
       "      <th>29</th>\n",
       "      <td>NaN</td>\n",
       "      <td>NaN</td>\n",
       "      <td>RFE(80)</td>\n",
       "      <td>0.6746506986027944</td>\n",
       "      <td>0.9965753424657534</td>\n",
       "      <td>0.6808591956180623</td>\n",
       "      <td>0.6087824351297405</td>\n",
       "      <td>0.9940068493150684</td>\n",
       "      <td>0.6113662186658948</td>\n",
       "      <td>0.5029940119760479</td>\n",
       "      <td>0.9957191780821918</td>\n",
       "      <td>0.5011164915188</td>\n",
       "      <td>0.5029940119760479</td>\n",
       "      <td>0.9957191780821918</td>\n",
       "      <td>0.5011164915188</td>\n",
       "    </tr>\n",
       "    <tr>\n",
       "      <th>30</th>\n",
       "      <td>NaN</td>\n",
       "      <td>NaN</td>\n",
       "      <td>RFE(50)</td>\n",
       "      <td>0.6766467065868264</td>\n",
       "      <td>0.9957191780821918</td>\n",
       "      <td>0.6855351312267458</td>\n",
       "      <td>0.5748502994011976</td>\n",
       "      <td>0.9922945205479452</td>\n",
       "      <td>0.5790397795598679</td>\n",
       "      <td>0.5089820359281437</td>\n",
       "      <td>0.9931506849315068</td>\n",
       "      <td>0.5080357554838124</td>\n",
       "      <td>0.5089820359281437</td>\n",
       "      <td>0.9931506849315068</td>\n",
       "      <td>0.5080357554838124</td>\n",
       "    </tr>\n",
       "    <tr>\n",
       "      <th>31</th>\n",
       "      <td>NaN</td>\n",
       "      <td>NaN</td>\n",
       "      <td>RFE(30)</td>\n",
       "      <td>0.6746506986027944</td>\n",
       "      <td>0.9922945205479452</td>\n",
       "      <td>0.6772545852058451</td>\n",
       "      <td>0.5449101796407185</td>\n",
       "      <td>0.9888698630136986</td>\n",
       "      <td>0.5562543028285228</td>\n",
       "      <td>0.5289421157684631</td>\n",
       "      <td>0.990582191780822</td>\n",
       "      <td>0.5310371919505398</td>\n",
       "      <td>0.5289421157684631</td>\n",
       "      <td>0.990582191780822</td>\n",
       "      <td>0.5310371919505398</td>\n",
       "    </tr>\n",
       "    <tr>\n",
       "      <th>32</th>\n",
       "      <td>NaN</td>\n",
       "      <td>NaN</td>\n",
       "      <td>KBest(80)</td>\n",
       "      <td>0.6726546906187625</td>\n",
       "      <td>0.988013698630137</td>\n",
       "      <td>0.6794017892723706</td>\n",
       "      <td>0.5608782435129741</td>\n",
       "      <td>0.990582191780822</td>\n",
       "      <td>0.5693401972538316</td>\n",
       "      <td>0.5389221556886228</td>\n",
       "      <td>0.990582191780822</td>\n",
       "      <td>0.5354811248566581</td>\n",
       "      <td>0.5389221556886228</td>\n",
       "      <td>0.990582191780822</td>\n",
       "      <td>0.5354811248566581</td>\n",
       "    </tr>\n",
       "    <tr>\n",
       "      <th>33</th>\n",
       "      <td>NaN</td>\n",
       "      <td>NaN</td>\n",
       "      <td>KBest(50)</td>\n",
       "      <td>0.6686626746506986</td>\n",
       "      <td>0.9648972602739726</td>\n",
       "      <td>0.6714358323164747</td>\n",
       "      <td>0.5848303393213573</td>\n",
       "      <td>0.9623287671232876</td>\n",
       "      <td>0.5923896611969436</td>\n",
       "      <td>0.5608782435129741</td>\n",
       "      <td>0.949486301369863</td>\n",
       "      <td>0.5559884722184867</td>\n",
       "      <td>0.5608782435129741</td>\n",
       "      <td>0.949486301369863</td>\n",
       "      <td>0.5559884722184867</td>\n",
       "    </tr>\n",
       "    <tr>\n",
       "      <th>34</th>\n",
       "      <td>NaN</td>\n",
       "      <td>NaN</td>\n",
       "      <td>KBest(30)</td>\n",
       "      <td>0.7125748502994012</td>\n",
       "      <td>0.8861301369863014</td>\n",
       "      <td>0.7044564802146449</td>\n",
       "      <td>0.5768463073852296</td>\n",
       "      <td>0.8741438356164384</td>\n",
       "      <td>0.5776716470743397</td>\n",
       "      <td>0.5369261477045908</td>\n",
       "      <td>0.8578767123287672</td>\n",
       "      <td>0.5273861509222646</td>\n",
       "      <td>0.5369261477045908</td>\n",
       "      <td>0.8578767123287672</td>\n",
       "      <td>0.5273861509222646</td>\n",
       "    </tr>\n",
       "    <tr>\n",
       "      <th>35</th>\n",
       "      <td>NaN</td>\n",
       "      <td>RF</td>\n",
       "      <td>All Features</td>\n",
       "      <td>0.7265469061876247</td>\n",
       "      <td>0.9845890410958904</td>\n",
       "      <td>0.7131202253194088</td>\n",
       "      <td>0.6586826347305389</td>\n",
       "      <td>0.9717465753424658</td>\n",
       "      <td>0.6366354947902605</td>\n",
       "      <td>0.5848303393213573</td>\n",
       "      <td>0.985445205479452</td>\n",
       "      <td>0.5786983055248421</td>\n",
       "      <td>0.48502994011976047</td>\n",
       "      <td>0.9777397260273972</td>\n",
       "      <td>0.4782391963418588</td>\n",
       "    </tr>\n",
       "    <tr>\n",
       "      <th>36</th>\n",
       "      <td>NaN</td>\n",
       "      <td>NaN</td>\n",
       "      <td>PCA</td>\n",
       "      <td>0.7065868263473054</td>\n",
       "      <td>0.9708904109589042</td>\n",
       "      <td>0.6790752716061352</td>\n",
       "      <td>0.6307385229540918</td>\n",
       "      <td>0.9777397260273972</td>\n",
       "      <td>0.5970154068132827</td>\n",
       "      <td>0.5449101796407185</td>\n",
       "      <td>0.9777397260273972</td>\n",
       "      <td>0.5320925759816401</td>\n",
       "      <td>0.4251497005988024</td>\n",
       "      <td>0.9794520547945206</td>\n",
       "      <td>0.41363584968863853</td>\n",
       "    </tr>\n",
       "    <tr>\n",
       "      <th>37</th>\n",
       "      <td>NaN</td>\n",
       "      <td>NaN</td>\n",
       "      <td>RFE(80)</td>\n",
       "      <td>0.7684630738522954</td>\n",
       "      <td>0.9965753424657534</td>\n",
       "      <td>0.7592444220391169</td>\n",
       "      <td>0.6806387225548902</td>\n",
       "      <td>0.9940068493150684</td>\n",
       "      <td>0.6464757703561269</td>\n",
       "      <td>0.6387225548902196</td>\n",
       "      <td>0.9957191780821918</td>\n",
       "      <td>0.6335353011888741</td>\n",
       "      <td>0.6387225548902196</td>\n",
       "      <td>0.9957191780821918</td>\n",
       "      <td>0.6335353011888741</td>\n",
       "    </tr>\n",
       "    <tr>\n",
       "      <th>38</th>\n",
       "      <td>NaN</td>\n",
       "      <td>NaN</td>\n",
       "      <td>RFE(50)</td>\n",
       "      <td>0.7485029940119761</td>\n",
       "      <td>0.9957191780821918</td>\n",
       "      <td>0.7424247996167235</td>\n",
       "      <td>0.6926147704590818</td>\n",
       "      <td>0.9922945205479452</td>\n",
       "      <td>0.6584825019295603</td>\n",
       "      <td>0.6067864271457086</td>\n",
       "      <td>0.9948630136986302</td>\n",
       "      <td>0.6028602901853551</td>\n",
       "      <td>0.6067864271457086</td>\n",
       "      <td>0.9948630136986302</td>\n",
       "      <td>0.6028602901853551</td>\n",
       "    </tr>\n",
       "    <tr>\n",
       "      <th>39</th>\n",
       "      <td>NaN</td>\n",
       "      <td>NaN</td>\n",
       "      <td>RFE(30)</td>\n",
       "      <td>0.7584830339321357</td>\n",
       "      <td>0.9940068493150684</td>\n",
       "      <td>0.7501467188440547</td>\n",
       "      <td>0.6726546906187625</td>\n",
       "      <td>0.9888698630136986</td>\n",
       "      <td>0.6448837912463852</td>\n",
       "      <td>0.6007984031936128</td>\n",
       "      <td>0.990582191780822</td>\n",
       "      <td>0.5963630105816558</td>\n",
       "      <td>0.6007984031936128</td>\n",
       "      <td>0.990582191780822</td>\n",
       "      <td>0.5963630105816558</td>\n",
       "    </tr>\n",
       "    <tr>\n",
       "      <th>40</th>\n",
       "      <td>NaN</td>\n",
       "      <td>NaN</td>\n",
       "      <td>KBest(80)</td>\n",
       "      <td>0.7485029940119761</td>\n",
       "      <td>0.988013698630137</td>\n",
       "      <td>0.7432681239411656</td>\n",
       "      <td>0.6826347305389222</td>\n",
       "      <td>0.990582191780822</td>\n",
       "      <td>0.6453444961927997</td>\n",
       "      <td>0.6127744510978044</td>\n",
       "      <td>0.990582191780822</td>\n",
       "      <td>0.6057151642854933</td>\n",
       "      <td>0.6127744510978044</td>\n",
       "      <td>0.990582191780822</td>\n",
       "      <td>0.6057151642854933</td>\n",
       "    </tr>\n",
       "    <tr>\n",
       "      <th>41</th>\n",
       "      <td>NaN</td>\n",
       "      <td>NaN</td>\n",
       "      <td>KBest(50)</td>\n",
       "      <td>0.7544910179640718</td>\n",
       "      <td>0.9648972602739726</td>\n",
       "      <td>0.7528564962268982</td>\n",
       "      <td>0.6726546906187625</td>\n",
       "      <td>0.9623287671232876</td>\n",
       "      <td>0.6452780643130789</td>\n",
       "      <td>0.5948103792415169</td>\n",
       "      <td>0.949486301369863</td>\n",
       "      <td>0.5850141840089161</td>\n",
       "      <td>0.5948103792415169</td>\n",
       "      <td>0.949486301369863</td>\n",
       "      <td>0.5850141840089161</td>\n",
       "    </tr>\n",
       "    <tr>\n",
       "      <th>42</th>\n",
       "      <td>NaN</td>\n",
       "      <td>NaN</td>\n",
       "      <td>KBest(30)</td>\n",
       "      <td>0.7504990019960079</td>\n",
       "      <td>0.8861301369863014</td>\n",
       "      <td>0.7454996312857085</td>\n",
       "      <td>0.6367265469061876</td>\n",
       "      <td>0.8741438356164384</td>\n",
       "      <td>0.6183451189305833</td>\n",
       "      <td>0.562874251497006</td>\n",
       "      <td>0.8578767123287672</td>\n",
       "      <td>0.5550480754721954</td>\n",
       "      <td>0.562874251497006</td>\n",
       "      <td>0.8578767123287672</td>\n",
       "      <td>0.5550480754721954</td>\n",
       "    </tr>\n",
       "  </tbody>\n",
       "</table>\n",
       "</div>"
      ],
      "text/plain": [
       "    Unnamed: 0    Unnamed: 1    Unnamed: 2          Unnamed: 3  \\\n",
       "0          NaN   Score Table           NaN                 NaN   \n",
       "1          NaN           NaN           NaN             cut = 3   \n",
       "2          NaN           NaN           NaN          Test Score   \n",
       "3          NaN            LR  All Features  0.7544910179640718   \n",
       "4          NaN           NaN           PCA  0.7524950099800399   \n",
       "5          NaN           NaN       RFE(80)  0.7684630738522954   \n",
       "6          NaN           NaN       RFE(50)  0.7405189620758483   \n",
       "7          NaN           NaN       RFE(30)  0.7445109780439122   \n",
       "8          NaN           NaN     KBest(80)  0.7524950099800399   \n",
       "9          NaN           NaN     KBest(50)  0.7624750499001997   \n",
       "10         NaN           NaN     KBest(30)  0.7764471057884231   \n",
       "11         NaN  SVM(Linear)   All Features  0.7644710578842315   \n",
       "12         NaN           NaN           PCA  0.7465069860279441   \n",
       "13         NaN           NaN       RFE(80)  0.7664670658682635   \n",
       "14         NaN           NaN       RFE(50)  0.7644710578842315   \n",
       "15         NaN           NaN       RFE(30)  0.7524950099800399   \n",
       "16         NaN           NaN     KBest(80)  0.7604790419161677   \n",
       "17         NaN           NaN     KBest(50)  0.7684630738522954   \n",
       "18         NaN           NaN     KBest(30)  0.7764471057884231   \n",
       "19         NaN      SVM(rbf)  All Features  0.7584830339321357   \n",
       "20         NaN           NaN           PCA  0.7604790419161677   \n",
       "21         NaN           NaN       RFE(80)                 NaN   \n",
       "22         NaN           NaN       RFE(50)                 NaN   \n",
       "23         NaN           NaN       RFE(30)                 NaN   \n",
       "24         NaN           NaN     KBest(80)  0.7664670658682635   \n",
       "25         NaN           NaN     KBest(50)  0.7764471057884231   \n",
       "26         NaN           NaN     KBest(30)  0.7724550898203593   \n",
       "27         NaN            DT  All Features  0.6706586826347305   \n",
       "28         NaN           NaN           PCA  0.6646706586826348   \n",
       "29         NaN           NaN       RFE(80)  0.6746506986027944   \n",
       "30         NaN           NaN       RFE(50)  0.6766467065868264   \n",
       "31         NaN           NaN       RFE(30)  0.6746506986027944   \n",
       "32         NaN           NaN     KBest(80)  0.6726546906187625   \n",
       "33         NaN           NaN     KBest(50)  0.6686626746506986   \n",
       "34         NaN           NaN     KBest(30)  0.7125748502994012   \n",
       "35         NaN            RF  All Features  0.7265469061876247   \n",
       "36         NaN           NaN           PCA  0.7065868263473054   \n",
       "37         NaN           NaN       RFE(80)  0.7684630738522954   \n",
       "38         NaN           NaN       RFE(50)  0.7485029940119761   \n",
       "39         NaN           NaN       RFE(30)  0.7584830339321357   \n",
       "40         NaN           NaN     KBest(80)  0.7485029940119761   \n",
       "41         NaN           NaN     KBest(50)  0.7544910179640718   \n",
       "42         NaN           NaN     KBest(30)  0.7504990019960079   \n",
       "\n",
       "            Unnamed: 4          Unnamed: 5          Unnamed: 6  \\\n",
       "0                  NaN                 NaN                 NaN   \n",
       "1                  NaN                 NaN            cut = 4    \n",
       "2          Train Score            F1 Score          Test Score   \n",
       "3    0.761986301369863  0.7487426525527948  0.6706586826347305   \n",
       "4   0.7414383561643836  0.7469172848760406   0.654690618762475   \n",
       "5   0.7636986301369864  0.7642912461360433  0.6646706586826348   \n",
       "6   0.7517123287671232  0.7367471846430597  0.6586826347305389   \n",
       "7   0.7422945205479452  0.7411869165414077  0.6746506986027944   \n",
       "8   0.7542808219178082  0.7472707732577953  0.6806387225548902   \n",
       "9   0.7440068493150684   0.758451828599545  0.6906187624750499   \n",
       "10  0.7371575342465754  0.7703991416566266  0.6706586826347305   \n",
       "11  0.7799657534246576  0.7569155072851668  0.6427145708582834   \n",
       "12  0.7602739726027398  0.7400266118364176   0.654690618762475   \n",
       "13  0.7696917808219178  0.7599215982449516  0.6706586826347305   \n",
       "14   0.752568493150685  0.7563718334475328  0.6706586826347305   \n",
       "15   0.738013698630137  0.7393559550030495   0.688622754491018   \n",
       "16   0.752568493150685  0.7534530410929502  0.6846307385229541   \n",
       "17  0.7448630136986302  0.7592444220391169  0.6746506986027944   \n",
       "18  0.7294520547945206  0.7644746725711471  0.6766467065868264   \n",
       "19  0.7337328767123288  0.7394461917915012  0.6407185628742516   \n",
       "20  0.7414383561643836  0.7453001644618411  0.6586826347305389   \n",
       "21                 NaN                 NaN                 NaN   \n",
       "22                 NaN                 NaN                 NaN   \n",
       "23                 NaN                 NaN                 NaN   \n",
       "24  0.7337328767123288   0.751329134013886   0.656686626746507   \n",
       "25  0.7371575342465754   0.763926767775605  0.6766467065868264   \n",
       "26  0.7183219178082192  0.7613660527696443  0.6826347305389222   \n",
       "27  0.9965753424657534  0.6773390359691351  0.5948103792415169   \n",
       "28  0.9965753424657534  0.6650761634066054  0.5548902195608783   \n",
       "29  0.9965753424657534  0.6808591956180623  0.6087824351297405   \n",
       "30  0.9957191780821918  0.6855351312267458  0.5748502994011976   \n",
       "31  0.9922945205479452  0.6772545852058451  0.5449101796407185   \n",
       "32   0.988013698630137  0.6794017892723706  0.5608782435129741   \n",
       "33  0.9648972602739726  0.6714358323164747  0.5848303393213573   \n",
       "34  0.8861301369863014  0.7044564802146449  0.5768463073852296   \n",
       "35  0.9845890410958904  0.7131202253194088  0.6586826347305389   \n",
       "36  0.9708904109589042  0.6790752716061352  0.6307385229540918   \n",
       "37  0.9965753424657534  0.7592444220391169  0.6806387225548902   \n",
       "38  0.9957191780821918  0.7424247996167235  0.6926147704590818   \n",
       "39  0.9940068493150684  0.7501467188440547  0.6726546906187625   \n",
       "40   0.988013698630137  0.7432681239411656  0.6826347305389222   \n",
       "41  0.9648972602739726  0.7528564962268982  0.6726546906187625   \n",
       "42  0.8861301369863014  0.7454996312857085  0.6367265469061876   \n",
       "\n",
       "            Unnamed: 7          Unnamed: 8           Unnamed: 9  \\\n",
       "0                  NaN                 NaN                  NaN   \n",
       "1                  NaN                 NaN             qcut = 3   \n",
       "2          Train Score            F1 Score           Test Score   \n",
       "3   0.7029109589041096  0.6364910259862956   0.5748502994011976   \n",
       "4   0.6832191780821918  0.6238284474417072   0.5768463073852296   \n",
       "5   0.7200342465753424  0.6476098894359276   0.5748502994011976   \n",
       "6   0.7046232876712328  0.6339971169798014   0.5868263473053892   \n",
       "7   0.7037671232876712  0.6462814716288492   0.5708582834331337   \n",
       "8   0.7080479452054794  0.6565264128283594    0.592814371257485   \n",
       "9   0.7037671232876712  0.6678484322248519   0.6027944111776448   \n",
       "10  0.6934931506849316  0.6407384635354003   0.5868263473053892   \n",
       "11  0.6427145708582834   0.619490191959909   0.5728542914171657   \n",
       "12  0.6986301369863014  0.6266648045475471   0.5808383233532934   \n",
       "13   0.728595890410959  0.6457693605245658   0.5708582834331337   \n",
       "14  0.6986301369863014  0.6347253208142317    0.590818363273453   \n",
       "15  0.6823630136986302  0.6510128948452301   0.5588822355289421   \n",
       "16  0.7080479452054794  0.6524735048982329   0.5848303393213573   \n",
       "17   0.690068493150685  0.6338576175309558   0.6127744510978044   \n",
       "18  0.6763698630136986  0.6377570585156803    0.590818363273453   \n",
       "19               0.625   0.500415227938284   0.6027944111776448   \n",
       "20  0.6669520547945206  0.5646568464584073   0.5948103792415169   \n",
       "21                 NaN                 NaN                  NaN   \n",
       "22                 NaN                 NaN                  NaN   \n",
       "23                 NaN                 NaN                  NaN   \n",
       "24  0.6523972602739726  0.5466796694755524   0.6007984031936128   \n",
       "25   0.678082191780822  0.6030252085150214    0.590818363273453   \n",
       "26   0.684931506849315  0.6376956511915421   0.5828343313373253   \n",
       "27  0.9940068493150684  0.5977746969424984   0.5149700598802395   \n",
       "28  0.9940068493150684  0.5544490755017427  0.48303393213572854   \n",
       "29  0.9940068493150684  0.6113662186658948   0.5029940119760479   \n",
       "30  0.9922945205479452  0.5790397795598679   0.5089820359281437   \n",
       "31  0.9888698630136986  0.5562543028285228   0.5289421157684631   \n",
       "32   0.990582191780822  0.5693401972538316   0.5389221556886228   \n",
       "33  0.9623287671232876  0.5923896611969436   0.5608782435129741   \n",
       "34  0.8741438356164384  0.5776716470743397   0.5369261477045908   \n",
       "35  0.9717465753424658  0.6366354947902605   0.5848303393213573   \n",
       "36  0.9777397260273972  0.5970154068132827   0.5449101796407185   \n",
       "37  0.9940068493150684  0.6464757703561269   0.6387225548902196   \n",
       "38  0.9922945205479452  0.6584825019295603   0.6067864271457086   \n",
       "39  0.9888698630136986  0.6448837912463852   0.6007984031936128   \n",
       "40   0.990582191780822  0.6453444961927997   0.6127744510978044   \n",
       "41  0.9623287671232876  0.6452780643130789   0.5948103792415169   \n",
       "42  0.8741438356164384  0.6183451189305833    0.562874251497006   \n",
       "\n",
       "           Unnamed: 10          Unnamed: 11          Unnamed: 12  \\\n",
       "0                  NaN                  NaN                  NaN   \n",
       "1                  NaN                  NaN               qcut4    \n",
       "2          Train Score             F1 Score           Test Score   \n",
       "3   0.6378424657534246   0.5658827374813086    0.500998003992016   \n",
       "4    0.615582191780822   0.5636234441228517  0.46706586826347307   \n",
       "5   0.6412671232876712   0.5675726702236473   0.5748502994011976   \n",
       "6   0.6284246575342466   0.5785238151220966   0.5868263473053892   \n",
       "7   0.5804794520547946   0.5745111603401701   0.5708582834331337   \n",
       "8   0.6335616438356164   0.5855343327059124    0.592814371257485   \n",
       "9   0.6018835616438356   0.5905621820151253   0.6027944111776448   \n",
       "10  0.5702054794520548   0.5769986628837687   0.5868263473053892   \n",
       "11  0.6678082191780822   0.5675230928621607  0.47904191616766467   \n",
       "12   0.627568493150685    0.572314690739257  0.45708582834331335   \n",
       "13   0.648972602739726    0.565393002326181   0.5708582834331337   \n",
       "14  0.6207191780821918   0.5949347836193118    0.590818363273453   \n",
       "15  0.5804794520547946   0.5672953003557196   0.5588822355289421   \n",
       "16  0.6446917808219178   0.5798599632878594   0.5848303393213573   \n",
       "17  0.6190068493150684   0.6083087051672093   0.6127744510978044   \n",
       "18  0.5684931506849316   0.5960732515532867    0.590818363273453   \n",
       "19  0.5924657534246576    0.596237733683406    0.499001996007984   \n",
       "20  0.6053082191780822   0.5917927360234245  0.49500998003992014   \n",
       "21                 NaN                  NaN                  NaN   \n",
       "22                 NaN                  NaN                  NaN   \n",
       "23                 NaN                  NaN                  NaN   \n",
       "24  0.5967465753424658    0.599216409826654   0.6007984031936128   \n",
       "25  0.5898972602739726   0.5946264339133676    0.590818363273453   \n",
       "26   0.565068493150685   0.5872783741710818   0.5828343313373253   \n",
       "27  0.9957191780821918    0.515155211389417  0.41916167664670656   \n",
       "28  0.9957191780821918  0.48221602486868403   0.3932135728542914   \n",
       "29  0.9957191780821918      0.5011164915188   0.5029940119760479   \n",
       "30  0.9931506849315068   0.5080357554838124   0.5089820359281437   \n",
       "31   0.990582191780822   0.5310371919505398   0.5289421157684631   \n",
       "32   0.990582191780822   0.5354811248566581   0.5389221556886228   \n",
       "33   0.949486301369863   0.5559884722184867   0.5608782435129741   \n",
       "34  0.8578767123287672   0.5273861509222646   0.5369261477045908   \n",
       "35   0.985445205479452   0.5786983055248421  0.48502994011976047   \n",
       "36  0.9777397260273972   0.5320925759816401   0.4251497005988024   \n",
       "37  0.9957191780821918   0.6335353011888741   0.6387225548902196   \n",
       "38  0.9948630136986302   0.6028602901853551   0.6067864271457086   \n",
       "39   0.990582191780822   0.5963630105816558   0.6007984031936128   \n",
       "40   0.990582191780822   0.6057151642854933   0.6127744510978044   \n",
       "41   0.949486301369863   0.5850141840089161   0.5948103792415169   \n",
       "42  0.8578767123287672   0.5550480754721954    0.562874251497006   \n",
       "\n",
       "           Unnamed: 13          Unnamed: 14  \n",
       "0                  NaN                  NaN  \n",
       "1                  NaN                  NaN  \n",
       "2          Train Score             F1 Score  \n",
       "3   0.5676369863013698  0.48639562992711394  \n",
       "4   0.5402397260273972  0.44859524251537436  \n",
       "5   0.6412671232876712   0.5675726702236473  \n",
       "6   0.6284246575342466   0.5785238151220966  \n",
       "7   0.5804794520547946   0.5745111603401701  \n",
       "8   0.6335616438356164   0.5855343327059124  \n",
       "9   0.6018835616438356   0.5905621820151253  \n",
       "10  0.5702054794520548   0.5769986628837687  \n",
       "11  0.5950342465753424   0.4624202949762358  \n",
       "12  0.5573630136986302  0.44130720930183703  \n",
       "13   0.648972602739726    0.565393002326181  \n",
       "14  0.6207191780821918   0.5949347836193118  \n",
       "15  0.5804794520547946   0.5672953003557196  \n",
       "16  0.6446917808219178   0.5798599632878594  \n",
       "17  0.6190068493150684   0.6083087051672093  \n",
       "18  0.5684931506849316   0.5960732515532867  \n",
       "19  0.4974315068493151  0.44993467294440015  \n",
       "20  0.5042808219178082  0.45485250025295115  \n",
       "21                 NaN                  NaN  \n",
       "22                 NaN                  NaN  \n",
       "23                 NaN                  NaN  \n",
       "24  0.5967465753424658    0.599216409826654  \n",
       "25  0.5898972602739726   0.5946264339133676  \n",
       "26   0.565068493150685   0.5872783741710818  \n",
       "27  0.9922945205479452   0.4161532022803636  \n",
       "28  0.9922945205479452  0.39143556867279433  \n",
       "29  0.9957191780821918      0.5011164915188  \n",
       "30  0.9931506849315068   0.5080357554838124  \n",
       "31   0.990582191780822   0.5310371919505398  \n",
       "32   0.990582191780822   0.5354811248566581  \n",
       "33   0.949486301369863   0.5559884722184867  \n",
       "34  0.8578767123287672   0.5273861509222646  \n",
       "35  0.9777397260273972   0.4782391963418588  \n",
       "36  0.9794520547945206  0.41363584968863853  \n",
       "37  0.9957191780821918   0.6335353011888741  \n",
       "38  0.9948630136986302   0.6028602901853551  \n",
       "39   0.990582191780822   0.5963630105816558  \n",
       "40   0.990582191780822   0.6057151642854933  \n",
       "41   0.949486301369863   0.5850141840089161  \n",
       "42  0.8578767123287672   0.5550480754721954  "
      ]
     },
     "execution_count": 272,
     "metadata": {},
     "output_type": "execute_result"
    }
   ],
   "source": [
    "score"
   ]
  },
  {
   "cell_type": "markdown",
   "metadata": {},
   "source": [
    "# Test - Tuning parameters for qcut=3 RandomForest "
   ]
  },
  {
   "cell_type": "code",
   "execution_count": 340,
   "metadata": {},
   "outputs": [
    {
     "name": "stdout",
     "output_type": "stream",
     "text": [
      "\n",
      "RF score:  0.6387225548902196\n",
      "RF train_set score:  0.9957191780821918\n",
      "RF f1:  0.6335353011888741\n",
      "              precision    recall  f1-score   support\n",
      "\n",
      "           1       0.72      0.79      0.75       222\n",
      "           2       0.54      0.48      0.51       161\n",
      "           3       0.59      0.56      0.57       118\n",
      "\n",
      "   micro avg       0.64      0.64      0.64       501\n",
      "   macro avg       0.62      0.61      0.61       501\n",
      "weighted avg       0.63      0.64      0.63       501\n",
      "\n",
      "Index(['Job_class', 'Experience', 'Contract_cdi', 'Location_33', 'Location_44',\n",
      "       'Location_69', 'Location_75', 'data', 'statistique', 'analyse', 'ml',\n",
      "       'dl', 'algorithmes', 'bases de données', 'excel', 'BI', 'IA', 'python',\n",
      "       'visualisation', 'ann', 'gan', 'sql', 'mysql', 'mongo', 'nosql', 'sas',\n",
      "       'spark', 'big data', 'scala', 'tableau', 'fullstack', 'frontend',\n",
      "       'backend', 'design', 'mobile', 'test', 'maintenance', 'déploiement',\n",
      "       'cloud', 'js', 'html', 'css', 'java', 'c#', 'c++', 'swift', 'ruby',\n",
      "       'php', 'docker', '.net', 'aws', 'azure', 'api', 'angularjs',\n",
      "       'bootstrap', 'django', 'jquery', 'frameworks', 'poo', 'git', 'linux',\n",
      "       'symfony', 'jenkins', 'saas', 'mvc', 'android', 'kubernetes',\n",
      "       'postgresql', 'elasticsearch', 'erp', 'finance', 'assurance',\n",
      "       'transport', 'santé', 'luxe', 'bancaire', 'anglais', 'agile',\n",
      "       'international', 'startup'],\n",
      "      dtype='object')\n"
     ]
    }
   ],
   "source": [
    "##RFE80\n",
    "x = dummy1.iloc[:, 5:]\n",
    "y = dummy1['Salary_group_qcut3']\n",
    "\n",
    "x_train, x_test, y_train, y_test = train_test_split(x, y, test_size = 0.3, random_state=0)\n",
    "\n",
    "estimator = RandomForestClassifier(n_estimators = 100, random_state=0)\n",
    "selector1 = RFE(estimator, 80, step=1)\n",
    "selector1 = selector1.fit(x_train, y_train) \n",
    "print('\\nRF score: ', selector1.score(x_test, y_test))\n",
    "print('RF train_set score: ', selector1.score(x_train, y_train))\n",
    "print('RF f1: ', f1_score(y_test, selector1.predict(x_test), average='weighted'))\n",
    "print(classification_report(y_test, selector1.predict(x_test)))\n",
    "col_rf_80 = dummy1.iloc[:, 5:].columns[selector1.get_support()]\n",
    "print(col_rf_80)"
   ]
  },
  {
   "cell_type": "code",
   "execution_count": 344,
   "metadata": {},
   "outputs": [
    {
     "name": "stdout",
     "output_type": "stream",
     "text": [
      "0.5708582834331337\n",
      "0.9845890410958904\n",
      "0.5652901073131835\n",
      "              precision    recall  f1-score   support\n",
      "\n",
      "           1       0.67      0.73      0.70       222\n",
      "           2       0.46      0.40      0.43       161\n",
      "           3       0.50      0.49      0.50       118\n",
      "\n",
      "   micro avg       0.57      0.57      0.57       501\n",
      "   macro avg       0.54      0.54      0.54       501\n",
      "weighted avg       0.56      0.57      0.57       501\n",
      "\n"
     ]
    },
    {
     "name": "stderr",
     "output_type": "stream",
     "text": [
      "/anaconda3/lib/python3.7/site-packages/sklearn/ensemble/forest.py:246: FutureWarning: The default value of n_estimators will change from 10 in version 0.20 to 100 in 0.22.\n",
      "  \"10 in version 0.20 to 100 in 0.22.\", FutureWarning)\n",
      "/anaconda3/lib/python3.7/site-packages/sklearn/ensemble/forest.py:246: FutureWarning: The default value of n_estimators will change from 10 in version 0.20 to 100 in 0.22.\n",
      "  \"10 in version 0.20 to 100 in 0.22.\", FutureWarning)\n"
     ]
    }
   ],
   "source": [
    "##Compare RFE 80 with RandomForest feature importances 80\n",
    "\n",
    "x = dummy1.iloc[:, 5:]\n",
    "y = dummy1['Salary_group_qcut3']\n",
    "x_train, x_test, y_train, y_test = train_test_split(x, y, test_size = 0.3, random_state=0)\n",
    "\n",
    "rfc = RandomForestClassifier(random_state=0)\n",
    "rfc.fit(x_train, y_train)\n",
    "\n",
    "importances = rfc.feature_importances_\n",
    "indices = np.argsort(importances)[::-1] # Sort feature importances in descending order\n",
    "names = [x_train.columns[i] for i in indices]\n",
    "\n",
    "f80 = pd.concat([dummy1[names[0:81]], dummy1['Salary_group_qcut3']], axis = 1)\n",
    "\n",
    "x = f80.iloc[:, :-1]\n",
    "y = f80['Salary_group_qcut3']\n",
    "x_train, x_test, y_train, y_test = train_test_split(x, y, test_size = 0.3, random_state=0)\n",
    "\n",
    "rfc80 = RandomForestClassifier(random_state=0)\n",
    "rfc80.fit(x_train, y_train)\n",
    "print(rfc80.score(x_test, y_test))\n",
    "print(rfc80.score(x_train,y_train))\n",
    "print(f1_score(y_test, rfc80.predict(x_test), average='weighted'))\n",
    "print(classification_report(y_test, rfc80.predict(x_test)))"
   ]
  },
  {
   "cell_type": "code",
   "execution_count": 346,
   "metadata": {},
   "outputs": [],
   "source": [
    "##rfe 80\n",
    "##80 columns of features \n",
    "df_rfe80 = dummy1[['Job_class', 'Experience', 'Contract_cdi', 'Location_33', 'Location_44',\n",
    "       'Location_69', 'Location_75', 'data', 'statistique', 'analyse', 'ml',\n",
    "       'dl', 'algorithmes', 'bases de données', 'excel', 'BI', 'IA', 'python',\n",
    "       'visualisation', 'ann', 'gan', 'sql', 'mysql', 'mongo', 'nosql', 'sas',\n",
    "       'spark', 'big data', 'scala', 'tableau', 'fullstack', 'frontend',\n",
    "       'backend', 'design', 'mobile', 'test', 'maintenance', 'déploiement',\n",
    "       'cloud', 'js', 'html', 'css', 'java', 'c#', 'c++', 'swift', 'ruby',\n",
    "       'php', 'docker', '.net', 'aws', 'azure', 'api', 'angularjs',\n",
    "       'bootstrap', 'django', 'jquery', 'frameworks', 'poo', 'git', 'linux',\n",
    "       'symfony', 'jenkins', 'saas', 'mvc', 'android', 'kubernetes',\n",
    "       'postgresql', 'elasticsearch', 'erp', 'finance', 'assurance',\n",
    "       'transport', 'santé', 'luxe', 'bancaire', 'anglais', 'agile',\n",
    "       'international', 'startup']]"
   ]
  },
  {
   "cell_type": "code",
   "execution_count": 348,
   "metadata": {},
   "outputs": [],
   "source": [
    "##Add y column\n",
    "df_rfe80 = pd.concat([df_rfe80, dummy1['Salary_group_qcut3']], axis = 1)"
   ]
  },
  {
   "cell_type": "code",
   "execution_count": 357,
   "metadata": {},
   "outputs": [
    {
     "name": "stdout",
     "output_type": "stream",
     "text": [
      "0.6387225548902196\n",
      "0.9957191780821918\n",
      "0.6335353011888741\n",
      "              precision    recall  f1-score   support\n",
      "\n",
      "           1       0.72      0.79      0.75       222\n",
      "           2       0.54      0.48      0.51       161\n",
      "           3       0.59      0.56      0.57       118\n",
      "\n",
      "   micro avg       0.64      0.64      0.64       501\n",
      "   macro avg       0.62      0.61      0.61       501\n",
      "weighted avg       0.63      0.64      0.63       501\n",
      "\n"
     ]
    }
   ],
   "source": [
    "###Take the first 80 columns according to RFE\n",
    "x = df_rfe80.iloc[:, :-1]\n",
    "y = df_rfe80['Salary_group_qcut3']\n",
    "\n",
    "x_train, x_test, y_train, y_test = train_test_split(x, y, test_size = 0.3, random_state=0)\n",
    "\n",
    "rfc = RandomForestClassifier(n_estimators = 100, random_state=0)\n",
    "rfc.fit(x_train, y_train)\n",
    "\n",
    "print(rfc.score(x_test, y_test))\n",
    "print(rfc.score(x_train,y_train))\n",
    "print(f1_score(y_test, rfc.predict(x_test), average='weighted'))\n",
    "print(classification_report(y_test, rfc.predict(x_test)))"
   ]
  },
  {
   "cell_type": "markdown",
   "metadata": {},
   "source": [
    "# Tuning n_estimators "
   ]
  },
  {
   "cell_type": "code",
   "execution_count": 358,
   "metadata": {},
   "outputs": [
    {
     "name": "stdout",
     "output_type": "stream",
     "text": [
      "0.5755381218560647 131\n"
     ]
    },
    {
     "data": {
      "image/png": "[encoded data removed]",
      "text/plain": [
       "<Figure size 1440x360 with 1 Axes>"
      ]
     },
     "metadata": {
      "needs_background": "light"
     },
     "output_type": "display_data"
    }
   ],
   "source": [
    "import matplotlib.pyplot as plt\n",
    "scorel = []\n",
    "\n",
    "for i in range(0, 300, 10):\n",
    "    rfc = RandomForestClassifier(n_estimators=i+1, random_state=0)\n",
    "    score = cross_val_score(rfc, x_train, y_train, cv=10).mean()\n",
    "    scorel.append(score)\n",
    "\n",
    "print(max(scorel), (scorel.index(max(scorel))*10+1))\n",
    "\n",
    "plt.figure(figsize=[20, 5])\n",
    "plt.plot(range(1, 301, 10), scorel)\n",
    "plt.show()"
   ]
  },
  {
   "cell_type": "code",
   "execution_count": 359,
   "metadata": {},
   "outputs": [
    {
     "name": "stdout",
     "output_type": "stream",
     "text": [
      "0.5764148021599804 127\n"
     ]
    },
    {
     "data": {
      "image/png": "[encoded data removed]",
      "text/plain": [
       "<Figure size 1440x360 with 1 Axes>"
      ]
     },
     "metadata": {
      "needs_background": "light"
     },
     "output_type": "display_data"
    }
   ],
   "source": [
    "scorel = []\n",
    "\n",
    "for i in range(125, 135):\n",
    "    rfc = RandomForestClassifier(n_estimators=i+1, random_state=0)\n",
    "    score = cross_val_score(rfc, x_train, y_train, cv=10).mean()\n",
    "    scorel.append(score)\n",
    "\n",
    "print(max(scorel), ([*range(125, 135)][scorel.index(max(scorel))]))\n",
    "\n",
    "plt.figure(figsize=[20, 5])\n",
    "plt.plot(range(125, 135), scorel)\n",
    "plt.show()"
   ]
  },
  {
   "cell_type": "markdown",
   "metadata": {},
   "source": [
    "# Tuning criterion"
   ]
  },
  {
   "cell_type": "code",
   "execution_count": 366,
   "metadata": {},
   "outputs": [
    {
     "name": "stdout",
     "output_type": "stream",
     "text": [
      "0.6347305389221557\n",
      "0.9957191780821918\n",
      "0.628217507072281\n",
      "              precision    recall  f1-score   support\n",
      "\n",
      "           1       0.71      0.80      0.75       222\n",
      "           2       0.56      0.49      0.52       161\n",
      "           3       0.56      0.52      0.54       118\n",
      "\n",
      "   micro avg       0.63      0.63      0.63       501\n",
      "   macro avg       0.61      0.60      0.60       501\n",
      "weighted avg       0.63      0.63      0.63       501\n",
      "\n",
      "0.6207584830339321\n",
      "0.9957191780821918\n",
      "0.6137779961625265\n",
      "              precision    recall  f1-score   support\n",
      "\n",
      "           1       0.71      0.79      0.75       222\n",
      "           2       0.51      0.44      0.47       161\n",
      "           3       0.57      0.54      0.55       118\n",
      "\n",
      "   micro avg       0.62      0.62      0.62       501\n",
      "   macro avg       0.59      0.59      0.59       501\n",
      "weighted avg       0.61      0.62      0.61       501\n",
      "\n"
     ]
    }
   ],
   "source": [
    "c = RandomForestClassifier(n_estimators=127, criterion = 'gini', random_state=20)\n",
    "c.fit(x_train, y_train)\n",
    "print(c.score(x_test, y_test))\n",
    "print(c.score(x_train,y_train))\n",
    "print(f1_score(y_test, c.predict(x_test), average='weighted'))\n",
    "print(classification_report(y_test, c.predict(x_test)))\n",
    "      \n",
    "c = RandomForestClassifier(n_estimators=127, criterion = 'entropy', random_state=20)\n",
    "c.fit(x_train, y_train)\n",
    "print(c.score(x_test, y_test))\n",
    "print(c.score(x_train,y_train))\n",
    "print(f1_score(y_test, c.predict(x_test), average='weighted'))\n",
    "print(classification_report(y_test, c.predict(x_test)))"
   ]
  },
  {
   "cell_type": "markdown",
   "metadata": {},
   "source": [
    "# Tuning max_depth"
   ]
  },
  {
   "cell_type": "code",
   "execution_count": 367,
   "metadata": {},
   "outputs": [
    {
     "name": "stdout",
     "output_type": "stream",
     "text": [
      "0.5891767447436647 12\n"
     ]
    },
    {
     "data": {
      "image/png": "[encoded data removed]",
      "text/plain": [
       "<Figure size 1440x360 with 1 Axes>"
      ]
     },
     "metadata": {
      "needs_background": "light"
     },
     "output_type": "display_data"
    }
   ],
   "source": [
    "scorel = []\n",
    "\n",
    "for i in range(2, 20):\n",
    "    rfc = RandomForestClassifier(n_estimators=127, criterion = 'gini', max_depth = i+1, random_state=0)\n",
    "    score = cross_val_score(rfc, x_train, y_train, cv=10).mean()\n",
    "    scorel.append(score)\n",
    "\n",
    "print(max(scorel), ([*range(2, 20)][scorel.index(max(scorel))]))\n",
    "\n",
    "plt.figure(figsize=[20, 5])\n",
    "plt.plot(range(2, 20), scorel)\n",
    "plt.show()"
   ]
  },
  {
   "cell_type": "code",
   "execution_count": 370,
   "metadata": {},
   "outputs": [
    {
     "name": "stdout",
     "output_type": "stream",
     "text": [
      "0.5891767447436647 12\n"
     ]
    },
    {
     "data": {
      "image/png": "[encoded data removed]",
      "text/plain": [
       "<Figure size 1440x360 with 1 Axes>"
      ]
     },
     "metadata": {
      "needs_background": "light"
     },
     "output_type": "display_data"
    }
   ],
   "source": [
    "scorel = []\n",
    "\n",
    "for i in range(10, 15):\n",
    "    rfc = RandomForestClassifier(n_estimators=127, criterion = 'gini', max_depth = i+1, random_state=0)\n",
    "    score = cross_val_score(rfc, x_train, y_train, cv=10).mean()\n",
    "    scorel.append(score)\n",
    "\n",
    "print(max(scorel), ([*range(10, 15)][scorel.index(max(scorel))]))\n",
    "\n",
    "plt.figure(figsize=[20, 5])\n",
    "plt.plot(range(10, 15), scorel)\n",
    "plt.show()"
   ]
  },
  {
   "cell_type": "code",
   "execution_count": 371,
   "metadata": {},
   "outputs": [
    {
     "name": "stdout",
     "output_type": "stream",
     "text": [
      "0.6207584830339321\n",
      "0.925513698630137\n",
      "0.6111820262978278\n",
      "              precision    recall  f1-score   support\n",
      "\n",
      "           1       0.69      0.81      0.75       222\n",
      "           2       0.54      0.43      0.48       161\n",
      "           3       0.54      0.52      0.53       118\n",
      "\n",
      "   micro avg       0.62      0.62      0.62       501\n",
      "   macro avg       0.59      0.59      0.59       501\n",
      "weighted avg       0.61      0.62      0.61       501\n",
      "\n"
     ]
    }
   ],
   "source": [
    "rfc = RandomForestClassifier(n_estimators=127, criterion = 'gini', max_depth = 12, random_state=0)\n",
    "rfc.fit(x_train, y_train)\n",
    "print(rfc.score(x_test, y_test))\n",
    "print(rfc.score(x_train,y_train))\n",
    "print(f1_score(y_test, rfc.predict(x_test), average='weighted'))\n",
    "print(classification_report(y_test, rfc.predict(x_test)))"
   ]
  },
  {
   "cell_type": "markdown",
   "metadata": {},
   "source": [
    "# Tuning min_samples_split"
   ]
  },
  {
   "cell_type": "code",
   "execution_count": 374,
   "metadata": {},
   "outputs": [
    {
     "name": "stdout",
     "output_type": "stream",
     "text": [
      "0.5814695759464901 4\n"
     ]
    },
    {
     "data": {
      "image/png": "[encoded data removed]",
      "text/plain": [
       "<Figure size 1440x360 with 1 Axes>"
      ]
     },
     "metadata": {
      "needs_background": "light"
     },
     "output_type": "display_data"
    }
   ],
   "source": [
    "scorel = []\n",
    "\n",
    "for i in range(1, 20):\n",
    "    rfc = RandomForestClassifier(n_estimators=127, criterion = 'gini', max_depth = 12, min_samples_split = i+1, \\\n",
    "                                 random_state=0)\n",
    "    score = cross_val_score(rfc, x_train, y_train, cv=10).mean()\n",
    "    scorel.append(score)\n",
    "\n",
    "print(max(scorel), ([*range(1, 20)][scorel.index(max(scorel))]))\n",
    "\n",
    "plt.figure(figsize=[20, 5])\n",
    "plt.plot(range(1, 20), scorel)\n",
    "plt.show()"
   ]
  },
  {
   "cell_type": "markdown",
   "metadata": {},
   "source": [
    "# Tuning max_features"
   ]
  },
  {
   "cell_type": "code",
   "execution_count": 389,
   "metadata": {},
   "outputs": [
    {
     "name": "stdout",
     "output_type": "stream",
     "text": [
      "0.5849328377966602 20\n"
     ]
    },
    {
     "data": {
      "image/png": "[encoded data removed]",
      "text/plain": [
       "<Figure size 1440x360 with 1 Axes>"
      ]
     },
     "metadata": {
      "needs_background": "light"
     },
     "output_type": "display_data"
    }
   ],
   "source": [
    "scorel = []\n",
    "\n",
    "for i in range(10, 80):\n",
    "    rfc = RandomForestClassifier(n_estimators=121, criterion = 'gini', max_depth = 12, \\\n",
    "                                 max_features = i+1, random_state=0)\n",
    "    score = cross_val_score(rfc, x_train, y_train, cv=10).mean()\n",
    "    scorel.append(score)\n",
    "\n",
    "print(max(scorel), ([*range(10, 80)][scorel.index(max(scorel))]))\n",
    "\n",
    "plt.figure(figsize=[20, 5])\n",
    "plt.plot(range(10, 80), scorel)\n",
    "plt.show()"
   ]
  },
  {
   "cell_type": "code",
   "execution_count": null,
   "metadata": {},
   "outputs": [],
   "source": []
  },
  {
   "cell_type": "markdown",
   "metadata": {},
   "source": [
    "# Test - GridSearchCV (it takes too long to run the following code. No result.)"
   ]
  },
  {
   "cell_type": "code",
   "execution_count": null,
   "metadata": {},
   "outputs": [],
   "source": [
    "x = df_rfe80.iloc[:, :-1]\n",
    "y = df_rfe80['Salary_group_qcut3']\n",
    "\n",
    "x_train, x_test, y_train, y_test = train_test_split(x, y, test_size = 0.3, random_state=0)\n",
    "\n",
    "rfc = RandomForestClassifier(random_state=0)\n",
    "\n",
    "params = {'n_estimators': np.arange(100, 200, 10), \n",
    "          'max_depth': np.arange(2, 20, 2),\n",
    "          'max_features': np.arange(10, 80, 5), \n",
    "          'min_samples_split': np.arange(2, 20, 1),\n",
    "          'min_samples_leaf': np.arange(2, 10, 1)}\n",
    "\n",
    "gs = GridSearchCV(rfc, params, cv=10) \n",
    "gs.fit(x_train, y_train)\n",
    "\n",
    "clf = gs.best_estimator_\n",
    "\n",
    "print('Best params: ', gs.best_params_)\n",
    "print('Test Score: ', clf.score(x_test, y_test))\n",
    "print('Train Score: ', clf.score(x_train, y_train))\n",
    "print('F1 score: ', f1_score(y_test, clf.predict(x_test)))"
   ]
  },
  {
   "cell_type": "code",
   "execution_count": null,
   "metadata": {},
   "outputs": [],
   "source": [
    "importances = clf.feature_importances_\n",
    "indices = np.argsort(importances)[::-1] # Sort feature importances in descending order\n",
    "names = [x_train.columns[i] for i in indices] # Rearrange feature names so they match the sorted feature importances\n",
    "plt.figure(figsize=(15, 7)) # Create plot\n",
    "plt.title(\"Feature Importance\") # Create plot title\n",
    "plt.bar(range(x_train.shape[1]), importances[indices]) # Add bars\n",
    "plt.xticks(range(x_train.shape[1]), names, rotation=90) # Add feature names as x-axis labels\n",
    "plt.show() # Show plot"
   ]
  },
  {
   "cell_type": "markdown",
   "metadata": {},
   "source": [
    "# Tuning SVC Linear (kbest30, cut=3)"
   ]
  },
  {
   "cell_type": "code",
   "execution_count": 434,
   "metadata": {},
   "outputs": [
    {
     "name": "stdout",
     "output_type": "stream",
     "text": [
      "\n",
      "SVM Linear score:  0.7764471057884231\n",
      "SVM Linear train_set score:  0.7294520547945206\n",
      "SVM Linear f1:  0.7644746725711471\n",
      "              precision    recall  f1-score   support\n",
      "\n",
      "           1       0.77      0.92      0.84       313\n",
      "           2       0.79      0.55      0.65       187\n",
      "           3       0.00      0.00      0.00         1\n",
      "\n",
      "   micro avg       0.78      0.78      0.78       501\n",
      "   macro avg       0.52      0.49      0.49       501\n",
      "weighted avg       0.78      0.78      0.76       501\n",
      "\n"
     ]
    },
    {
     "name": "stderr",
     "output_type": "stream",
     "text": [
      "/anaconda3/lib/python3.7/site-packages/sklearn/metrics/classification.py:1143: UndefinedMetricWarning: F-score is ill-defined and being set to 0.0 in labels with no predicted samples.\n",
      "  'precision', 'predicted', average, warn_for)\n",
      "/anaconda3/lib/python3.7/site-packages/sklearn/metrics/classification.py:1143: UndefinedMetricWarning: Precision and F-score are ill-defined and being set to 0.0 in labels with no predicted samples.\n",
      "  'precision', 'predicted', average, warn_for)\n",
      "/anaconda3/lib/python3.7/site-packages/sklearn/metrics/classification.py:1143: UndefinedMetricWarning: Precision and F-score are ill-defined and being set to 0.0 in labels with no predicted samples.\n",
      "  'precision', 'predicted', average, warn_for)\n",
      "/anaconda3/lib/python3.7/site-packages/sklearn/metrics/classification.py:1143: UndefinedMetricWarning: Precision and F-score are ill-defined and being set to 0.0 in labels with no predicted samples.\n",
      "  'precision', 'predicted', average, warn_for)\n"
     ]
    }
   ],
   "source": [
    "x = dummy1.iloc[:, 5:]\n",
    "y = dummy1['Salary_group_cut3']\n",
    "\n",
    "kbest30 = SelectKBest(chi2, k=30)\n",
    "x30 = kbest30.fit_transform(x, y)\n",
    "\n",
    "x_train, x_test, y_train, y_test = train_test_split(x30, y, test_size = 0.3, random_state=0)\n",
    "\n",
    "mask = kbest30.get_support()\n",
    "new_features = dummy1.iloc[:, 5:].columns[mask]\n",
    "\n",
    "svm = SVC(kernel = 'linear', random_state=0)\n",
    "score = cross_svm.fit(x_train, y_train)\n",
    "print('\\nSVM Linear score: ', svm.score(x_test, y_test))\n",
    "print('SVM Linear train_set score: ', svm.score(x_train, y_train))\n",
    "print('SVM Linear f1: ', f1_score(y_test, svm.predict(x_test), average='weighted'))\n",
    "print(classification_report(y_test, svm.predict(x_test)))"
   ]
  },
  {
   "cell_type": "code",
   "execution_count": 445,
   "metadata": {},
   "outputs": [
    {
     "name": "stdout",
     "output_type": "stream",
     "text": [
      "Best params:  {'C': 0.05, 'decision_function_shape': 'ovr'}\n",
      "Test Score:  0.7544910179640718\n",
      "Train Score:  0.7226027397260274\n",
      "f1 score:  0.7392834847729759\n"
     ]
    },
    {
     "name": "stderr",
     "output_type": "stream",
     "text": [
      "/anaconda3/lib/python3.7/site-packages/sklearn/metrics/classification.py:1143: UndefinedMetricWarning: F-score is ill-defined and being set to 0.0 in labels with no predicted samples.\n",
      "  'precision', 'predicted', average, warn_for)\n"
     ]
    }
   ],
   "source": [
    "svm = SVC(kernel='linear', random_state=10)\n",
    "\n",
    "params = {'C': [0.01, 0.03, 0.045, 0.05, 0.051, 0.08, 0.1], 'decision_function_shape': ['ovr', 'ovo'], \n",
    "         'class_weight' : [None, 'balanced']}\n",
    "gs = GridSearchCV(svm, params, cv=10) \n",
    "\n",
    "gs.fit(x_train, y_train)\n",
    "print('Best params: ', grid_k_linear.best_params_)\n",
    "\n",
    "clf = gs.best_estimator_\n",
    "\n",
    "y_pred = clf.predict(x_test)\n",
    "\n",
    "\n",
    "print('Test Score: ', clf.score(x_test, y_test))\n",
    "print('Train Score: ', clf.score(x_train, y_train))\n",
    "print('f1 score: ', f1_score(y_test, clf.predict(x_test), average='weighted'))"
   ]
  },
  {
   "cell_type": "markdown",
   "metadata": {},
   "source": []
  },
  {
   "cell_type": "code",
   "execution_count": null,
   "metadata": {},
   "outputs": [],
   "source": []
  },
  {
   "cell_type": "code",
   "execution_count": null,
   "metadata": {},
   "outputs": [],
   "source": []
  }
 ],
 "metadata": {
  "kernelspec": {
   "display_name": "Python 3",
   "language": "python",
   "name": "python3"
  },
  "language_info": {
   "codemirror_mode": {
    "name": "ipython",
    "version": 3
   },
   "file_extension": ".py",
   "mimetype": "text/x-python",
   "name": "python",
   "nbconvert_exporter": "python",
   "pygments_lexer": "ipython3",
   "version": "3.7.3"
  }
 },
 "nbformat": 4,
 "nbformat_minor": 2
}
